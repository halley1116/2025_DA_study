{
 "cells": [
  {
   "cell_type": "code",
   "execution_count": 1,
   "metadata": {},
   "outputs": [],
   "source": [
    "# 필수 라이브러리 임포트\n",
    "import pandas as pd\n",
    "import numpy as np\n",
    "import matplotlib.pyplot as plt\n",
    "import seaborn as sns\n",
    "from sklearn.preprocessing import StandardScaler, LabelEncoder\n",
    "from sklearn.model_selection import train_test_split, GridSearchCV\n",
    "from sklearn.metrics import mean_squared_error, r2_score\n",
    "from sklearn.linear_model import LinearRegression\n",
    "from sklearn.ensemble import RandomForestRegressor, GradientBoostingRegressor"
   ]
  },
  {
   "cell_type": "markdown",
   "metadata": {},
   "source": [
    "age: 개인의 나이 (연령)\n",
    "\n",
    "gender: 개인의 성별 [male, female]\n",
    "\n",
    "bmi: 체질량지수\n",
    "\n",
    "children: 부양 가족 수 또는 자녀 수\n",
    "\n",
    "smoker: 흡연 여부 [TRUE, FALSE]\n",
    "\n",
    "region: 거주 지역 [northeast, southwest, northwest, southeast]\n",
    "\n",
    "medical_history: 개인의 주요 의료 이력 [None, Heart disease, High blood pressure, Diabetes]\n",
    "\n",
    "family_medical_history: 가족의 주요 의료 이력 [None, Heart disease, High blood pressure, Diabetes]\n",
    "\n",
    "exercise_frequency: 개인의 운동 빈도 [Rarely, Occasionally, Frequently, Never]\n",
    "\n",
    "occupation: 직업 유형 [Unemployed, Student, Blue collar, White collar]\n",
    "\n",
    "coverage_level: 보험 보장 수준 [Basic, Standard, Premium]\n",
    "\n",
    "charges: 보험 청구 금액"
   ]
  },
  {
   "cell_type": "code",
   "execution_count": 2,
   "metadata": {},
   "outputs": [
    {
     "data": {
      "text/html": [
       "<div>\n",
       "<style scoped>\n",
       "    .dataframe tbody tr th:only-of-type {\n",
       "        vertical-align: middle;\n",
       "    }\n",
       "\n",
       "    .dataframe tbody tr th {\n",
       "        vertical-align: top;\n",
       "    }\n",
       "\n",
       "    .dataframe thead th {\n",
       "        text-align: right;\n",
       "    }\n",
       "</style>\n",
       "<table border=\"1\" class=\"dataframe\">\n",
       "  <thead>\n",
       "    <tr style=\"text-align: right;\">\n",
       "      <th></th>\n",
       "      <th>age</th>\n",
       "      <th>gender</th>\n",
       "      <th>bmi</th>\n",
       "      <th>children</th>\n",
       "      <th>smoker</th>\n",
       "      <th>region</th>\n",
       "      <th>medical_history</th>\n",
       "      <th>family_medical_history</th>\n",
       "      <th>exercise_frequency</th>\n",
       "      <th>occupation</th>\n",
       "      <th>coverage_level</th>\n",
       "      <th>charges</th>\n",
       "    </tr>\n",
       "  </thead>\n",
       "  <tbody>\n",
       "    <tr>\n",
       "      <th>0</th>\n",
       "      <td>46</td>\n",
       "      <td>male</td>\n",
       "      <td>21.45</td>\n",
       "      <td>5</td>\n",
       "      <td>yes</td>\n",
       "      <td>southeast</td>\n",
       "      <td>Diabetes</td>\n",
       "      <td>NaN</td>\n",
       "      <td>Never</td>\n",
       "      <td>Blue collar</td>\n",
       "      <td>Premium</td>\n",
       "      <td>20460.307669</td>\n",
       "    </tr>\n",
       "    <tr>\n",
       "      <th>1</th>\n",
       "      <td>25</td>\n",
       "      <td>female</td>\n",
       "      <td>25.38</td>\n",
       "      <td>2</td>\n",
       "      <td>yes</td>\n",
       "      <td>northwest</td>\n",
       "      <td>Diabetes</td>\n",
       "      <td>High blood pressure</td>\n",
       "      <td>Occasionally</td>\n",
       "      <td>White collar</td>\n",
       "      <td>Premium</td>\n",
       "      <td>20390.899218</td>\n",
       "    </tr>\n",
       "    <tr>\n",
       "      <th>2</th>\n",
       "      <td>38</td>\n",
       "      <td>male</td>\n",
       "      <td>44.88</td>\n",
       "      <td>2</td>\n",
       "      <td>yes</td>\n",
       "      <td>southwest</td>\n",
       "      <td>NaN</td>\n",
       "      <td>High blood pressure</td>\n",
       "      <td>Occasionally</td>\n",
       "      <td>Blue collar</td>\n",
       "      <td>Premium</td>\n",
       "      <td>20204.476302</td>\n",
       "    </tr>\n",
       "    <tr>\n",
       "      <th>3</th>\n",
       "      <td>25</td>\n",
       "      <td>male</td>\n",
       "      <td>19.89</td>\n",
       "      <td>0</td>\n",
       "      <td>no</td>\n",
       "      <td>northwest</td>\n",
       "      <td>NaN</td>\n",
       "      <td>Diabetes</td>\n",
       "      <td>Rarely</td>\n",
       "      <td>White collar</td>\n",
       "      <td>Standard</td>\n",
       "      <td>11789.029843</td>\n",
       "    </tr>\n",
       "    <tr>\n",
       "      <th>4</th>\n",
       "      <td>49</td>\n",
       "      <td>male</td>\n",
       "      <td>38.21</td>\n",
       "      <td>3</td>\n",
       "      <td>yes</td>\n",
       "      <td>northwest</td>\n",
       "      <td>Diabetes</td>\n",
       "      <td>High blood pressure</td>\n",
       "      <td>Rarely</td>\n",
       "      <td>White collar</td>\n",
       "      <td>Standard</td>\n",
       "      <td>19268.309838</td>\n",
       "    </tr>\n",
       "  </tbody>\n",
       "</table>\n",
       "</div>"
      ],
      "text/plain": [
       "   age  gender    bmi  children smoker     region medical_history  \\\n",
       "0   46    male  21.45         5    yes  southeast        Diabetes   \n",
       "1   25  female  25.38         2    yes  northwest        Diabetes   \n",
       "2   38    male  44.88         2    yes  southwest             NaN   \n",
       "3   25    male  19.89         0     no  northwest             NaN   \n",
       "4   49    male  38.21         3    yes  northwest        Diabetes   \n",
       "\n",
       "  family_medical_history exercise_frequency    occupation coverage_level  \\\n",
       "0                    NaN              Never   Blue collar        Premium   \n",
       "1    High blood pressure       Occasionally  White collar        Premium   \n",
       "2    High blood pressure       Occasionally   Blue collar        Premium   \n",
       "3               Diabetes             Rarely  White collar       Standard   \n",
       "4    High blood pressure             Rarely  White collar       Standard   \n",
       "\n",
       "        charges  \n",
       "0  20460.307669  \n",
       "1  20390.899218  \n",
       "2  20204.476302  \n",
       "3  11789.029843  \n",
       "4  19268.309838  "
      ]
     },
     "execution_count": 2,
     "metadata": {},
     "output_type": "execute_result"
    }
   ],
   "source": [
    "raw_data = pd.read_csv(\"C:/Users/Owner/Desktop/insurance_dataset.csv\")\n",
    "raw_data.head()"
   ]
  },
  {
   "cell_type": "code",
   "execution_count": 3,
   "metadata": {},
   "outputs": [],
   "source": [
    "# DataFrame 생성\n",
    "data = pd.DataFrame(raw_data)\n",
    "data_copy = data.copy()"
   ]
  },
  {
   "cell_type": "code",
   "execution_count": 4,
   "metadata": {},
   "outputs": [
    {
     "name": "stdout",
     "output_type": "stream",
     "text": [
      "<class 'pandas.core.frame.DataFrame'>\n",
      "RangeIndex: 1000000 entries, 0 to 999999\n",
      "Data columns (total 12 columns):\n",
      " #   Column                  Non-Null Count    Dtype  \n",
      "---  ------                  --------------    -----  \n",
      " 0   age                     1000000 non-null  int64  \n",
      " 1   gender                  1000000 non-null  object \n",
      " 2   bmi                     1000000 non-null  float64\n",
      " 3   children                1000000 non-null  int64  \n",
      " 4   smoker                  1000000 non-null  object \n",
      " 5   region                  1000000 non-null  object \n",
      " 6   medical_history         749238 non-null   object \n",
      " 7   family_medical_history  749596 non-null   object \n",
      " 8   exercise_frequency      1000000 non-null  object \n",
      " 9   occupation              1000000 non-null  object \n",
      " 10  coverage_level          1000000 non-null  object \n",
      " 11  charges                 1000000 non-null  float64\n",
      "dtypes: float64(2), int64(2), object(8)\n",
      "memory usage: 91.6+ MB\n",
      "None\n"
     ]
    }
   ],
   "source": [
    "# 데이터 이해 코드\n",
    "print(data_copy.info())"
   ]
  },
  {
   "cell_type": "code",
   "execution_count": 5,
   "metadata": {},
   "outputs": [
    {
     "name": "stdout",
     "output_type": "stream",
     "text": [
      "                  age             bmi        children         charges\n",
      "count  1000000.000000  1000000.000000  1000000.000000  1000000.000000\n",
      "mean        41.495282       34.001839        2.499886    16735.117481\n",
      "std         13.855189        9.231680        1.707679     4415.808211\n",
      "min         18.000000       18.000000        0.000000     3445.011643\n",
      "25%         29.000000       26.020000        1.000000    13600.372379\n",
      "50%         41.000000       34.000000        2.000000    16622.127973\n",
      "75%         53.000000       41.990000        4.000000    19781.465410\n",
      "max         65.000000       50.000000        5.000000    32561.560374\n"
     ]
    }
   ],
   "source": [
    "\n",
    "print(data_copy.describe())\n"
   ]
  },
  {
   "cell_type": "code",
   "execution_count": 6,
   "metadata": {},
   "outputs": [
    {
     "name": "stdout",
     "output_type": "stream",
     "text": [
      "age                            0\n",
      "gender                         0\n",
      "bmi                            0\n",
      "children                       0\n",
      "smoker                         0\n",
      "region                         0\n",
      "medical_history           250762\n",
      "family_medical_history    250404\n",
      "exercise_frequency             0\n",
      "occupation                     0\n",
      "coverage_level                 0\n",
      "charges                        0\n",
      "dtype: int64\n"
     ]
    }
   ],
   "source": [
    "\n",
    "print(data_copy.isnull().sum())"
   ]
  },
  {
   "cell_type": "code",
   "execution_count": 7,
   "metadata": {},
   "outputs": [
    {
     "name": "stdout",
     "output_type": "stream",
     "text": [
      "\n",
      "--- 상관 계수 ---\n",
      "               age       bmi  children   charges\n",
      "age       1.000000  0.001428 -0.001317  0.063390\n",
      "bmi       0.001428  1.000000 -0.001635  0.104429\n",
      "children -0.001317 -0.001635  1.000000  0.076801\n",
      "charges   0.063390  0.104429  0.076801  1.000000\n"
     ]
    },
    {
     "data": {
      "image/png": "[encoded data removed]",
      "text/plain": [
       "<Figure size 640x480 with 2 Axes>"
      ]
     },
     "metadata": {},
     "output_type": "display_data"
    }
   ],
   "source": [
    "# 상관 분석 코드\n",
    "numerical_cols = [\"age\", \"bmi\", \"children\", \"charges\"]\n",
    "correlation_matrix = data_copy[numerical_cols].corr()\n",
    "print(\"\\n--- 상관 계수 ---\")\n",
    "print(correlation_matrix)\n",
    "\n",
    "sns.heatmap(correlation_matrix, annot=True, cmap=\"coolwarm\")\n",
    "plt.title(\"Correlation Matrix\")\n",
    "plt.show()"
   ]
  },
  {
   "cell_type": "code",
   "execution_count": 8,
   "metadata": {},
   "outputs": [
    {
     "name": "stderr",
     "output_type": "stream",
     "text": [
      "C:\\Users\\Owner\\AppData\\Local\\Temp\\ipykernel_6904\\1831194392.py:2: FutureWarning: A value is trying to be set on a copy of a DataFrame or Series through chained assignment using an inplace method.\n",
      "The behavior will change in pandas 3.0. This inplace method will never work because the intermediate object on which we are setting values always behaves as a copy.\n",
      "\n",
      "For example, when doing 'df[col].method(value, inplace=True)', try using 'df.method({col: value}, inplace=True)' or df[col] = df[col].method(value) instead, to perform the operation inplace on the original object.\n",
      "\n",
      "\n",
      "  data_copy[\"medical_history\"].fillna(\"None\", inplace=True)\n",
      "C:\\Users\\Owner\\AppData\\Local\\Temp\\ipykernel_6904\\1831194392.py:3: FutureWarning: A value is trying to be set on a copy of a DataFrame or Series through chained assignment using an inplace method.\n",
      "The behavior will change in pandas 3.0. This inplace method will never work because the intermediate object on which we are setting values always behaves as a copy.\n",
      "\n",
      "For example, when doing 'df[col].method(value, inplace=True)', try using 'df.method({col: value}, inplace=True)' or df[col] = df[col].method(value) instead, to perform the operation inplace on the original object.\n",
      "\n",
      "\n",
      "  data_copy[\"family_medical_history\"].fillna(\"None\", inplace=True)\n"
     ]
    }
   ],
   "source": [
    "# 결측값 처리 코드\n",
    "data_copy[\"medical_history\"].fillna(\"None\", inplace=True)\n",
    "data_copy[\"family_medical_history\"].fillna(\"None\", inplace=True)"
   ]
  },
  {
   "cell_type": "code",
   "execution_count": 9,
   "metadata": {},
   "outputs": [
    {
     "data": {
      "image/png": "[encoded data removed]",
      "text/plain": [
       "<Figure size 640x480 with 1 Axes>"
      ]
     },
     "metadata": {},
     "output_type": "display_data"
    },
    {
     "data": {
      "image/png": "[encoded data removed]",
      "text/plain": [
       "<Figure size 640x480 with 1 Axes>"
      ]
     },
     "metadata": {},
     "output_type": "display_data"
    },
    {
     "data": {
      "image/png": "[encoded data removed]",
      "text/plain": [
       "<Figure size 640x480 with 1 Axes>"
      ]
     },
     "metadata": {},
     "output_type": "display_data"
    },
    {
     "data": {
      "image/png": "[encoded data removed]",
      "text/plain": [
       "<Figure size 640x480 with 1 Axes>"
      ]
     },
     "metadata": {},
     "output_type": "display_data"
    }
   ],
   "source": [
    "# 이상치 확인 및 제거 코드\n",
    "for col in numerical_cols:\n",
    "    sns.boxplot(x=data_copy[col])\n",
    "    plt.title(f\"Boxplot for {col}\")\n",
    "    plt.show()"
   ]
  },
  {
   "cell_type": "code",
   "execution_count": 10,
   "metadata": {},
   "outputs": [],
   "source": [
    "# IQR로 이상치 제거 함수 정의\n",
    "def remove_outliers(df, column):\n",
    "    Q1 = df[column].quantile(0.25)\n",
    "    Q3 = df[column].quantile(0.75)\n",
    "    IQR = Q3 - Q1\n",
    "    lower_bound = Q1 - 1.5 * IQR\n",
    "    upper_bound = Q3 + 1.5 * IQR\n",
    "    return df[(df[column] >= lower_bound) & (df[column] <= upper_bound)]"
   ]
  },
  {
   "cell_type": "code",
   "execution_count": 11,
   "metadata": {},
   "outputs": [],
   "source": [
    "# 이상치 제거 적용\n",
    "for col in numerical_cols:\n",
    "    data_copy = remove_outliers(data_copy, col)"
   ]
  },
  {
   "cell_type": "code",
   "execution_count": 12,
   "metadata": {},
   "outputs": [],
   "source": [
    "# 원-핫 인코딩 코드\n",
    "categorical_cols = [\"gender\", \"smoker\", \"region\", \"medical_history\", \"family_medical_history\", \"exercise_frequency\", \"occupation\", \"coverage_level\"]\n",
    "\n",
    "# 원-핫 인코딩 적용\n",
    "data_copy = pd.get_dummies(data_copy, columns=categorical_cols, drop_first=True)"
   ]
  },
  {
   "cell_type": "code",
   "execution_count": 13,
   "metadata": {},
   "outputs": [],
   "source": [
    "# 스케일링 코드\n",
    "scaler = StandardScaler()\n",
    "data_copy[numerical_cols] = scaler.fit_transform(data_copy[numerical_cols])\n"
   ]
  },
  {
   "cell_type": "code",
   "execution_count": 14,
   "metadata": {},
   "outputs": [
    {
     "name": "stdout",
     "output_type": "stream",
     "text": [
      "\n",
      "--- 상관 계수가 낮은 컬럼 (하위 3개) 제거: ['family_medical_history_None', 'medical_history_None', 'medical_history_High blood pressure'] ---\n"
     ]
    }
   ],
   "source": [
    "# 상관 계수 계산 및 하위 3개 컬럼 제거\n",
    "correlation_matrix = data_copy.corr()\n",
    "target_corr = correlation_matrix[\"charges\"].drop(\"charges\")  # charges와의 상관 계수 추출\n",
    "low_corr_cols = target_corr.nsmallest(3).index  # 상관 계수가 낮은 3개 컬럼 식별\n",
    "print(f\"\\n--- 상관 계수가 낮은 컬럼 (하위 3개) 제거: {list(low_corr_cols)} ---\")\n",
    "data_copy.drop(columns=low_corr_cols, inplace=True)"
   ]
  },
  {
   "cell_type": "code",
   "execution_count": 15,
   "metadata": {},
   "outputs": [
    {
     "name": "stdout",
     "output_type": "stream",
     "text": [
      "                                                 age       bmi  children  \\\n",
      "age                                         1.000000  0.001228 -0.001414   \n",
      "bmi                                         0.001228  1.000000 -0.001883   \n",
      "children                                   -0.001414 -0.001883  1.000000   \n",
      "charges                                     0.062224  0.102616  0.075477   \n",
      "gender_male                                -0.001390 -0.001386  0.000433   \n",
      "smoker_yes                                  0.000214 -0.001204 -0.000597   \n",
      "region_northwest                           -0.000927 -0.001735 -0.000224   \n",
      "region_southeast                            0.000842  0.000962  0.000756   \n",
      "region_southwest                            0.000865  0.001087  0.000065   \n",
      "medical_history_Heart disease               0.000260 -0.001106 -0.001878   \n",
      "family_medical_history_Heart disease       -0.001548 -0.001963  0.000765   \n",
      "family_medical_history_High blood pressure  0.000937 -0.000069 -0.000771   \n",
      "exercise_frequency_Never                    0.001126 -0.000008  0.001923   \n",
      "exercise_frequency_Occasionally            -0.000252 -0.001118 -0.000076   \n",
      "exercise_frequency_Rarely                  -0.000463  0.001511 -0.000117   \n",
      "occupation_Student                         -0.000537 -0.000907  0.000685   \n",
      "occupation_Unemployed                      -0.000265  0.000862  0.001122   \n",
      "occupation_White collar                    -0.000042 -0.000720 -0.001196   \n",
      "coverage_level_Premium                     -0.000734 -0.000121 -0.001958   \n",
      "coverage_level_Standard                     0.000328 -0.000397  0.001458   \n",
      "\n",
      "                                             charges  gender_male  smoker_yes  \\\n",
      "age                                         0.062224    -0.001390    0.000214   \n",
      "bmi                                         0.102616    -0.001386   -0.001204   \n",
      "children                                    0.075477     0.000433   -0.000597   \n",
      "charges                                     1.000000     0.111529    0.565818   \n",
      "gender_male                                 0.111529     1.000000   -0.001049   \n",
      "smoker_yes                                  0.565818    -0.001049    1.000000   \n",
      "region_northwest                           -0.026109     0.000896    0.000753   \n",
      "region_southeast                            0.000425     0.001123    0.000909   \n",
      "region_southwest                           -0.038369    -0.001487    0.000189   \n",
      "medical_history_Heart disease               0.386689    -0.001336   -0.004100   \n",
      "family_medical_history_Heart disease        0.386908    -0.001246   -0.003119   \n",
      "family_medical_history_High blood pressure -0.128802     0.001121    0.000423   \n",
      "exercise_frequency_Never                   -0.111603     0.000804    0.002317   \n",
      "exercise_frequency_Occasionally             0.017876    -0.000262    0.001853   \n",
      "exercise_frequency_Rarely                  -0.049352    -0.000120   -0.002366   \n",
      "occupation_Student                         -0.063707    -0.000181   -0.001202   \n",
      "occupation_Unemployed                      -0.128245     0.000391    0.002201   \n",
      "occupation_White collar                     0.127985     0.000474   -0.001537   \n",
      "coverage_level_Premium                      0.422684    -0.001753   -0.003822   \n",
      "coverage_level_Standard                    -0.047595     0.001300    0.002891   \n",
      "\n",
      "                                            region_northwest  \\\n",
      "age                                                -0.000927   \n",
      "bmi                                                -0.001735   \n",
      "children                                           -0.000224   \n",
      "charges                                            -0.026109   \n",
      "gender_male                                         0.000896   \n",
      "smoker_yes                                          0.000753   \n",
      "region_northwest                                    1.000000   \n",
      "region_southeast                                   -0.333093   \n",
      "region_southwest                                   -0.333626   \n",
      "medical_history_Heart disease                       0.000225   \n",
      "family_medical_history_Heart disease                0.000219   \n",
      "family_medical_history_High blood pressure          0.000655   \n",
      "exercise_frequency_Never                           -0.000487   \n",
      "exercise_frequency_Occasionally                    -0.000050   \n",
      "exercise_frequency_Rarely                          -0.000220   \n",
      "occupation_Student                                 -0.000599   \n",
      "occupation_Unemployed                              -0.000816   \n",
      "occupation_White collar                             0.001001   \n",
      "coverage_level_Premium                              0.000135   \n",
      "coverage_level_Standard                            -0.001089   \n",
      "\n",
      "                                            region_southeast  \\\n",
      "age                                                 0.000842   \n",
      "bmi                                                 0.000962   \n",
      "children                                            0.000756   \n",
      "charges                                             0.000425   \n",
      "gender_male                                         0.001123   \n",
      "smoker_yes                                          0.000909   \n",
      "region_northwest                                   -0.333093   \n",
      "region_southeast                                    1.000000   \n",
      "region_southwest                                   -0.333212   \n",
      "medical_history_Heart disease                       0.000634   \n",
      "family_medical_history_Heart disease               -0.000514   \n",
      "family_medical_history_High blood pressure         -0.000172   \n",
      "exercise_frequency_Never                            0.001684   \n",
      "exercise_frequency_Occasionally                    -0.001396   \n",
      "exercise_frequency_Rarely                           0.000541   \n",
      "occupation_Student                                  0.001246   \n",
      "occupation_Unemployed                               0.000398   \n",
      "occupation_White collar                            -0.001792   \n",
      "coverage_level_Premium                             -0.000643   \n",
      "coverage_level_Standard                             0.000467   \n",
      "\n",
      "                                            region_southwest  \\\n",
      "age                                                 0.000865   \n",
      "bmi                                                 0.001087   \n",
      "children                                            0.000065   \n",
      "charges                                            -0.038369   \n",
      "gender_male                                        -0.001487   \n",
      "smoker_yes                                          0.000189   \n",
      "region_northwest                                   -0.333626   \n",
      "region_southeast                                   -0.333212   \n",
      "region_southwest                                    1.000000   \n",
      "medical_history_Heart disease                      -0.000312   \n",
      "family_medical_history_Heart disease                0.002118   \n",
      "family_medical_history_High blood pressure         -0.000582   \n",
      "exercise_frequency_Never                            0.000243   \n",
      "exercise_frequency_Occasionally                     0.000065   \n",
      "exercise_frequency_Rarely                          -0.000137   \n",
      "occupation_Student                                  0.000162   \n",
      "occupation_Unemployed                               0.000093   \n",
      "occupation_White collar                             0.000962   \n",
      "coverage_level_Premium                              0.001608   \n",
      "coverage_level_Standard                            -0.001407   \n",
      "\n",
      "                                            medical_history_Heart disease  \\\n",
      "age                                                              0.000260   \n",
      "bmi                                                             -0.001106   \n",
      "children                                                        -0.001878   \n",
      "charges                                                          0.386689   \n",
      "gender_male                                                     -0.001336   \n",
      "smoker_yes                                                      -0.004100   \n",
      "region_northwest                                                 0.000225   \n",
      "region_southeast                                                 0.000634   \n",
      "region_southwest                                                -0.000312   \n",
      "medical_history_Heart disease                                    1.000000   \n",
      "family_medical_history_Heart disease                            -0.005897   \n",
      "family_medical_history_High blood pressure                       0.002737   \n",
      "exercise_frequency_Never                                         0.000887   \n",
      "exercise_frequency_Occasionally                                  0.001131   \n",
      "exercise_frequency_Rarely                                        0.000755   \n",
      "occupation_Student                                               0.003173   \n",
      "occupation_Unemployed                                            0.003325   \n",
      "occupation_White collar                                         -0.004286   \n",
      "coverage_level_Premium                                          -0.004827   \n",
      "coverage_level_Standard                                          0.002100   \n",
      "\n",
      "                                            family_medical_history_Heart disease  \\\n",
      "age                                                                    -0.001548   \n",
      "bmi                                                                    -0.001963   \n",
      "children                                                                0.000765   \n",
      "charges                                                                 0.386908   \n",
      "gender_male                                                            -0.001246   \n",
      "smoker_yes                                                             -0.003119   \n",
      "region_northwest                                                        0.000219   \n",
      "region_southeast                                                       -0.000514   \n",
      "region_southwest                                                        0.002118   \n",
      "medical_history_Heart disease                                          -0.005897   \n",
      "family_medical_history_Heart disease                                    1.000000   \n",
      "family_medical_history_High blood pressure                             -0.332249   \n",
      "exercise_frequency_Never                                                0.001475   \n",
      "exercise_frequency_Occasionally                                        -0.000332   \n",
      "exercise_frequency_Rarely                                               0.002402   \n",
      "occupation_Student                                                      0.002332   \n",
      "occupation_Unemployed                                                   0.001945   \n",
      "occupation_White collar                                                -0.003274   \n",
      "coverage_level_Premium                                                 -0.005439   \n",
      "coverage_level_Standard                                                 0.003684   \n",
      "\n",
      "                                            family_medical_history_High blood pressure  \\\n",
      "age                                                                           0.000937   \n",
      "bmi                                                                          -0.000069   \n",
      "children                                                                     -0.000771   \n",
      "charges                                                                      -0.128802   \n",
      "gender_male                                                                   0.001121   \n",
      "smoker_yes                                                                    0.000423   \n",
      "region_northwest                                                              0.000655   \n",
      "region_southeast                                                             -0.000172   \n",
      "region_southwest                                                             -0.000582   \n",
      "medical_history_Heart disease                                                 0.002737   \n",
      "family_medical_history_Heart disease                                         -0.332249   \n",
      "family_medical_history_High blood pressure                                    1.000000   \n",
      "exercise_frequency_Never                                                      0.001468   \n",
      "exercise_frequency_Occasionally                                               0.001086   \n",
      "exercise_frequency_Rarely                                                    -0.001973   \n",
      "occupation_Student                                                           -0.000078   \n",
      "occupation_Unemployed                                                        -0.001966   \n",
      "occupation_White collar                                                      -0.000069   \n",
      "coverage_level_Premium                                                        0.001810   \n",
      "coverage_level_Standard                                                      -0.001378   \n",
      "\n",
      "                                            exercise_frequency_Never  \\\n",
      "age                                                         0.001126   \n",
      "bmi                                                        -0.000008   \n",
      "children                                                    0.001923   \n",
      "charges                                                    -0.111603   \n",
      "gender_male                                                 0.000804   \n",
      "smoker_yes                                                  0.002317   \n",
      "region_northwest                                           -0.000487   \n",
      "region_southeast                                            0.001684   \n",
      "region_southwest                                            0.000243   \n",
      "medical_history_Heart disease                               0.000887   \n",
      "family_medical_history_Heart disease                        0.001475   \n",
      "family_medical_history_High blood pressure                  0.001468   \n",
      "exercise_frequency_Never                                    1.000000   \n",
      "exercise_frequency_Occasionally                            -0.333472   \n",
      "exercise_frequency_Rarely                                  -0.333852   \n",
      "occupation_Student                                          0.001731   \n",
      "occupation_Unemployed                                      -0.001792   \n",
      "occupation_White collar                                    -0.000457   \n",
      "coverage_level_Premium                                      0.001670   \n",
      "coverage_level_Standard                                     0.000054   \n",
      "\n",
      "                                            exercise_frequency_Occasionally  \\\n",
      "age                                                               -0.000252   \n",
      "bmi                                                               -0.001118   \n",
      "children                                                          -0.000076   \n",
      "charges                                                            0.017876   \n",
      "gender_male                                                       -0.000262   \n",
      "smoker_yes                                                         0.001853   \n",
      "region_northwest                                                  -0.000050   \n",
      "region_southeast                                                  -0.001396   \n",
      "region_southwest                                                   0.000065   \n",
      "medical_history_Heart disease                                      0.001131   \n",
      "family_medical_history_Heart disease                              -0.000332   \n",
      "family_medical_history_High blood pressure                         0.001086   \n",
      "exercise_frequency_Never                                          -0.333472   \n",
      "exercise_frequency_Occasionally                                    1.000000   \n",
      "exercise_frequency_Rarely                                         -0.334410   \n",
      "occupation_Student                                                -0.002539   \n",
      "occupation_Unemployed                                              0.001609   \n",
      "occupation_White collar                                            0.001344   \n",
      "coverage_level_Premium                                             0.000449   \n",
      "coverage_level_Standard                                           -0.001422   \n",
      "\n",
      "                                            exercise_frequency_Rarely  \\\n",
      "age                                                         -0.000463   \n",
      "bmi                                                          0.001511   \n",
      "children                                                    -0.000117   \n",
      "charges                                                     -0.049352   \n",
      "gender_male                                                 -0.000120   \n",
      "smoker_yes                                                  -0.002366   \n",
      "region_northwest                                            -0.000220   \n",
      "region_southeast                                             0.000541   \n",
      "region_southwest                                            -0.000137   \n",
      "medical_history_Heart disease                                0.000755   \n",
      "family_medical_history_Heart disease                         0.002402   \n",
      "family_medical_history_High blood pressure                  -0.001973   \n",
      "exercise_frequency_Never                                    -0.333852   \n",
      "exercise_frequency_Occasionally                             -0.334410   \n",
      "exercise_frequency_Rarely                                    1.000000   \n",
      "occupation_Student                                          -0.001278   \n",
      "occupation_Unemployed                                        0.000434   \n",
      "occupation_White collar                                     -0.000653   \n",
      "coverage_level_Premium                                       0.000456   \n",
      "coverage_level_Standard                                     -0.000474   \n",
      "\n",
      "                                            occupation_Student  \\\n",
      "age                                                  -0.000537   \n",
      "bmi                                                  -0.000907   \n",
      "children                                              0.000685   \n",
      "charges                                              -0.063707   \n",
      "gender_male                                          -0.000181   \n",
      "smoker_yes                                           -0.001202   \n",
      "region_northwest                                     -0.000599   \n",
      "region_southeast                                      0.001246   \n",
      "region_southwest                                      0.000162   \n",
      "medical_history_Heart disease                         0.003173   \n",
      "family_medical_history_Heart disease                  0.002332   \n",
      "family_medical_history_High blood pressure           -0.000078   \n",
      "exercise_frequency_Never                              0.001731   \n",
      "exercise_frequency_Occasionally                      -0.002539   \n",
      "exercise_frequency_Rarely                            -0.001278   \n",
      "occupation_Student                                    1.000000   \n",
      "occupation_Unemployed                                -0.334758   \n",
      "occupation_White collar                              -0.332771   \n",
      "coverage_level_Premium                                0.001762   \n",
      "coverage_level_Standard                              -0.001329   \n",
      "\n",
      "                                            occupation_Unemployed  \\\n",
      "age                                                     -0.000265   \n",
      "bmi                                                      0.000862   \n",
      "children                                                 0.001122   \n",
      "charges                                                 -0.128245   \n",
      "gender_male                                              0.000391   \n",
      "smoker_yes                                               0.002201   \n",
      "region_northwest                                        -0.000816   \n",
      "region_southeast                                         0.000398   \n",
      "region_southwest                                         0.000093   \n",
      "medical_history_Heart disease                            0.003325   \n",
      "family_medical_history_Heart disease                     0.001945   \n",
      "family_medical_history_High blood pressure              -0.001966   \n",
      "exercise_frequency_Never                                -0.001792   \n",
      "exercise_frequency_Occasionally                          0.001609   \n",
      "exercise_frequency_Rarely                                0.000434   \n",
      "occupation_Student                                      -0.334758   \n",
      "occupation_Unemployed                                    1.000000   \n",
      "occupation_White collar                                 -0.333129   \n",
      "coverage_level_Premium                                  -0.000377   \n",
      "coverage_level_Standard                                 -0.000352   \n",
      "\n",
      "                                            occupation_White collar  \\\n",
      "age                                                       -0.000042   \n",
      "bmi                                                       -0.000720   \n",
      "children                                                  -0.001196   \n",
      "charges                                                    0.127985   \n",
      "gender_male                                                0.000474   \n",
      "smoker_yes                                                -0.001537   \n",
      "region_northwest                                           0.001001   \n",
      "region_southeast                                          -0.001792   \n",
      "region_southwest                                           0.000962   \n",
      "medical_history_Heart disease                             -0.004286   \n",
      "family_medical_history_Heart disease                      -0.003274   \n",
      "family_medical_history_High blood pressure                -0.000069   \n",
      "exercise_frequency_Never                                  -0.000457   \n",
      "exercise_frequency_Occasionally                            0.001344   \n",
      "exercise_frequency_Rarely                                 -0.000653   \n",
      "occupation_Student                                        -0.332771   \n",
      "occupation_Unemployed                                     -0.333129   \n",
      "occupation_White collar                                    1.000000   \n",
      "coverage_level_Premium                                     0.000273   \n",
      "coverage_level_Standard                                   -0.000302   \n",
      "\n",
      "                                            coverage_level_Premium  \\\n",
      "age                                                      -0.000734   \n",
      "bmi                                                      -0.000121   \n",
      "children                                                 -0.001958   \n",
      "charges                                                   0.422684   \n",
      "gender_male                                              -0.001753   \n",
      "smoker_yes                                               -0.003822   \n",
      "region_northwest                                          0.000135   \n",
      "region_southeast                                         -0.000643   \n",
      "region_southwest                                          0.001608   \n",
      "medical_history_Heart disease                            -0.004827   \n",
      "family_medical_history_Heart disease                     -0.005439   \n",
      "family_medical_history_High blood pressure                0.001810   \n",
      "exercise_frequency_Never                                  0.001670   \n",
      "exercise_frequency_Occasionally                           0.000449   \n",
      "exercise_frequency_Rarely                                 0.000456   \n",
      "occupation_Student                                        0.001762   \n",
      "occupation_Unemployed                                    -0.000377   \n",
      "occupation_White collar                                   0.000273   \n",
      "coverage_level_Premium                                    1.000000   \n",
      "coverage_level_Standard                                  -0.498990   \n",
      "\n",
      "                                            coverage_level_Standard  \n",
      "age                                                        0.000328  \n",
      "bmi                                                       -0.000397  \n",
      "children                                                   0.001458  \n",
      "charges                                                   -0.047595  \n",
      "gender_male                                                0.001300  \n",
      "smoker_yes                                                 0.002891  \n",
      "region_northwest                                          -0.001089  \n",
      "region_southeast                                           0.000467  \n",
      "region_southwest                                          -0.001407  \n",
      "medical_history_Heart disease                              0.002100  \n",
      "family_medical_history_Heart disease                       0.003684  \n",
      "family_medical_history_High blood pressure                -0.001378  \n",
      "exercise_frequency_Never                                   0.000054  \n",
      "exercise_frequency_Occasionally                           -0.001422  \n",
      "exercise_frequency_Rarely                                 -0.000474  \n",
      "occupation_Student                                        -0.001329  \n",
      "occupation_Unemployed                                     -0.000352  \n",
      "occupation_White collar                                   -0.000302  \n",
      "coverage_level_Premium                                    -0.498990  \n",
      "coverage_level_Standard                                    1.000000  \n"
     ]
    }
   ],
   "source": [
    "# 상관 계수 결과 확인\n",
    "print(data_copy.corr())"
   ]
  },
  {
   "cell_type": "code",
   "execution_count": 16,
   "metadata": {},
   "outputs": [],
   "source": [
    "# 보험료 예측 모델 코드\n",
    "X = data_copy.drop(\"charges\", axis=1)\n",
    "y = data_copy[\"charges\"]\n",
    "\n",
    "X_train, X_test, y_train, y_test = train_test_split(X, y, test_size=0.2, random_state=42)\n"
   ]
  },
  {
   "cell_type": "code",
   "execution_count": 17,
   "metadata": {},
   "outputs": [
    {
     "name": "stdout",
     "output_type": "stream",
     "text": [
      "\n",
      "--- Linear Regression Results ---\n",
      "Mean Squared Error (MSE): 0.0567\n",
      "R^2 Score: 0.9432\n"
     ]
    }
   ],
   "source": [
    "# 모델 1: 선형 회귀 (Linear Regression)\n",
    "linear_model = LinearRegression()\n",
    "linear_model.fit(X_train, y_train)\n",
    "\n",
    "# 예측 및 평가\n",
    "y_pred_lr = linear_model.predict(X_test)\n",
    "mse_lr = mean_squared_error(y_test, y_pred_lr)\n",
    "r2_lr = r2_score(y_test, y_pred_lr)\n",
    "\n",
    "print(\"\\n--- Linear Regression Results ---\")\n",
    "print(f\"Mean Squared Error (MSE): {mse_lr:.4f}\")\n",
    "print(f\"R^2 Score: {r2_lr:.4f}\")"
   ]
  },
  {
   "cell_type": "code",
   "execution_count": 20,
   "metadata": {},
   "outputs": [
    {
     "name": "stdout",
     "output_type": "stream",
     "text": [
      "\n",
      "--- Best Hyperparameters for Random Forest ---\n",
      "{'max_depth': 10, 'min_samples_leaf': 2, 'min_samples_split': 2, 'n_estimators': 100}\n"
     ]
    }
   ],
   "source": [
    "# 모델 2: 랜덤 포레스트 하이퍼파라미터 튜닝\n",
    "rf_param_grid = {\n",
    "    \"n_estimators\": [50, 100],  \n",
    "    \"max_depth\": [5, 10],      \n",
    "    \"min_samples_split\": [2, 5], \n",
    "    \"min_samples_leaf\": [1, 2]    \n",
    "}\n",
    "rf_model = RandomForestRegressor(random_state=42)\n",
    "rf_grid = GridSearchCV(\n",
    "    estimator=rf_model, \n",
    "    param_grid=rf_param_grid, \n",
    "    scoring=\"r2\", \n",
    "    cv=2,  # 교차 검증 폴드 수를 2로 줄임 (기본값은 5)\n",
    "    n_jobs=-1\n",
    ")\n",
    "rf_grid.fit(X_train, y_train)\n",
    "best_rf_model = rf_grid.best_estimator_\n",
    "\n",
    "# 최적의 하이퍼파라미터 출력\n",
    "print(\"\\n--- Best Hyperparameters for Random Forest ---\")\n",
    "print(rf_grid.best_params_)"
   ]
  },
  {
   "cell_type": "code",
   "execution_count": 21,
   "metadata": {},
   "outputs": [
    {
     "name": "stdout",
     "output_type": "stream",
     "text": [
      "\n",
      "--- Best Hyperparameters for Gradient Boosting ---\n",
      "{'learning_rate': 0.1, 'max_depth': 5, 'min_samples_leaf': 2, 'min_samples_split': 2, 'n_estimators': 100}\n"
     ]
    }
   ],
   "source": [
    "# 모델 3: 그래디언트 부스팅 하이퍼파라미터 튜닝 \n",
    "gb_param_grid = {\n",
    "    \"n_estimators\": [50, 100],  \n",
    "    \"learning_rate\": [0.05, 0.1],  \n",
    "    \"max_depth\": [3, 5],          \n",
    "    \"min_samples_split\": [2, 5],  \n",
    "    \"min_samples_leaf\": [1, 2]    \n",
    "}\n",
    "gb_model = GradientBoostingRegressor(random_state=42)\n",
    "gb_grid = GridSearchCV(\n",
    "    estimator=gb_model, \n",
    "    param_grid=gb_param_grid, \n",
    "    scoring=\"r2\", \n",
    "    cv=2,  # 교차 검증 폴드 수를 2로 줄임\n",
    "    n_jobs=-1\n",
    ")\n",
    "gb_grid.fit(X_train, y_train)\n",
    "best_gb_model = gb_grid.best_estimator_\n",
    "\n",
    "# 최적의 하이퍼파라미터 출력\n",
    "print(\"\\n--- Best Hyperparameters for Gradient Boosting ---\")\n",
    "print(gb_grid.best_params_)\n"
   ]
  },
  {
   "cell_type": "code",
   "execution_count": 22,
   "metadata": {},
   "outputs": [],
   "source": [
    "# 결과 출력\n",
    "models = [\"Linear Regression\", \"Random Forest\", \"Gradient Boosting\"]\n",
    "results = {}"
   ]
  },
  {
   "cell_type": "code",
   "execution_count": 23,
   "metadata": {},
   "outputs": [],
   "source": [
    "# 선형 회귀\n",
    "y_pred_lr = linear_model.predict(X_test)\n",
    "results[\"Linear Regression\"] = {\n",
    "    \"MSE\": mean_squared_error(y_test, y_pred_lr),\n",
    "    \"R^2\": r2_score(y_test, y_pred_lr)\n",
    "}"
   ]
  },
  {
   "cell_type": "code",
   "execution_count": 24,
   "metadata": {},
   "outputs": [],
   "source": [
    "# 랜덤 포레스트\n",
    "y_pred_rf = best_rf_model.predict(X_test)\n",
    "results[\"Random Forest\"] = {\n",
    "    \"MSE\": mean_squared_error(y_test, y_pred_rf),\n",
    "    \"R^2\": r2_score(y_test, y_pred_rf)\n",
    "}\n"
   ]
  },
  {
   "cell_type": "code",
   "execution_count": 25,
   "metadata": {},
   "outputs": [],
   "source": [
    "# 그래디언트 부스팅\n",
    "y_pred_gb = best_gb_model.predict(X_test)\n",
    "results[\"Gradient Boosting\"] = {\n",
    "    \"MSE\": mean_squared_error(y_test, y_pred_gb),\n",
    "    \"R^2\": r2_score(y_test, y_pred_gb)\n",
    "}"
   ]
  },
  {
   "cell_type": "code",
   "execution_count": 26,
   "metadata": {},
   "outputs": [
    {
     "name": "stdout",
     "output_type": "stream",
     "text": [
      "\n",
      "--- Linear Regression Results ---\n",
      "Mean Squared Error (MSE): 0.0567\n",
      "R^2 Score: 0.9432\n",
      "\n",
      "--- Random Forest Results ---\n",
      "Mean Squared Error (MSE): 0.0808\n",
      "R^2 Score: 0.9191\n",
      "\n",
      "--- Gradient Boosting Results ---\n",
      "Mean Squared Error (MSE): 0.0579\n",
      "R^2 Score: 0.9419\n"
     ]
    }
   ],
   "source": [
    "# 결과 출력\n",
    "for model, metrics in results.items():\n",
    "    print(f\"\\n--- {model} Results ---\")\n",
    "    print(f\"Mean Squared Error (MSE): {metrics['MSE']:.4f}\")\n",
    "    print(f\"R^2 Score: {metrics['R^2']:.4f}\")"
   ]
  },
  {
   "cell_type": "code",
   "execution_count": 27,
   "metadata": {},
   "outputs": [
    {
     "data": {
      "text/plain": [
       "<Figure size 1000x500 with 0 Axes>"
      ]
     },
     "execution_count": 27,
     "metadata": {},
     "output_type": "execute_result"
    },
    {
     "data": {
      "text/plain": [
       "<Figure size 1000x500 with 0 Axes>"
      ]
     },
     "metadata": {},
     "output_type": "display_data"
    }
   ],
   "source": [
    "# 시각화\n",
    "mse_scores = [metrics[\"MSE\"] for metrics in results.values()]\n",
    "r2_scores = [metrics[\"R^2\"] for metrics in results.values()]\n",
    "\n",
    "plt.figure(figsize=(10, 5))"
   ]
  },
  {
   "cell_type": "code",
   "execution_count": 28,
   "metadata": {},
   "outputs": [
    {
     "data": {
      "text/plain": [
       "Text(0, 0.5, 'MSE')"
      ]
     },
     "execution_count": 28,
     "metadata": {},
     "output_type": "execute_result"
    },
    {
     "data": {
      "image/png": "[encoded data removed]",
      "text/plain": [
       "<Figure size 640x480 with 1 Axes>"
      ]
     },
     "metadata": {},
     "output_type": "display_data"
    }
   ],
   "source": [
    "# MSE 비교\n",
    "plt.subplot(1, 2, 1)\n",
    "plt.bar(models, mse_scores, color=[\"blue\", \"green\", \"orange\"])\n",
    "plt.title(\"Mean Squared Error (MSE)\")\n",
    "plt.ylabel(\"MSE\")"
   ]
  },
  {
   "cell_type": "code",
   "execution_count": 31,
   "metadata": {},
   "outputs": [
    {
     "data": {
      "image/png": "[encoded data removed]",
      "text/plain": [
       "<Figure size 640x480 with 1 Axes>"
      ]
     },
     "metadata": {},
     "output_type": "display_data"
    }
   ],
   "source": [
    "# R^2 비교\n",
    "plt.subplot(1, 2, 2)\n",
    "plt.bar(models, r2_scores, color=[\"blue\", \"green\", \"orange\"])\n",
    "plt.title(\"R^2 Score\")\n",
    "plt.ylabel(\"R^2\")\n",
    "plt.tight_layout()\n",
    "plt.show()"
   ]
  }
 ],
 "metadata": {
  "kernelspec": {
   "display_name": "Python 3",
   "language": "python",
   "name": "python3"
  },
  "language_info": {
   "codemirror_mode": {
    "name": "ipython",
    "version": 3
   },
   "file_extension": ".py",
   "mimetype": "text/x-python",
   "name": "python",
   "nbconvert_exporter": "python",
   "pygments_lexer": "ipython3",
   "version": "3.13.0"
  }
 },
 "nbformat": 4,
 "nbformat_minor": 2
}
