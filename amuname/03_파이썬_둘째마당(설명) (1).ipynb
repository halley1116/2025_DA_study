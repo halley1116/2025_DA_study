{
  "cells": [
    {
      "cell_type": "markdown",
      "metadata": {
        "id": "GLorviJhNLCi"
      },
      "source": [
        "# **03 파이썬 둘째마당**\n",
        "---\n",
        "\n",
        "**<font color='blue'>배울 내용: 리스트와 튜플, 시퀀스 자료형, 문자열 다루기, 함수 이해하기</font>**"
      ]
    },
    {
      "cell_type": "markdown",
      "metadata": {
        "id": "3I9OiQeTXQhT"
      },
      "source": [
        "**1. 리스트와 튜플**\n",
        "\n",
        "- 변수는 하나의 값을 저장하는 메모리 공간 -> 프로그래밍을 하다 보면 관계가 있는 여러 개의 변수를 사용해야 할 때가 있음\n",
        "- 여러 개의 값을 하나의 변수에 저장하고,이 값들을 순서대로 처리할 수 있도록 도와주는 자료형을 지원함\n",
        "<br><br>\n",
        "\n",
        "chatGPT와 함께 이와 관련된 문법을 정리해 보겠습니다.\n",
        "\n",
        "<font color=\"blue\">[실습] chatGPT에 다음과 같이 질문해주세요.</font>\n",
        "> <font color=\"red\">\"파이썬의 리스트와 튜플에 대해 설명해줘~\"</font>\n",
        "\n",
        "<br><br>\n",
        "<font color=\"blue\">[실습] chatGPT에 다음과 같이 질문해주세요.</font>\n",
        "> <font color=\"red\">\"변수를 여러 개 사용하는 코드와 리스트로 작성하는 코드를 비교해줘\"</font>\n",
        "\n",
        "<br><br>\n",
        "<font color=\"blue\">[실습] chatGPT에 다음과 같이 질문해주세요.</font>\n",
        "> <font color=\"red\">\"리스트와 튜플의 차이에 대해 설명해줄래\"</font>\n",
        "\n",
        "<br><br>\n",
        "<font color=\"blue\">[실습] chatGPT에 다음과 같이 질문해주세요.</font>\n",
        "> <font color=\"red\">\"인덱스에 대해 조금 더 자세한 설명이 필요할 것 같아\"</font>\n",
        "\n"
      ]
    },
    {
      "cell_type": "code",
      "execution_count": null,
      "metadata": {
        "id": "Z7chRqisha9g"
      },
      "outputs": [],
      "source": []
    },
    {
      "cell_type": "code",
      "execution_count": null,
      "metadata": {
        "id": "equccB7WhbLG"
      },
      "outputs": [],
      "source": []
    },
    {
      "cell_type": "code",
      "execution_count": null,
      "metadata": {
        "id": "cYp0ObSchbV5"
      },
      "outputs": [],
      "source": []
    },
    {
      "cell_type": "markdown",
      "metadata": {
        "id": "Bf24W35jhbkr"
      },
      "source": [
        "**리스트 정리**\n",
        "\n",
        "- 리스트는 파이썬에서 사용되는 시퀀스 자료형으로, 여러 개의 요소를 저장할 수 있습니다.\n",
        "\n",
        "- 리스트는 대괄호([ ])로 묶여 있으며, 요소들은 인덱스를 통해 접근할 수 있습니다.\n",
        "\n",
        "- 목록이나 집합과 같은 개념으로 사용되며, 값의 추가, 삭제, 변경이 가능한(mutable) 자료형입니다.\n",
        "\n",
        "- 리스트는 반복문과 함께 사용하여 요소들을 순회하거나 조건에 맞는 요소들을 선택하는 등 다양한 작업을 수행할 수 있습니다."
      ]
    },
    {
      "cell_type": "markdown",
      "metadata": {
        "id": "n7TmBInOXRzt"
      },
      "source": [
        "**2. 시퀀스 자료형**\n",
        "\n",
        "이번에는 chatCPT에서 리스트와 튜플을 포함하는 시퀀스 자료형에 대해 배워보겠습니다.\n",
        "\n",
        "<font color=\"blue\">[실습] chatGPT에 다음과 같이 질문해주세요.</font>\n",
        "> <font color=\"red\">\"시퀀스 자료형의 개념과 특징을 정리해줘!\"</font>\n",
        "\n",
        "<br><br>\n",
        "<font color=\"blue\">[실습] chatGPT에 다음과 같이 질문해주세요.</font>\n",
        "> <font color=\"red\">\"시퀀스 자료형 기본 리스트, 튜풀, 문자열, range에 대해 정리해줘!\"</font>\n",
        "\n",
        "<br><br>\n",
        "<font color=\"blue\">[실습] chatGPT에 다음과 같이 질문해주세요.</font>\n",
        "> <font color=\"red\">\"range()에 대해 자세히 정리해 줘!\"</font>\n"
      ]
    },
    {
      "cell_type": "code",
      "execution_count": null,
      "metadata": {
        "id": "qBc0wM9Hd5pK"
      },
      "outputs": [],
      "source": []
    },
    {
      "cell_type": "code",
      "execution_count": null,
      "metadata": {
        "id": "e-4YnIaNd56j"
      },
      "outputs": [],
      "source": []
    },
    {
      "cell_type": "code",
      "execution_count": null,
      "metadata": {
        "id": "urAiFeU9d6I-"
      },
      "outputs": [],
      "source": []
    },
    {
      "cell_type": "markdown",
      "metadata": {
        "id": "8es4dVL9iYdA"
      },
      "source": [
        "**<시퀀스 자료형 정리>**\n",
        "\n",
        "- 시퀀스 자료형은 파이썬에서 사용되는 순서가 있는 데이터의 집합을 의미합니다.\n",
        "\n",
        "- 시퀀스 자료형은 데이터들을 순서대로 저장하고, 인덱스를 통해 개별 요소에 접근할 수 있습니다.\n",
        "\n",
        "- 파이썬에서 대표적인 시퀀스 자료형으로는 리스트, 튜플, 문자열, range 객체 등이 있습니다.\n",
        "\n",
        "- 이들은 모두 시퀀스 자료형의 특징을 공유하면서 각각의 특별한 용도와 특성을 가지고 있습니다.\n",
        "\n",
        "- 시퀀스 자료형은 반복문과 함께 사용하며, 다양한 활용이 가능합니다."
      ]
    },
    {
      "cell_type": "markdown",
      "metadata": {
        "id": "B0jw-h1sc0MW"
      },
      "source": [
        "**3. 문자열 다루기**\n",
        "\n",
        "문자열은 앞서 정리한 입력(input)과 출력(print), 그리고 파일 처리, 데이터 처리 등 다양한 용도로 사용됩니다.또한 시퀀스 자료형의 공통 기능을 그대로 사용 할 수 있습니다.\n",
        "\n",
        "이번에는 문자열에 대한 내용을 정리해 보도록 하겠습니다.\n",
        "\n",
        "<font color=\"blue\">[실습] chatGPT에 다음과 같이 질문해주세요.</font>\n",
        "> <font color=\"red\">\"파이썬 문자열 문법 기본 개념을 정리해줘\"</font>\n",
        "\n",
        "<br><br>\n",
        "<font color=\"blue\">[실습] chatGPT에 다음과 같이 질문해주세요.</font>\n",
        "> <font color=\"red\">\"문자열 표현 방식에 대해 자세하게 정리해 줘\"</font>\n",
        "\n",
        "<br><br>\n",
        "<font color=\"blue\">[실습] chatGPT에 다음과 같이 질문해주세요.</font>\n",
        "> <font color=\"red\">\"문자열 안에 ' ', \" \" 을 어떻게 표현하는지 자세하게 정리해줘\"</font>\n",
        "\n",
        "<br><br>\n",
        "<font color=\"blue\">[실습] chatGPT에 다음과 같이 질문해주세요.</font>\n",
        "> <font color=\"red\">\"파이썬 이스케이프 문자에 대해 정리해줘\"</font>\n"
      ]
    },
    {
      "cell_type": "code",
      "execution_count": null,
      "metadata": {
        "id": "Bsdcu9Zcd7-o"
      },
      "outputs": [],
      "source": []
    },
    {
      "cell_type": "code",
      "execution_count": null,
      "metadata": {
        "id": "oC0p-4nxd8Ir"
      },
      "outputs": [],
      "source": []
    },
    {
      "cell_type": "code",
      "execution_count": null,
      "metadata": {
        "id": "Pr29JDC3d8SD"
      },
      "outputs": [],
      "source": []
    },
    {
      "cell_type": "code",
      "execution_count": null,
      "metadata": {
        "id": "p_r5zooyjjT3"
      },
      "outputs": [],
      "source": []
    },
    {
      "cell_type": "markdown",
      "metadata": {
        "id": "XjtwBbZHi83H"
      },
      "source": [
        "**<문자열 정리>**\n",
        "\n",
        "- 문자열은 파이썬에서 사용되는 자료형으로, 문자들의 시퀀스로 이루어진 데이터입니다.\n",
        "\n",
        "- 문자열은 작은따옴표('')나 큰따옴표(\"\")로 묶여 있으며, 텍스트 데이터를 다루는 데 사용됩니다.\n",
        "\n",
        "- 문자열은 인덱스를 사용하여 개별 문자에 접근할 수 있고, 슬라이싱을 통해 부분 문자열을 추출할 수 있습니다.\n",
        "\n",
        "- 문자열은 프로그래밍에서 텍스트 데이터를 다루는 데 중요한 역할을 하며, 문자열 처리는 프로그램의 다양한 영역에서 사용되는 기능입니다."
      ]
    },
    {
      "cell_type": "markdown",
      "metadata": {
        "id": "9iidID_NdYNx"
      },
      "source": [
        "**4. 함수 이해하기**\n",
        "\n",
        "우리가 지금까지 배운 프로그래밍은 절차 지향 프로그래밍 방식입니다.\n",
        "\n",
        "\"순서 1 -> 순서 2 -> 순서 3\" 과 같이, 위에서 아래로 쭉 흐름대로 코드를 작성하는 것입니다. '함수' 문법은 절차 지향 프로그래밍에서 아주 중요한 개념입니다.\n",
        "\n",
        "이번에는 chatCPT에서 함수에 대해 질문하고 배워보도록 하겠습니다.\n",
        "\n",
        "<font color=\"blue\">[실습] chatGPT에 다음과 같이 질문해주세요.</font>\n",
        "> <font color=\"red\">\"함수에 대해 설명해줘!\"</font>\n",
        "\n",
        "<br><br>\n",
        "<font color=\"blue\">[실습] chatGPT에 다음과 같이 질문해주세요.</font>\n",
        "> <font color=\"red\">\"프로그램을 처음 배우는 입장에서는 조금 어려울 수도 있을 것 같아! 함수를 \"음료수 자판기\"와 비교하면 쉽지 않을까?\"</font>\n",
        "\n",
        "<br><br>\n",
        "<font color=\"blue\">[실습] chatGPT에 다음과 같이 질문해주세요.</font>\n",
        "> <font color=\"red\">\"우선  매개변수(parameter)와 반환 값(return value)이 없는 기본 함수에 대하여 정리해줘\"</font>\n",
        "\n",
        "<br><br>\n",
        "<font color=\"blue\">[실습] chatGPT에 다음과 같이 질문해주세요.</font>\n",
        "> <font color=\"red\">\"그 다음으로 전달 값(매개변수)가 있는 함수에 대하여 정리해줘\"</font>\n",
        "\n",
        "<br><br>\n",
        "<font color=\"blue\">[실습] chatGPT에 다음과 같이 질문해주세요.</font>\n",
        "> <font color=\"red\">\"마지막으로 반환 값이 있는 함수에 대해 정리해줘!\"</font>\n",
        "\n",
        "<br><br>\n",
        "<font color=\"blue\">[실습] chatGPT에 다음과 같이 질문해주세요.</font>\n",
        "> <font color=\"red\">\"마지막으로 함수의 간단한 예제 부탁해!\"</font>\n"
      ]
    },
    {
      "cell_type": "code",
      "execution_count": null,
      "metadata": {
        "id": "XphB2gXjd9Nq"
      },
      "outputs": [],
      "source": []
    },
    {
      "cell_type": "code",
      "execution_count": null,
      "metadata": {
        "id": "JiE7QiKed9Wt"
      },
      "outputs": [],
      "source": []
    },
    {
      "cell_type": "code",
      "execution_count": null,
      "metadata": {
        "id": "yCaRxIOBd9fP"
      },
      "outputs": [],
      "source": []
    },
    {
      "cell_type": "code",
      "execution_count": null,
      "metadata": {
        "id": "IGOPXRR6jlrP"
      },
      "outputs": [],
      "source": []
    },
    {
      "cell_type": "code",
      "execution_count": null,
      "metadata": {
        "id": "2ksdbEyvjl2h"
      },
      "outputs": [],
      "source": []
    },
    {
      "cell_type": "markdown",
      "metadata": {
        "id": "dFcsTpMhjtk5"
      },
      "source": [
        "**<함수 정리>**\n",
        "\n",
        "- 함수는 특정 작업을 수행하는 코드의 묶음으로, 입력 값을 받아 처리한 후 결과를 반환할 수 있습니다.\n",
        "\n",
        "- 함수를 사용하면 코드를 모듈화 하여 재 사용성과 가독성을 높일 수 있습니다.\n",
        "\n",
        "- 함수의 문법 요약:\n",
        "\n",
        "  * 함수는 def 키워드를 사용하여 정의되며, 함수 이름과 매개변수를 가집니다.\n",
        "\n",
        "  * 함수는 호출될 때마다 실행되며, 함수 이름과 인자를 사용하여 호출합니다.\n",
        "\n",
        "  * 매개변수는 함수 정의 시 선언되는 변수로, 함수 호출 시 전달되는 값들이 대입 됩니다.\n",
        "\n",
        "  * 함수는 필요에 따라 결과 값을 반환할 수 있으며, return 키워드를 사용하여 반환합니다.\n",
        "\n"
      ]
    }
  ],
  "metadata": {
    "colab": {
      "provenance": []
    },
    "kernelspec": {
      "display_name": "Python 3",
      "name": "python3"
    },
    "language_info": {
      "name": "python"
    }
  },
  "nbformat": 4,
  "nbformat_minor": 0
}