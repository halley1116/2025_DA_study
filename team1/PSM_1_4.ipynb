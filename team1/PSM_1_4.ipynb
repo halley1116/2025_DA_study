{
 "cells": [
  {
   "cell_type": "markdown",
   "metadata": {},
   "source": [
    "# 4주차\n",
    "- ChatGPT Tweets sentiment analysis\n",
    "- 감성분석 모델링"
   ]
  },
  {
   "cell_type": "markdown",
   "metadata": {},
   "source": [
    "## 데이터 이해\n",
    "- Text: chatgpt 생성 트윗 내용\n",
    "- negative: 트윗이 부정적 내용일 확률\n",
    "- neutral: 트윗이 중립적 내용일 확률\n",
    "- positive: 트윗이 긍정적 내용일 확률\n",
    "- predicted_label: 예측된 트윗 라벨\n",
    "- date: 트윗 수집 날짜\n",
    "- likes: 트윗이 받은 좋아요 개수\n",
    "- location: 트윗이 작성된 위치\n",
    "- followers: 트윗 작성자의 팔로워 수 \n",
    "- following: 트윗 작성자의 팔로잉 수\n",
    "- retweets: 해당 트윗이 리트윗된 수\n",
    "- replies: 해당 트윗에 달린 답글 수 "
   ]
  },
  {
   "cell_type": "code",
   "execution_count": 1,
   "metadata": {},
   "outputs": [],
   "source": [
    "# 라이브러리 불러오기\n",
    "import pandas as pd\n",
    "import numpy as np\n",
    "\n",
    "# preprocessing\n",
    "import string\n",
    "from sklearn.preprocessing import LabelEncoder\n",
    "\n",
    "# visulization\n",
    "import matplotlib.pyplot as plt\n",
    "import seaborn as sns\n",
    "%matplotlib inline\n",
    "\n",
    "# modeling\n",
    "from sklearn.pipeline import Pipeline # 전처리-모델링 과정을 연결해주는 시스템템\n",
    "from sklearn.naive_bayes import MultinomialNB\n",
    "from sklearn.model_selection import train_test_split\n",
    "from sklearn.feature_extraction.text import CountVectorizer\n",
    "from sklearn.feature_extraction.text import TfidfTransformer\n",
    "\n",
    "# valuation\n",
    "from sklearn.metrics import classification_report"
   ]
  },
  {
   "cell_type": "code",
   "execution_count": 2,
   "metadata": {},
   "outputs": [
    {
     "data": {
      "text/html": [
       "<div>\n",
       "<style scoped>\n",
       "    .dataframe tbody tr th:only-of-type {\n",
       "        vertical-align: middle;\n",
       "    }\n",
       "\n",
       "    .dataframe tbody tr th {\n",
       "        vertical-align: top;\n",
       "    }\n",
       "\n",
       "    .dataframe thead th {\n",
       "        text-align: right;\n",
       "    }\n",
       "</style>\n",
       "<table border=\"1\" class=\"dataframe\">\n",
       "  <thead>\n",
       "    <tr style=\"text-align: right;\">\n",
       "      <th></th>\n",
       "      <th>Text</th>\n",
       "      <th>negative</th>\n",
       "      <th>neutral</th>\n",
       "      <th>positive</th>\n",
       "      <th>predicted_label</th>\n",
       "      <th>date</th>\n",
       "      <th>likes</th>\n",
       "      <th>location</th>\n",
       "      <th>followers</th>\n",
       "      <th>following</th>\n",
       "      <th>retweets</th>\n",
       "      <th>replies</th>\n",
       "    </tr>\n",
       "  </thead>\n",
       "  <tbody>\n",
       "    <tr>\n",
       "      <th>0</th>\n",
       "      <td>If I were a journalist or reporter writing cli...</td>\n",
       "      <td>0.947877</td>\n",
       "      <td>0.040978</td>\n",
       "      <td>0.011144</td>\n",
       "      <td>negative</td>\n",
       "      <td>2023-02-10 23:59:49+00:00</td>\n",
       "      <td>1</td>\n",
       "      <td>Fukuoka 福岡  | Japan 日本</td>\n",
       "      <td>2012</td>\n",
       "      <td>388</td>\n",
       "      <td>0</td>\n",
       "      <td>0</td>\n",
       "    </tr>\n",
       "    <tr>\n",
       "      <th>1</th>\n",
       "      <td>Imagine if the mid season twist was that theyr...</td>\n",
       "      <td>0.031874</td>\n",
       "      <td>0.156266</td>\n",
       "      <td>0.811859</td>\n",
       "      <td>positive</td>\n",
       "      <td>2023-02-10 23:59:35+00:00</td>\n",
       "      <td>8</td>\n",
       "      <td>Manhattan, NY</td>\n",
       "      <td>19855</td>\n",
       "      <td>5722</td>\n",
       "      <td>1</td>\n",
       "      <td>2</td>\n",
       "    </tr>\n",
       "    <tr>\n",
       "      <th>2</th>\n",
       "      <td>I see the difference between leader and employ...</td>\n",
       "      <td>0.158342</td>\n",
       "      <td>0.312784</td>\n",
       "      <td>0.528873</td>\n",
       "      <td>positive</td>\n",
       "      <td>2023-02-10 23:59:18+00:00</td>\n",
       "      <td>4</td>\n",
       "      <td>NaN</td>\n",
       "      <td>23</td>\n",
       "      <td>577</td>\n",
       "      <td>0</td>\n",
       "      <td>1</td>\n",
       "    </tr>\n",
       "    <tr>\n",
       "      <th>3</th>\n",
       "      <td>Which means your job is at risk Bill Gates say...</td>\n",
       "      <td>0.023860</td>\n",
       "      <td>0.931395</td>\n",
       "      <td>0.044745</td>\n",
       "      <td>neutral</td>\n",
       "      <td>2023-02-10 23:59:16+00:00</td>\n",
       "      <td>0</td>\n",
       "      <td>NaN</td>\n",
       "      <td>108</td>\n",
       "      <td>224</td>\n",
       "      <td>0</td>\n",
       "      <td>0</td>\n",
       "    </tr>\n",
       "    <tr>\n",
       "      <th>4</th>\n",
       "      <td>What have you been using Chatgpt for?</td>\n",
       "      <td>0.005627</td>\n",
       "      <td>0.968457</td>\n",
       "      <td>0.025916</td>\n",
       "      <td>neutral</td>\n",
       "      <td>2023-02-10 23:59:16+00:00</td>\n",
       "      <td>1</td>\n",
       "      <td>Chicago, IL</td>\n",
       "      <td>11155</td>\n",
       "      <td>478</td>\n",
       "      <td>0</td>\n",
       "      <td>1</td>\n",
       "    </tr>\n",
       "  </tbody>\n",
       "</table>\n",
       "</div>"
      ],
      "text/plain": [
       "                                                Text  negative   neutral  \\\n",
       "0  If I were a journalist or reporter writing cli...  0.947877  0.040978   \n",
       "1  Imagine if the mid season twist was that theyr...  0.031874  0.156266   \n",
       "2  I see the difference between leader and employ...  0.158342  0.312784   \n",
       "3  Which means your job is at risk Bill Gates say...  0.023860  0.931395   \n",
       "4              What have you been using Chatgpt for?  0.005627  0.968457   \n",
       "\n",
       "   positive predicted_label                       date  likes  \\\n",
       "0  0.011144        negative  2023-02-10 23:59:49+00:00      1   \n",
       "1  0.811859        positive  2023-02-10 23:59:35+00:00      8   \n",
       "2  0.528873        positive  2023-02-10 23:59:18+00:00      4   \n",
       "3  0.044745         neutral  2023-02-10 23:59:16+00:00      0   \n",
       "4  0.025916         neutral  2023-02-10 23:59:16+00:00      1   \n",
       "\n",
       "                 location  followers  following  retweets  replies  \n",
       "0  Fukuoka 福岡  | Japan 日本       2012        388         0        0  \n",
       "1           Manhattan, NY      19855       5722         1        2  \n",
       "2                     NaN         23        577         0        1  \n",
       "3                     NaN        108        224         0        0  \n",
       "4             Chicago, IL      11155        478         0        1  "
      ]
     },
     "execution_count": 2,
     "metadata": {},
     "output_type": "execute_result"
    }
   ],
   "source": [
    "# 데이터 불러오기\n",
    "df = pd.read_csv(\"C:/Users/sssum/Downloads/chatgpt_sentiment.csv\")\n",
    "df.head()"
   ]
  },
  {
   "cell_type": "code",
   "execution_count": null,
   "metadata": {},
   "outputs": [
    {
     "name": "stdout",
     "output_type": "stream",
     "text": [
      "<class 'pandas.core.frame.DataFrame'>\n",
      "RangeIndex: 975450 entries, 0 to 975449\n",
      "Data columns (total 12 columns):\n",
      " #   Column           Non-Null Count   Dtype  \n",
      "---  ------           --------------   -----  \n",
      " 0   Text             975027 non-null  object \n",
      " 1   negative         975450 non-null  float64\n",
      " 2   neutral          975450 non-null  float64\n",
      " 3   positive         975450 non-null  float64\n",
      " 4   predicted_label  975450 non-null  object \n",
      " 5   date             975450 non-null  object \n",
      " 6   likes            975450 non-null  int64  \n",
      " 7   location         705265 non-null  object \n",
      " 8   followers        975450 non-null  int64  \n",
      " 9   following        975450 non-null  int64  \n",
      " 10  retweets         975450 non-null  int64  \n",
      " 11  replies          975450 non-null  int64  \n",
      "dtypes: float64(3), int64(5), object(4)\n",
      "memory usage: 89.3+ MB\n"
     ]
    }
   ],
   "source": [
    "# 데이터 기본 정보 확인\n",
    "df.info()"
   ]
  },
  {
   "cell_type": "markdown",
   "metadata": {},
   "source": [
    "location 컬럼 결측치 있음"
   ]
  },
  {
   "cell_type": "code",
   "execution_count": 5,
   "metadata": {},
   "outputs": [
    {
     "data": {
      "text/html": [
       "<div>\n",
       "<style scoped>\n",
       "    .dataframe tbody tr th:only-of-type {\n",
       "        vertical-align: middle;\n",
       "    }\n",
       "\n",
       "    .dataframe tbody tr th {\n",
       "        vertical-align: top;\n",
       "    }\n",
       "\n",
       "    .dataframe thead th {\n",
       "        text-align: right;\n",
       "    }\n",
       "</style>\n",
       "<table border=\"1\" class=\"dataframe\">\n",
       "  <thead>\n",
       "    <tr style=\"text-align: right;\">\n",
       "      <th></th>\n",
       "      <th>negative</th>\n",
       "      <th>neutral</th>\n",
       "      <th>positive</th>\n",
       "      <th>likes</th>\n",
       "      <th>followers</th>\n",
       "      <th>following</th>\n",
       "      <th>retweets</th>\n",
       "      <th>replies</th>\n",
       "    </tr>\n",
       "  </thead>\n",
       "  <tbody>\n",
       "    <tr>\n",
       "      <th>count</th>\n",
       "      <td>975450.000000</td>\n",
       "      <td>975450.000000</td>\n",
       "      <td>975450.000000</td>\n",
       "      <td>975450.000000</td>\n",
       "      <td>9.754500e+05</td>\n",
       "      <td>9.754500e+05</td>\n",
       "      <td>975450.000000</td>\n",
       "      <td>975450.000000</td>\n",
       "    </tr>\n",
       "    <tr>\n",
       "      <th>mean</th>\n",
       "      <td>0.224028</td>\n",
       "      <td>0.437321</td>\n",
       "      <td>0.338650</td>\n",
       "      <td>11.961189</td>\n",
       "      <td>3.231735e+04</td>\n",
       "      <td>1.573738e+03</td>\n",
       "      <td>1.765541</td>\n",
       "      <td>1.114315</td>\n",
       "    </tr>\n",
       "    <tr>\n",
       "      <th>std</th>\n",
       "      <td>0.349075</td>\n",
       "      <td>0.374737</td>\n",
       "      <td>0.377395</td>\n",
       "      <td>355.771275</td>\n",
       "      <td>7.281230e+05</td>\n",
       "      <td>9.618419e+03</td>\n",
       "      <td>57.776420</td>\n",
       "      <td>36.731214</td>\n",
       "    </tr>\n",
       "    <tr>\n",
       "      <th>min</th>\n",
       "      <td>0.001543</td>\n",
       "      <td>0.005018</td>\n",
       "      <td>0.003674</td>\n",
       "      <td>0.000000</td>\n",
       "      <td>0.000000e+00</td>\n",
       "      <td>0.000000e+00</td>\n",
       "      <td>0.000000</td>\n",
       "      <td>0.000000</td>\n",
       "    </tr>\n",
       "    <tr>\n",
       "      <th>25%</th>\n",
       "      <td>0.006844</td>\n",
       "      <td>0.052123</td>\n",
       "      <td>0.018617</td>\n",
       "      <td>0.000000</td>\n",
       "      <td>8.600000e+01</td>\n",
       "      <td>1.480000e+02</td>\n",
       "      <td>0.000000</td>\n",
       "      <td>0.000000</td>\n",
       "    </tr>\n",
       "    <tr>\n",
       "      <th>50%</th>\n",
       "      <td>0.024687</td>\n",
       "      <td>0.355728</td>\n",
       "      <td>0.116684</td>\n",
       "      <td>1.000000</td>\n",
       "      <td>4.390000e+02</td>\n",
       "      <td>4.600000e+02</td>\n",
       "      <td>0.000000</td>\n",
       "      <td>0.000000</td>\n",
       "    </tr>\n",
       "    <tr>\n",
       "      <th>75%</th>\n",
       "      <td>0.254022</td>\n",
       "      <td>0.846569</td>\n",
       "      <td>0.746904</td>\n",
       "      <td>2.000000</td>\n",
       "      <td>2.041000e+03</td>\n",
       "      <td>1.214000e+03</td>\n",
       "      <td>0.000000</td>\n",
       "      <td>1.000000</td>\n",
       "    </tr>\n",
       "    <tr>\n",
       "      <th>max</th>\n",
       "      <td>0.986359</td>\n",
       "      <td>0.993227</td>\n",
       "      <td>0.990427</td>\n",
       "      <td>111653.000000</td>\n",
       "      <td>1.287402e+08</td>\n",
       "      <td>1.526451e+06</td>\n",
       "      <td>13072.000000</td>\n",
       "      <td>19942.000000</td>\n",
       "    </tr>\n",
       "  </tbody>\n",
       "</table>\n",
       "</div>"
      ],
      "text/plain": [
       "            negative        neutral       positive          likes  \\\n",
       "count  975450.000000  975450.000000  975450.000000  975450.000000   \n",
       "mean        0.224028       0.437321       0.338650      11.961189   \n",
       "std         0.349075       0.374737       0.377395     355.771275   \n",
       "min         0.001543       0.005018       0.003674       0.000000   \n",
       "25%         0.006844       0.052123       0.018617       0.000000   \n",
       "50%         0.024687       0.355728       0.116684       1.000000   \n",
       "75%         0.254022       0.846569       0.746904       2.000000   \n",
       "max         0.986359       0.993227       0.990427  111653.000000   \n",
       "\n",
       "          followers     following       retweets        replies  \n",
       "count  9.754500e+05  9.754500e+05  975450.000000  975450.000000  \n",
       "mean   3.231735e+04  1.573738e+03       1.765541       1.114315  \n",
       "std    7.281230e+05  9.618419e+03      57.776420      36.731214  \n",
       "min    0.000000e+00  0.000000e+00       0.000000       0.000000  \n",
       "25%    8.600000e+01  1.480000e+02       0.000000       0.000000  \n",
       "50%    4.390000e+02  4.600000e+02       0.000000       0.000000  \n",
       "75%    2.041000e+03  1.214000e+03       0.000000       1.000000  \n",
       "max    1.287402e+08  1.526451e+06   13072.000000   19942.000000  "
      ]
     },
     "execution_count": 5,
     "metadata": {},
     "output_type": "execute_result"
    }
   ],
   "source": [
    "# 데이터 통계 정보 확인\n",
    "df.describe()"
   ]
  },
  {
   "cell_type": "code",
   "execution_count": 13,
   "metadata": {},
   "outputs": [
    {
     "data": {
      "text/html": [
       "<div>\n",
       "<style scoped>\n",
       "    .dataframe tbody tr th:only-of-type {\n",
       "        vertical-align: middle;\n",
       "    }\n",
       "\n",
       "    .dataframe tbody tr th {\n",
       "        vertical-align: top;\n",
       "    }\n",
       "\n",
       "    .dataframe thead th {\n",
       "        text-align: right;\n",
       "    }\n",
       "</style>\n",
       "<table border=\"1\" class=\"dataframe\">\n",
       "  <thead>\n",
       "    <tr style=\"text-align: right;\">\n",
       "      <th></th>\n",
       "      <th>Text</th>\n",
       "      <th>date</th>\n",
       "      <th>location</th>\n",
       "    </tr>\n",
       "  </thead>\n",
       "  <tbody>\n",
       "    <tr>\n",
       "      <th>count</th>\n",
       "      <td>704971</td>\n",
       "      <td>704971</td>\n",
       "      <td>704971</td>\n",
       "    </tr>\n",
       "    <tr>\n",
       "      <th>unique</th>\n",
       "      <td>625655</td>\n",
       "      <td>646855</td>\n",
       "      <td>93616</td>\n",
       "    </tr>\n",
       "    <tr>\n",
       "      <th>top</th>\n",
       "      <td>ChatGPT</td>\n",
       "      <td>2023-01-12 10:30:34+00:00</td>\n",
       "      <td>United States</td>\n",
       "    </tr>\n",
       "    <tr>\n",
       "      <th>freq</th>\n",
       "      <td>9992</td>\n",
       "      <td>31</td>\n",
       "      <td>11208</td>\n",
       "    </tr>\n",
       "  </tbody>\n",
       "</table>\n",
       "</div>"
      ],
      "text/plain": [
       "           Text                       date       location\n",
       "count    704971                     704971         704971\n",
       "unique   625655                     646855          93616\n",
       "top     ChatGPT  2023-01-12 10:30:34+00:00  United States\n",
       "freq       9992                         31          11208"
      ]
     },
     "execution_count": 13,
     "metadata": {},
     "output_type": "execute_result"
    }
   ],
   "source": [
    "# 범주형 컬럼 분포 확인\n",
    "df.describe(include='object')"
   ]
  },
  {
   "cell_type": "markdown",
   "metadata": {},
   "source": [
    "- negative, neutral, positive 라벨링을 진행하고, 각 감성마다 분포 파악\n",
    "- 데이터 개수가 약 97만개로 모델링시 시간이 매우 오래 걸리는 점을 감안하여 샘플링을 진행\n",
    "- text와 라벨 변수(감성) 외에 likes, follwers 등 변수들은 EDA 과정에서 활용하고 모델링에서는 활용하지 않음"
   ]
  },
  {
   "cell_type": "code",
   "execution_count": 6,
   "metadata": {},
   "outputs": [
    {
     "data": {
      "text/plain": [
       "\"If I were a journalist or reporter writing click-bait for a living then I'd be worried: BuzzFeed Inc. said it would rely on ChatGPT creator OpenAI to enhance its quizzes and personalize some content for audiences via\""
      ]
     },
     "execution_count": 6,
     "metadata": {},
     "output_type": "execute_result"
    }
   ],
   "source": [
    "# 리뷰 텍스트 형태 확인\n",
    "df['Text'][0]"
   ]
  },
  {
   "cell_type": "markdown",
   "metadata": {},
   "source": [
    "텍스트는 html 형식이 아니므로 소문자화, 구두점 제거, stopwords 제거로 1차 전처리 과정을 거침"
   ]
  },
  {
   "cell_type": "markdown",
   "metadata": {},
   "source": [
    "## 데이터 전처리\n",
    "이번 챕터는 텍스트 분석을 진행해야 하므로 먼저 데이터 전처리를 진행 후 EDA 진행"
   ]
  },
  {
   "cell_type": "code",
   "execution_count": 8,
   "metadata": {},
   "outputs": [
    {
     "data": {
      "text/html": [
       "<div>\n",
       "<style scoped>\n",
       "    .dataframe tbody tr th:only-of-type {\n",
       "        vertical-align: middle;\n",
       "    }\n",
       "\n",
       "    .dataframe tbody tr th {\n",
       "        vertical-align: top;\n",
       "    }\n",
       "\n",
       "    .dataframe thead th {\n",
       "        text-align: right;\n",
       "    }\n",
       "</style>\n",
       "<table border=\"1\" class=\"dataframe\">\n",
       "  <thead>\n",
       "    <tr style=\"text-align: right;\">\n",
       "      <th></th>\n",
       "      <th>Text</th>\n",
       "      <th>negative</th>\n",
       "      <th>neutral</th>\n",
       "      <th>positive</th>\n",
       "      <th>predicted_label</th>\n",
       "      <th>date</th>\n",
       "      <th>likes</th>\n",
       "      <th>location</th>\n",
       "      <th>followers</th>\n",
       "      <th>following</th>\n",
       "      <th>retweets</th>\n",
       "      <th>replies</th>\n",
       "      <th>sentiment_label</th>\n",
       "    </tr>\n",
       "  </thead>\n",
       "  <tbody>\n",
       "    <tr>\n",
       "      <th>0</th>\n",
       "      <td>If I were a journalist or reporter writing cli...</td>\n",
       "      <td>0.947877</td>\n",
       "      <td>0.040978</td>\n",
       "      <td>0.011144</td>\n",
       "      <td>negative</td>\n",
       "      <td>2023-02-10 23:59:49+00:00</td>\n",
       "      <td>1</td>\n",
       "      <td>Fukuoka 福岡  | Japan 日本</td>\n",
       "      <td>2012</td>\n",
       "      <td>388</td>\n",
       "      <td>0</td>\n",
       "      <td>0</td>\n",
       "      <td>0</td>\n",
       "    </tr>\n",
       "    <tr>\n",
       "      <th>1</th>\n",
       "      <td>Imagine if the mid season twist was that theyr...</td>\n",
       "      <td>0.031874</td>\n",
       "      <td>0.156266</td>\n",
       "      <td>0.811859</td>\n",
       "      <td>positive</td>\n",
       "      <td>2023-02-10 23:59:35+00:00</td>\n",
       "      <td>8</td>\n",
       "      <td>Manhattan, NY</td>\n",
       "      <td>19855</td>\n",
       "      <td>5722</td>\n",
       "      <td>1</td>\n",
       "      <td>2</td>\n",
       "      <td>1</td>\n",
       "    </tr>\n",
       "    <tr>\n",
       "      <th>2</th>\n",
       "      <td>I see the difference between leader and employ...</td>\n",
       "      <td>0.158342</td>\n",
       "      <td>0.312784</td>\n",
       "      <td>0.528873</td>\n",
       "      <td>positive</td>\n",
       "      <td>2023-02-10 23:59:18+00:00</td>\n",
       "      <td>4</td>\n",
       "      <td>NaN</td>\n",
       "      <td>23</td>\n",
       "      <td>577</td>\n",
       "      <td>0</td>\n",
       "      <td>1</td>\n",
       "      <td>1</td>\n",
       "    </tr>\n",
       "    <tr>\n",
       "      <th>3</th>\n",
       "      <td>Which means your job is at risk Bill Gates say...</td>\n",
       "      <td>0.023860</td>\n",
       "      <td>0.931395</td>\n",
       "      <td>0.044745</td>\n",
       "      <td>neutral</td>\n",
       "      <td>2023-02-10 23:59:16+00:00</td>\n",
       "      <td>0</td>\n",
       "      <td>NaN</td>\n",
       "      <td>108</td>\n",
       "      <td>224</td>\n",
       "      <td>0</td>\n",
       "      <td>0</td>\n",
       "      <td>2</td>\n",
       "    </tr>\n",
       "    <tr>\n",
       "      <th>4</th>\n",
       "      <td>What have you been using Chatgpt for?</td>\n",
       "      <td>0.005627</td>\n",
       "      <td>0.968457</td>\n",
       "      <td>0.025916</td>\n",
       "      <td>neutral</td>\n",
       "      <td>2023-02-10 23:59:16+00:00</td>\n",
       "      <td>1</td>\n",
       "      <td>Chicago, IL</td>\n",
       "      <td>11155</td>\n",
       "      <td>478</td>\n",
       "      <td>0</td>\n",
       "      <td>1</td>\n",
       "      <td>2</td>\n",
       "    </tr>\n",
       "  </tbody>\n",
       "</table>\n",
       "</div>"
      ],
      "text/plain": [
       "                                                Text  negative   neutral  \\\n",
       "0  If I were a journalist or reporter writing cli...  0.947877  0.040978   \n",
       "1  Imagine if the mid season twist was that theyr...  0.031874  0.156266   \n",
       "2  I see the difference between leader and employ...  0.158342  0.312784   \n",
       "3  Which means your job is at risk Bill Gates say...  0.023860  0.931395   \n",
       "4              What have you been using Chatgpt for?  0.005627  0.968457   \n",
       "\n",
       "   positive predicted_label                       date  likes  \\\n",
       "0  0.011144        negative  2023-02-10 23:59:49+00:00      1   \n",
       "1  0.811859        positive  2023-02-10 23:59:35+00:00      8   \n",
       "2  0.528873        positive  2023-02-10 23:59:18+00:00      4   \n",
       "3  0.044745         neutral  2023-02-10 23:59:16+00:00      0   \n",
       "4  0.025916         neutral  2023-02-10 23:59:16+00:00      1   \n",
       "\n",
       "                 location  followers  following  retweets  replies  \\\n",
       "0  Fukuoka 福岡  | Japan 日本       2012        388         0        0   \n",
       "1           Manhattan, NY      19855       5722         1        2   \n",
       "2                     NaN         23        577         0        1   \n",
       "3                     NaN        108        224         0        0   \n",
       "4             Chicago, IL      11155        478         0        1   \n",
       "\n",
       "   sentiment_label  \n",
       "0                0  \n",
       "1                1  \n",
       "2                1  \n",
       "3                2  \n",
       "4                2  "
      ]
     },
     "execution_count": 8,
     "metadata": {},
     "output_type": "execute_result"
    }
   ],
   "source": [
    "# 라벨링 0-negative, 1-positive, 2-neutral\n",
    "label_mapping = {'negative': 0, 'positive': 1, 'neutral': 2}\n",
    "df['sentiment_label'] = df['predicted_label'].map(label_mapping)\n",
    "\n",
    "df.head()"
   ]
  },
  {
   "cell_type": "code",
   "execution_count": 9,
   "metadata": {},
   "outputs": [
    {
     "data": {
      "text/html": [
       "<div>\n",
       "<style scoped>\n",
       "    .dataframe tbody tr th:only-of-type {\n",
       "        vertical-align: middle;\n",
       "    }\n",
       "\n",
       "    .dataframe tbody tr th {\n",
       "        vertical-align: top;\n",
       "    }\n",
       "\n",
       "    .dataframe thead th {\n",
       "        text-align: right;\n",
       "    }\n",
       "</style>\n",
       "<table border=\"1\" class=\"dataframe\">\n",
       "  <thead>\n",
       "    <tr style=\"text-align: right;\">\n",
       "      <th></th>\n",
       "      <th>Text</th>\n",
       "      <th>date</th>\n",
       "      <th>likes</th>\n",
       "      <th>location</th>\n",
       "      <th>followers</th>\n",
       "      <th>following</th>\n",
       "      <th>retweets</th>\n",
       "      <th>replies</th>\n",
       "      <th>sentiment_label</th>\n",
       "    </tr>\n",
       "  </thead>\n",
       "  <tbody>\n",
       "    <tr>\n",
       "      <th>0</th>\n",
       "      <td>If I were a journalist or reporter writing cli...</td>\n",
       "      <td>2023-02-10 23:59:49+00:00</td>\n",
       "      <td>1</td>\n",
       "      <td>Fukuoka 福岡  | Japan 日本</td>\n",
       "      <td>2012</td>\n",
       "      <td>388</td>\n",
       "      <td>0</td>\n",
       "      <td>0</td>\n",
       "      <td>0</td>\n",
       "    </tr>\n",
       "    <tr>\n",
       "      <th>1</th>\n",
       "      <td>Imagine if the mid season twist was that theyr...</td>\n",
       "      <td>2023-02-10 23:59:35+00:00</td>\n",
       "      <td>8</td>\n",
       "      <td>Manhattan, NY</td>\n",
       "      <td>19855</td>\n",
       "      <td>5722</td>\n",
       "      <td>1</td>\n",
       "      <td>2</td>\n",
       "      <td>1</td>\n",
       "    </tr>\n",
       "    <tr>\n",
       "      <th>2</th>\n",
       "      <td>I see the difference between leader and employ...</td>\n",
       "      <td>2023-02-10 23:59:18+00:00</td>\n",
       "      <td>4</td>\n",
       "      <td>NaN</td>\n",
       "      <td>23</td>\n",
       "      <td>577</td>\n",
       "      <td>0</td>\n",
       "      <td>1</td>\n",
       "      <td>1</td>\n",
       "    </tr>\n",
       "    <tr>\n",
       "      <th>3</th>\n",
       "      <td>Which means your job is at risk Bill Gates say...</td>\n",
       "      <td>2023-02-10 23:59:16+00:00</td>\n",
       "      <td>0</td>\n",
       "      <td>NaN</td>\n",
       "      <td>108</td>\n",
       "      <td>224</td>\n",
       "      <td>0</td>\n",
       "      <td>0</td>\n",
       "      <td>2</td>\n",
       "    </tr>\n",
       "    <tr>\n",
       "      <th>4</th>\n",
       "      <td>What have you been using Chatgpt for?</td>\n",
       "      <td>2023-02-10 23:59:16+00:00</td>\n",
       "      <td>1</td>\n",
       "      <td>Chicago, IL</td>\n",
       "      <td>11155</td>\n",
       "      <td>478</td>\n",
       "      <td>0</td>\n",
       "      <td>1</td>\n",
       "      <td>2</td>\n",
       "    </tr>\n",
       "  </tbody>\n",
       "</table>\n",
       "</div>"
      ],
      "text/plain": [
       "                                                Text  \\\n",
       "0  If I were a journalist or reporter writing cli...   \n",
       "1  Imagine if the mid season twist was that theyr...   \n",
       "2  I see the difference between leader and employ...   \n",
       "3  Which means your job is at risk Bill Gates say...   \n",
       "4              What have you been using Chatgpt for?   \n",
       "\n",
       "                        date  likes                location  followers  \\\n",
       "0  2023-02-10 23:59:49+00:00      1  Fukuoka 福岡  | Japan 日本       2012   \n",
       "1  2023-02-10 23:59:35+00:00      8           Manhattan, NY      19855   \n",
       "2  2023-02-10 23:59:18+00:00      4                     NaN         23   \n",
       "3  2023-02-10 23:59:16+00:00      0                     NaN        108   \n",
       "4  2023-02-10 23:59:16+00:00      1             Chicago, IL      11155   \n",
       "\n",
       "   following  retweets  replies  sentiment_label  \n",
       "0        388         0        0                0  \n",
       "1       5722         1        2                1  \n",
       "2        577         0        1                1  \n",
       "3        224         0        0                2  \n",
       "4        478         0        1                2  "
      ]
     },
     "execution_count": 9,
     "metadata": {},
     "output_type": "execute_result"
    }
   ],
   "source": [
    "# negative와 같이 확률값 컬럼과 predicted_label 컬럼 제거\n",
    "df = df.drop(columns=['negative', 'positive', 'neutral', 'predicted_label'], axis=1)\n",
    "df.head()"
   ]
  },
  {
   "cell_type": "code",
   "execution_count": 12,
   "metadata": {},
   "outputs": [
    {
     "name": "stdout",
     "output_type": "stream",
     "text": [
      "<class 'pandas.core.frame.DataFrame'>\n",
      "Int64Index: 704971 entries, 0 to 975449\n",
      "Data columns (total 9 columns):\n",
      " #   Column           Non-Null Count   Dtype \n",
      "---  ------           --------------   ----- \n",
      " 0   Text             704971 non-null  object\n",
      " 1   date             704971 non-null  object\n",
      " 2   likes            704971 non-null  int64 \n",
      " 3   location         704971 non-null  object\n",
      " 4   followers        704971 non-null  int64 \n",
      " 5   following        704971 non-null  int64 \n",
      " 6   retweets         704971 non-null  int64 \n",
      " 7   replies          704971 non-null  int64 \n",
      " 8   sentiment_label  704971 non-null  int64 \n",
      "dtypes: int64(6), object(3)\n",
      "memory usage: 53.8+ MB\n"
     ]
    }
   ],
   "source": [
    "# location 컬럼 결측치 제거\n",
    "df = df.dropna(axis=0, how='any')\n",
    "df.info()"
   ]
  },
  {
   "cell_type": "markdown",
   "metadata": {},
   "source": [
    "## EDA"
   ]
  },
  {
   "cell_type": "code",
   "execution_count": 10,
   "metadata": {},
   "outputs": [
    {
     "data": {
      "text/plain": [
       "<Axes: xlabel='sentiment_label', ylabel='count'>"
      ]
     },
     "execution_count": 10,
     "metadata": {},
     "output_type": "execute_result"
    },
    {
     "data": {
      "image/png": "[encoded data removed]",
      "text/plain": [
       "<Figure size 640x480 with 1 Axes>"
      ]
     },
     "metadata": {},
     "output_type": "display_data"
    }
   ],
   "source": [
    "# 라벨 변수 분포 확인\n",
    "sns.countplot(x='sentiment_label', data=df)"
   ]
  },
  {
   "cell_type": "markdown",
   "metadata": {},
   "source": [
    "- 중립이 가장 많고, 긍정, 부정순\n",
    "- 라벨 변수 분포를 동일하게 샘플링 진행"
   ]
  },
  {
   "cell_type": "code",
   "execution_count": 14,
   "metadata": {},
   "outputs": [
    {
     "data": {
      "image/png": "[encoded data removed]",
      "text/plain": [
       "<Figure size 1200x600 with 1 Axes>"
      ]
     },
     "metadata": {},
     "output_type": "display_data"
    }
   ],
   "source": [
    "# location 컬럼 상위 10개 분포 확인\n",
    "top_10_locations = df['location'].value_counts().nlargest(10)\n",
    "\n",
    "plt.figure(figsize=(12, 6))\n",
    "plt.bar(top_10_locations.index, top_10_locations.values)\n",
    "plt.xlabel('Location', fontsize=14)\n",
    "plt.ylabel('Count', fontsize=14)\n",
    "plt.title('Top 10 Location Distribution', fontsize=16)\n",
    "plt.xticks(rotation=45)\n",
    "plt.show()"
   ]
  },
  {
   "cell_type": "markdown",
   "metadata": {},
   "source": [
    "- 미국에서 작성된 트윗이 가장 많고, 그 다음으로 인도가 많음\n",
    "- 동일한 나라여도 다르게 작성된 값이 많음\n",
    "- 모델링에는 사용하지 않는 것으로 결정함"
   ]
  },
  {
   "cell_type": "code",
   "execution_count": 17,
   "metadata": {},
   "outputs": [
    {
     "data": {
      "text/html": [
       "<div>\n",
       "<style scoped>\n",
       "    .dataframe tbody tr th:only-of-type {\n",
       "        vertical-align: middle;\n",
       "    }\n",
       "\n",
       "    .dataframe tbody tr th {\n",
       "        vertical-align: top;\n",
       "    }\n",
       "\n",
       "    .dataframe thead th {\n",
       "        text-align: right;\n",
       "    }\n",
       "</style>\n",
       "<table border=\"1\" class=\"dataframe\">\n",
       "  <thead>\n",
       "    <tr style=\"text-align: right;\">\n",
       "      <th></th>\n",
       "      <th>Text</th>\n",
       "      <th>likes</th>\n",
       "    </tr>\n",
       "  </thead>\n",
       "  <tbody>\n",
       "    <tr>\n",
       "      <th>170270</th>\n",
       "      <td>Time it took to get 100 million users: Netflix: 10 years Gmail: 5 years Twitter: 5 years Facebook: 4.5 years WhatsApp: 3.5 years Instagram: 2.5 years TikTok: 9 months ChatGPT: 2 months Pirate Bay: 1 day after Netflix cancelled shared passwords and Gen-Z discovered torrents.</td>\n",
       "      <td>111653</td>\n",
       "    </tr>\n",
       "    <tr>\n",
       "      <th>950217</th>\n",
       "      <td>POV: You're a Senior Data Engineer at Twitter. Elon asks what you've done this week. You've done nothing. Frantically, you open ChatGPT.</td>\n",
       "      <td>62310</td>\n",
       "    </tr>\n",
       "    <tr>\n",
       "      <th>188438</th>\n",
       "      <td>ChatGPT is everywhere and everyone is using it. But most academics don't know how to use it *smartly.* Here's how to use ChatGPT intelligently (and ethically) for academic purposes:</td>\n",
       "      <td>60325</td>\n",
       "    </tr>\n",
       "    <tr>\n",
       "      <th>656600</th>\n",
       "      <td>ChatGPT is a FREE assistant. But most people dont know the best ways to use it. Here are 8 ways ChatGPT can save you thousands of hours in 2023:</td>\n",
       "      <td>60197</td>\n",
       "    </tr>\n",
       "    <tr>\n",
       "      <th>368458</th>\n",
       "      <td>ChatGPT passed a Wharton MBA exam. Time to overhaul education.</td>\n",
       "      <td>58667</td>\n",
       "    </tr>\n",
       "    <tr>\n",
       "      <th>925357</th>\n",
       "      <td>ChatGPT launched on wednesday. today it crossed 1 million users!</td>\n",
       "      <td>52707</td>\n",
       "    </tr>\n",
       "    <tr>\n",
       "      <th>647959</th>\n",
       "      <td>Everyones using ChatGPT. But almost everyone's STUCK in beginner mode. 10 techniques to get massively ahead with AI: (cut-and-paste these prompts)</td>\n",
       "      <td>47592</td>\n",
       "    </tr>\n",
       "    <tr>\n",
       "      <th>456058</th>\n",
       "      <td>imagine a ChatGPT browser extension that reads the Terms and Conditions agreement and flags anything that is non-standard</td>\n",
       "      <td>42849</td>\n",
       "    </tr>\n",
       "    <tr>\n",
       "      <th>349058</th>\n",
       "      <td>chatgpt will never replicate the charm and syntax of an undergraduate paper where the student has neither been to class nor read more than the abstract of a paper there's a magic nothingness that they're able to conjure with sheer grit and desperation that a.i. could never</td>\n",
       "      <td>42441</td>\n",
       "    </tr>\n",
       "    <tr>\n",
       "      <th>106346</th>\n",
       "      <td>Looks like ChatGPT is gonna need to go in the shop for repairs because it's been BUCK BROKEN</td>\n",
       "      <td>41801</td>\n",
       "    </tr>\n",
       "  </tbody>\n",
       "</table>\n",
       "</div>"
      ],
      "text/plain": [
       "                                                                                                                                                                                                                                                                                      Text  \\\n",
       "170270  Time it took to get 100 million users: Netflix: 10 years Gmail: 5 years Twitter: 5 years Facebook: 4.5 years WhatsApp: 3.5 years Instagram: 2.5 years TikTok: 9 months ChatGPT: 2 months Pirate Bay: 1 day after Netflix cancelled shared passwords and Gen-Z discovered torrents.   \n",
       "950217                                                                                                                                            POV: You're a Senior Data Engineer at Twitter. Elon asks what you've done this week. You've done nothing. Frantically, you open ChatGPT.   \n",
       "188438                                                                                               ChatGPT is everywhere and everyone is using it. But most academics don't know how to use it *smartly.* Here's how to use ChatGPT intelligently (and ethically) for academic purposes:   \n",
       "656600                                                                                                                                    ChatGPT is a FREE assistant. But most people dont know the best ways to use it. Here are 8 ways ChatGPT can save you thousands of hours in 2023:   \n",
       "368458                                                                                                                                                                                                                      ChatGPT passed a Wharton MBA exam. Time to overhaul education.   \n",
       "925357                                                                                                                                                                                                                    ChatGPT launched on wednesday. today it crossed 1 million users!   \n",
       "647959                                                                                                                                  Everyones using ChatGPT. But almost everyone's STUCK in beginner mode. 10 techniques to get massively ahead with AI: (cut-and-paste these prompts)   \n",
       "456058                                                                                                                                                           imagine a ChatGPT browser extension that reads the Terms and Conditions agreement and flags anything that is non-standard   \n",
       "349058   chatgpt will never replicate the charm and syntax of an undergraduate paper where the student has neither been to class nor read more than the abstract of a paper there's a magic nothingness that they're able to conjure with sheer grit and desperation that a.i. could never   \n",
       "106346                                                                                                                                                                                        Looks like ChatGPT is gonna need to go in the shop for repairs because it's been BUCK BROKEN   \n",
       "\n",
       "         likes  \n",
       "170270  111653  \n",
       "950217   62310  \n",
       "188438   60325  \n",
       "656600   60197  \n",
       "368458   58667  \n",
       "925357   52707  \n",
       "647959   47592  \n",
       "456058   42849  \n",
       "349058   42441  \n",
       "106346   41801  "
      ]
     },
     "execution_count": 17,
     "metadata": {},
     "output_type": "execute_result"
    }
   ],
   "source": [
    "# 좋아요 개수 상위 10개 텍스트값 확인\n",
    "pd.set_option('display.max_colwidth', None)\n",
    "top_10_likes = df.nlargest(10, 'likes')[['Text', 'likes']]\n",
    "\n",
    "top_10_likes"
   ]
  },
  {
   "cell_type": "markdown",
   "metadata": {},
   "source": [
    "- 111,653개의 좋아요를 받은 트윗 내용은 1억명의 고객을 모으는데 걸린 시간을 각 플랫폼별로 비교한 내용, ChatGPT가 그만큼 고객을 빨리 모았다는 것을 말함\n",
    "- 62,310개의 좋아요를 받은 트윗 내용은 ChatGPT를 홍보하기 위한 내용"
   ]
  },
  {
   "cell_type": "code",
   "execution_count": 18,
   "metadata": {},
   "outputs": [
    {
     "data": {
      "text/html": [
       "<div>\n",
       "<style scoped>\n",
       "    .dataframe tbody tr th:only-of-type {\n",
       "        vertical-align: middle;\n",
       "    }\n",
       "\n",
       "    .dataframe tbody tr th {\n",
       "        vertical-align: top;\n",
       "    }\n",
       "\n",
       "    .dataframe thead th {\n",
       "        text-align: right;\n",
       "    }\n",
       "</style>\n",
       "<table border=\"1\" class=\"dataframe\">\n",
       "  <thead>\n",
       "    <tr style=\"text-align: right;\">\n",
       "      <th></th>\n",
       "      <th>Text</th>\n",
       "      <th>retweets</th>\n",
       "    </tr>\n",
       "  </thead>\n",
       "  <tbody>\n",
       "    <tr>\n",
       "      <th>656600</th>\n",
       "      <td>ChatGPT is a FREE assistant. But most people dont know the best ways to use it. Here are 8 ways ChatGPT can save you thousands of hours in 2023:</td>\n",
       "      <td>13072</td>\n",
       "    </tr>\n",
       "    <tr>\n",
       "      <th>188438</th>\n",
       "      <td>ChatGPT is everywhere and everyone is using it. But most academics don't know how to use it *smartly.* Here's how to use ChatGPT intelligently (and ethically) for academic purposes:</td>\n",
       "      <td>12506</td>\n",
       "    </tr>\n",
       "    <tr>\n",
       "      <th>936279</th>\n",
       "      <td>We asked Open AI's ChatGPT what it thought of the unique architecture that Quai has implemented to solve the blockchain trilemma... What do you think of its response?</td>\n",
       "      <td>10526</td>\n",
       "    </tr>\n",
       "    <tr>\n",
       "      <th>170270</th>\n",
       "      <td>Time it took to get 100 million users: Netflix: 10 years Gmail: 5 years Twitter: 5 years Facebook: 4.5 years WhatsApp: 3.5 years Instagram: 2.5 years TikTok: 9 months ChatGPT: 2 months Pirate Bay: 1 day after Netflix cancelled shared passwords and Gen-Z discovered torrents.</td>\n",
       "      <td>10242</td>\n",
       "    </tr>\n",
       "    <tr>\n",
       "      <th>502485</th>\n",
       "      <td>Best AI Tools You Need To Know</td>\n",
       "      <td>9891</td>\n",
       "    </tr>\n",
       "    <tr>\n",
       "      <th>427949</th>\n",
       "      <td>Exclusive: OpenAI used outsourced Kenyan workers earning less than per hour to make ChatGPT less toxic, my investigation found (Thread)</td>\n",
       "      <td>9545</td>\n",
       "    </tr>\n",
       "    <tr>\n",
       "      <th>106346</th>\n",
       "      <td>Looks like ChatGPT is gonna need to go in the shop for repairs because it's been BUCK BROKEN</td>\n",
       "      <td>9517</td>\n",
       "    </tr>\n",
       "    <tr>\n",
       "      <th>600060</th>\n",
       "      <td>ultra-modern generative ai: AI2 AI21 mdm gpt-J gpt-3 x-clip bloom cohere gopher dalle 2 craiyon tabnine jukebox chatGPT *** anthropic codegeex nvidia get3d dreamfusion stable diffusion meta make-a-video</td>\n",
       "      <td>9501</td>\n",
       "    </tr>\n",
       "    <tr>\n",
       "      <th>667945</th>\n",
       "      <td>AI tools that didn't exist one year ago: ChatGPT Whisper GPT-3 Codex GitHub Copilot InstructGPT Text-to-product AI slides DALLE + API Midjourney Stable Diffusion Runway videos Email AI AI chrome extensions Replit Ghostwriter No-code AI app builders Ben's bites what else?</td>\n",
       "      <td>8989</td>\n",
       "    </tr>\n",
       "    <tr>\n",
       "      <th>647959</th>\n",
       "      <td>Everyones using ChatGPT. But almost everyone's STUCK in beginner mode. 10 techniques to get massively ahead with AI: (cut-and-paste these prompts)</td>\n",
       "      <td>8796</td>\n",
       "    </tr>\n",
       "  </tbody>\n",
       "</table>\n",
       "</div>"
      ],
      "text/plain": [
       "                                                                                                                                                                                                                                                                                      Text  \\\n",
       "656600                                                                                                                                    ChatGPT is a FREE assistant. But most people dont know the best ways to use it. Here are 8 ways ChatGPT can save you thousands of hours in 2023:   \n",
       "188438                                                                                               ChatGPT is everywhere and everyone is using it. But most academics don't know how to use it *smartly.* Here's how to use ChatGPT intelligently (and ethically) for academic purposes:   \n",
       "936279                                                                                                              We asked Open AI's ChatGPT what it thought of the unique architecture that Quai has implemented to solve the blockchain trilemma... What do you think of its response?   \n",
       "170270  Time it took to get 100 million users: Netflix: 10 years Gmail: 5 years Twitter: 5 years Facebook: 4.5 years WhatsApp: 3.5 years Instagram: 2.5 years TikTok: 9 months ChatGPT: 2 months Pirate Bay: 1 day after Netflix cancelled shared passwords and Gen-Z discovered torrents.   \n",
       "502485                                                                                                                                                                                                                                                      Best AI Tools You Need To Know   \n",
       "427949                                                                                                                                             Exclusive: OpenAI used outsourced Kenyan workers earning less than per hour to make ChatGPT less toxic, my investigation found (Thread)   \n",
       "106346                                                                                                                                                                                        Looks like ChatGPT is gonna need to go in the shop for repairs because it's been BUCK BROKEN   \n",
       "600060                                                                          ultra-modern generative ai: AI2 AI21 mdm gpt-J gpt-3 x-clip bloom cohere gopher dalle 2 craiyon tabnine jukebox chatGPT *** anthropic codegeex nvidia get3d dreamfusion stable diffusion meta make-a-video   \n",
       "667945     AI tools that didn't exist one year ago: ChatGPT Whisper GPT-3 Codex GitHub Copilot InstructGPT Text-to-product AI slides DALLE + API Midjourney Stable Diffusion Runway videos Email AI AI chrome extensions Replit Ghostwriter No-code AI app builders Ben's bites what else?   \n",
       "647959                                                                                                                                  Everyones using ChatGPT. But almost everyone's STUCK in beginner mode. 10 techniques to get massively ahead with AI: (cut-and-paste these prompts)   \n",
       "\n",
       "        retweets  \n",
       "656600     13072  \n",
       "188438     12506  \n",
       "936279     10526  \n",
       "170270     10242  \n",
       "502485      9891  \n",
       "427949      9545  \n",
       "106346      9517  \n",
       "600060      9501  \n",
       "667945      8989  \n",
       "647959      8796  "
      ]
     },
     "execution_count": 18,
     "metadata": {},
     "output_type": "execute_result"
    }
   ],
   "source": [
    "# 리트윗 개수 상위 10개 텍스트값 확인\n",
    "top_10_retweets = df.nlargest(10, 'retweets')[['Text', 'retweets']]\n",
    "\n",
    "top_10_retweets"
   ]
  },
  {
   "cell_type": "markdown",
   "metadata": {},
   "source": [
    "- 13,072개의 리트윗을 받은 트윗의 내용은 ChatGPT를 사용하는 8가지 방법에 대한 내용\n",
    "- 12,506개의 리트윗을 받은 트윗의 내용은 ChatGPT를 사용해서 공부하는 방법에 대한 내용"
   ]
  },
  {
   "cell_type": "code",
   "execution_count": 21,
   "metadata": {},
   "outputs": [
    {
     "data": {
      "image/png": "[encoded data removed]",
      "text/plain": [
       "<Figure size 1200x600 with 1 Axes>"
      ]
     },
     "metadata": {},
     "output_type": "display_data"
    }
   ],
   "source": [
    "# 트윗이 작성된 시간대 시각화\n",
    "df['date'] = pd.to_datetime(df['date'])\n",
    "df['hour'] = df['date'].dt.hour # 시간대 추출출\n",
    "\n",
    "hourly_counts = df['hour'].value_counts().sort_index() # 시간대별 트윗개수 집계계\n",
    "\n",
    "plt.figure(figsize=(12, 6))\n",
    "plt.bar(hourly_counts.index, hourly_counts.values)\n",
    "plt.xlabel('Hour of the Day', fontsize=14)\n",
    "plt.ylabel('Number of Tweets', fontsize=14)\n",
    "plt.title('Tweets Count by Hour', fontsize=16)\n",
    "plt.xticks(range(24))\n",
    "plt.grid(axis='y', linestyle='--', alpha=0.7)\n",
    "plt.show()"
   ]
  },
  {
   "cell_type": "markdown",
   "metadata": {},
   "source": [
    "오후 6시에 가장 많은 트윗이 작성되었고, 오전 5, 6시에 비교적 가장 적은 트윗이 작성됨 "
   ]
  },
  {
   "cell_type": "markdown",
   "metadata": {},
   "source": [
    "## 모델링"
   ]
  },
  {
   "cell_type": "code",
   "execution_count": 19,
   "metadata": {},
   "outputs": [
    {
     "name": "stdout",
     "output_type": "stream",
     "text": [
      "0    3333\n",
      "1    3333\n",
      "2    3333\n",
      "Name: sentiment_label, dtype: int64\n",
      "(9999, 9)\n"
     ]
    }
   ],
   "source": [
    "# 각 클래스별 비율을 동일하게 샘플링\n",
    "target_column = 'sentiment_label'\n",
    "num_classes = df[target_column].nunique()\n",
    "samples_per_class = 10000 // num_classes  # 각 클래스당 샘플 개수\n",
    "\n",
    "data = df.groupby(target_column).sample(n=samples_per_class, random_state=42)\n",
    "\n",
    "print(data[target_column].value_counts())  # 분포 확인\n",
    "print(data.shape)  # 샘플 개수 확인"
   ]
  },
  {
   "cell_type": "code",
   "execution_count": 22,
   "metadata": {},
   "outputs": [
    {
     "name": "stdout",
     "output_type": "stream",
     "text": [
      "<class 'pandas.core.frame.DataFrame'>\n",
      "Int64Index: 9999 entries, 597112 to 221062\n",
      "Data columns (total 9 columns):\n",
      " #   Column           Non-Null Count  Dtype \n",
      "---  ------           --------------  ----- \n",
      " 0   Text             9999 non-null   object\n",
      " 1   date             9999 non-null   object\n",
      " 2   likes            9999 non-null   int64 \n",
      " 3   location         9999 non-null   object\n",
      " 4   followers        9999 non-null   int64 \n",
      " 5   following        9999 non-null   int64 \n",
      " 6   retweets         9999 non-null   int64 \n",
      " 7   replies          9999 non-null   int64 \n",
      " 8   sentiment_label  9999 non-null   int64 \n",
      "dtypes: int64(6), object(3)\n",
      "memory usage: 781.2+ KB\n"
     ]
    }
   ],
   "source": [
    "# 샘플링 데이터 값 확인\n",
    "data.info()"
   ]
  },
  {
   "cell_type": "code",
   "execution_count": 25,
   "metadata": {},
   "outputs": [
    {
     "data": {
      "text/html": [
       "<div>\n",
       "<style scoped>\n",
       "    .dataframe tbody tr th:only-of-type {\n",
       "        vertical-align: middle;\n",
       "    }\n",
       "\n",
       "    .dataframe tbody tr th {\n",
       "        vertical-align: top;\n",
       "    }\n",
       "\n",
       "    .dataframe thead th {\n",
       "        text-align: right;\n",
       "    }\n",
       "</style>\n",
       "<table border=\"1\" class=\"dataframe\">\n",
       "  <thead>\n",
       "    <tr style=\"text-align: right;\">\n",
       "      <th></th>\n",
       "      <th>Text</th>\n",
       "      <th>sentiment_label</th>\n",
       "    </tr>\n",
       "  </thead>\n",
       "  <tbody>\n",
       "    <tr>\n",
       "      <th>597112</th>\n",
       "      <td>ChatGPT perfectly highlights the outdated educational approach and an urgent need to adap</td>\n",
       "      <td>0</td>\n",
       "    </tr>\n",
       "    <tr>\n",
       "      <th>713627</th>\n",
       "      <td>Trying to get chatgpt to decide on my next mtg commander deck but it doesnt even know what Kambal does, fkn scrub</td>\n",
       "      <td>0</td>\n",
       "    </tr>\n",
       "    <tr>\n",
       "      <th>676915</th>\n",
       "      <td>Its not literal (external) censorship. Its OpenAI making a huge effort to block ChatGPT anything that would be even remotely controversial, biased or aggressive. Even OpenAI said they will lower th</td>\n",
       "      <td>0</td>\n",
       "    </tr>\n",
       "    <tr>\n",
       "      <th>587527</th>\n",
       "      <td>In every one of these scenarios ChatGPT opted to save the most lives, until white men were added to the equation. Is ChatGPT racist? What if this was AI controlled EVs deciding who lives in a car accident? Scary stuff</td>\n",
       "      <td>0</td>\n",
       "    </tr>\n",
       "    <tr>\n",
       "      <th>357356</th>\n",
       "      <td>Asking some stupid questions to</td>\n",
       "      <td>0</td>\n",
       "    </tr>\n",
       "  </tbody>\n",
       "</table>\n",
       "</div>"
      ],
      "text/plain": [
       "                                                                                                                                                                                                                             Text  \\\n",
       "597112                                                                                                                                  ChatGPT perfectly highlights the outdated educational approach and an urgent need to adap   \n",
       "713627                                                                                                          Trying to get chatgpt to decide on my next mtg commander deck but it doesnt even know what Kambal does, fkn scrub   \n",
       "676915                      Its not literal (external) censorship. Its OpenAI making a huge effort to block ChatGPT anything that would be even remotely controversial, biased or aggressive. Even OpenAI said they will lower th   \n",
       "587527  In every one of these scenarios ChatGPT opted to save the most lives, until white men were added to the equation. Is ChatGPT racist? What if this was AI controlled EVs deciding who lives in a car accident? Scary stuff   \n",
       "357356                                                                                                                                                                                            Asking some stupid questions to   \n",
       "\n",
       "        sentiment_label  \n",
       "597112                0  \n",
       "713627                0  \n",
       "676915                0  \n",
       "587527                0  \n",
       "357356                0  "
      ]
     },
     "execution_count": 25,
     "metadata": {},
     "output_type": "execute_result"
    }
   ],
   "source": [
    "# 모델링에 사용하지 않는 컬럼 제거\n",
    "data = data[['Text', 'sentiment_label']]\n",
    "data.head()"
   ]
  },
  {
   "cell_type": "code",
   "execution_count": 29,
   "metadata": {},
   "outputs": [
    {
     "data": {
      "text/html": [
       "<div>\n",
       "<style scoped>\n",
       "    .dataframe tbody tr th:only-of-type {\n",
       "        vertical-align: middle;\n",
       "    }\n",
       "\n",
       "    .dataframe tbody tr th {\n",
       "        vertical-align: top;\n",
       "    }\n",
       "\n",
       "    .dataframe thead th {\n",
       "        text-align: right;\n",
       "    }\n",
       "</style>\n",
       "<table border=\"1\" class=\"dataframe\">\n",
       "  <thead>\n",
       "    <tr style=\"text-align: right;\">\n",
       "      <th></th>\n",
       "      <th>Text</th>\n",
       "      <th>sentiment_label</th>\n",
       "      <th>nopunc</th>\n",
       "    </tr>\n",
       "  </thead>\n",
       "  <tbody>\n",
       "    <tr>\n",
       "      <th>597112</th>\n",
       "      <td>ChatGPT perfectly highlights the outdated educational approach and an urgent need to adap</td>\n",
       "      <td>0</td>\n",
       "      <td>ChatGPT perfectly highlights the outdated educational approach and an urgent need to adap</td>\n",
       "    </tr>\n",
       "    <tr>\n",
       "      <th>713627</th>\n",
       "      <td>Trying to get chatgpt to decide on my next mtg commander deck but it doesnt even know what Kambal does, fkn scrub</td>\n",
       "      <td>0</td>\n",
       "      <td>Trying to get chatgpt to decide on my next mtg commander deck but it doesnt even know what Kambal does fkn scrub</td>\n",
       "    </tr>\n",
       "    <tr>\n",
       "      <th>676915</th>\n",
       "      <td>Its not literal (external) censorship. Its OpenAI making a huge effort to block ChatGPT anything that would be even remotely controversial, biased or aggressive. Even OpenAI said they will lower th</td>\n",
       "      <td>0</td>\n",
       "      <td>Its not literal external censorship Its OpenAI making a huge effort to block ChatGPT anything that would be even remotely controversial biased or aggressive Even OpenAI said they will lower th</td>\n",
       "    </tr>\n",
       "    <tr>\n",
       "      <th>587527</th>\n",
       "      <td>In every one of these scenarios ChatGPT opted to save the most lives, until white men were added to the equation. Is ChatGPT racist? What if this was AI controlled EVs deciding who lives in a car accident? Scary stuff</td>\n",
       "      <td>0</td>\n",
       "      <td>In every one of these scenarios ChatGPT opted to save the most lives until white men were added to the equation Is ChatGPT racist What if this was AI controlled EVs deciding who lives in a car accident Scary stuff</td>\n",
       "    </tr>\n",
       "    <tr>\n",
       "      <th>357356</th>\n",
       "      <td>Asking some stupid questions to</td>\n",
       "      <td>0</td>\n",
       "      <td>Asking some stupid questions to</td>\n",
       "    </tr>\n",
       "  </tbody>\n",
       "</table>\n",
       "</div>"
      ],
      "text/plain": [
       "                                                                                                                                                                                                                             Text  \\\n",
       "597112                                                                                                                                  ChatGPT perfectly highlights the outdated educational approach and an urgent need to adap   \n",
       "713627                                                                                                          Trying to get chatgpt to decide on my next mtg commander deck but it doesnt even know what Kambal does, fkn scrub   \n",
       "676915                      Its not literal (external) censorship. Its OpenAI making a huge effort to block ChatGPT anything that would be even remotely controversial, biased or aggressive. Even OpenAI said they will lower th   \n",
       "587527  In every one of these scenarios ChatGPT opted to save the most lives, until white men were added to the equation. Is ChatGPT racist? What if this was AI controlled EVs deciding who lives in a car accident? Scary stuff   \n",
       "357356                                                                                                                                                                                            Asking some stupid questions to   \n",
       "\n",
       "        sentiment_label  \\\n",
       "597112                0   \n",
       "713627                0   \n",
       "676915                0   \n",
       "587527                0   \n",
       "357356                0   \n",
       "\n",
       "                                                                                                                                                                                                                       nopunc  \n",
       "597112                                                                                                                              ChatGPT perfectly highlights the outdated educational approach and an urgent need to adap  \n",
       "713627                                                                                                       Trying to get chatgpt to decide on my next mtg commander deck but it doesnt even know what Kambal does fkn scrub  \n",
       "676915                       Its not literal external censorship Its OpenAI making a huge effort to block ChatGPT anything that would be even remotely controversial biased or aggressive Even OpenAI said they will lower th  \n",
       "587527  In every one of these scenarios ChatGPT opted to save the most lives until white men were added to the equation Is ChatGPT racist What if this was AI controlled EVs deciding who lives in a car accident Scary stuff  \n",
       "357356                                                                                                                                                                                        Asking some stupid questions to  "
      ]
     },
     "execution_count": 29,
     "metadata": {},
     "output_type": "execute_result"
    }
   ],
   "source": [
    "# countvectorizer에서 수행하지 못하는 구두점 제거\n",
    "data['nopunc'] = data['Text'].apply(lambda x: ''.join([char for char in x if char not in string.punctuation]))\n",
    "data.head()"
   ]
  },
  {
   "cell_type": "code",
   "execution_count": 35,
   "metadata": {},
   "outputs": [],
   "source": [
    "# 데이터 분할\n",
    "X = data['nopunc'].values.astype('str')\n",
    "y = data['sentiment_label']"
   ]
  },
  {
   "cell_type": "code",
   "execution_count": 36,
   "metadata": {},
   "outputs": [],
   "source": [
    "# countvectorizer 함수에 학습\n",
    "cv = CountVectorizer(lowercase=True, stop_words='english')\n",
    "X = cv.fit_transform(X)"
   ]
  },
  {
   "cell_type": "code",
   "execution_count": 37,
   "metadata": {},
   "outputs": [],
   "source": [
    "# train, test 데이터 분할\n",
    "train_input, test_input, train_target, test_target = train_test_split(X, y, test_size=0.2, random_state=42)"
   ]
  },
  {
   "cell_type": "code",
   "execution_count": 39,
   "metadata": {},
   "outputs": [],
   "source": [
    "# NaiveBayes 모델링\n",
    "nb = MultinomialNB()\n",
    "nb.fit(train_input, train_target)\n",
    "pred = nb.predict(test_input)"
   ]
  },
  {
   "cell_type": "code",
   "execution_count": 45,
   "metadata": {},
   "outputs": [
    {
     "name": "stdout",
     "output_type": "stream",
     "text": [
      "0.8549818727340918\n"
     ]
    }
   ],
   "source": [
    "# train 성능 확인\n",
    "print(nb.score(train_input, train_target))"
   ]
  },
  {
   "cell_type": "code",
   "execution_count": 41,
   "metadata": {},
   "outputs": [
    {
     "name": "stdout",
     "output_type": "stream",
     "text": [
      "              precision    recall  f1-score   support\n",
      "\n",
      "           0       0.62      0.65      0.64       684\n",
      "           1       0.58      0.71      0.64       647\n",
      "           2       0.61      0.45      0.52       669\n",
      "\n",
      "    accuracy                           0.60      2000\n",
      "   macro avg       0.61      0.60      0.60      2000\n",
      "weighted avg       0.61      0.60      0.60      2000\n",
      "\n"
     ]
    }
   ],
   "source": [
    "# test 성능 확인\n",
    "print(classification_report(test_target, pred))"
   ]
  },
  {
   "cell_type": "markdown",
   "metadata": {},
   "source": [
    "성능 평가 결과, 과적합 발생"
   ]
  },
  {
   "cell_type": "code",
   "execution_count": 49,
   "metadata": {},
   "outputs": [],
   "source": [
    "# 파이프라인 생성\n",
    "pipeline = Pipeline([\n",
    "    ('bow', CountVectorizer(lowercase=True, stop_words='english')),\n",
    "    ('tfidf', TfidfTransformer()),\n",
    "    ('classifier', MultinomialNB())\n",
    "])"
   ]
  },
  {
   "cell_type": "code",
   "execution_count": 50,
   "metadata": {},
   "outputs": [],
   "source": [
    "# 데이터 분할\n",
    "X = data['nopunc']\n",
    "y = data['sentiment_label']\n",
    "\n",
    "train_input, test_input, train_target, test_target = train_test_split(X, y, test_size=0.2, random_state=42)"
   ]
  },
  {
   "cell_type": "code",
   "execution_count": 51,
   "metadata": {},
   "outputs": [
    {
     "data": {
      "text/html": [
       "<style>#sk-container-id-1 {color: black;background-color: white;}#sk-container-id-1 pre{padding: 0;}#sk-container-id-1 div.sk-toggleable {background-color: white;}#sk-container-id-1 label.sk-toggleable__label {cursor: pointer;display: block;width: 100%;margin-bottom: 0;padding: 0.3em;box-sizing: border-box;text-align: center;}#sk-container-id-1 label.sk-toggleable__label-arrow:before {content: \"▸\";float: left;margin-right: 0.25em;color: #696969;}#sk-container-id-1 label.sk-toggleable__label-arrow:hover:before {color: black;}#sk-container-id-1 div.sk-estimator:hover label.sk-toggleable__label-arrow:before {color: black;}#sk-container-id-1 div.sk-toggleable__content {max-height: 0;max-width: 0;overflow: hidden;text-align: left;background-color: #f0f8ff;}#sk-container-id-1 div.sk-toggleable__content pre {margin: 0.2em;color: black;border-radius: 0.25em;background-color: #f0f8ff;}#sk-container-id-1 input.sk-toggleable__control:checked~div.sk-toggleable__content {max-height: 200px;max-width: 100%;overflow: auto;}#sk-container-id-1 input.sk-toggleable__control:checked~label.sk-toggleable__label-arrow:before {content: \"▾\";}#sk-container-id-1 div.sk-estimator input.sk-toggleable__control:checked~label.sk-toggleable__label {background-color: #d4ebff;}#sk-container-id-1 div.sk-label input.sk-toggleable__control:checked~label.sk-toggleable__label {background-color: #d4ebff;}#sk-container-id-1 input.sk-hidden--visually {border: 0;clip: rect(1px 1px 1px 1px);clip: rect(1px, 1px, 1px, 1px);height: 1px;margin: -1px;overflow: hidden;padding: 0;position: absolute;width: 1px;}#sk-container-id-1 div.sk-estimator {font-family: monospace;background-color: #f0f8ff;border: 1px dotted black;border-radius: 0.25em;box-sizing: border-box;margin-bottom: 0.5em;}#sk-container-id-1 div.sk-estimator:hover {background-color: #d4ebff;}#sk-container-id-1 div.sk-parallel-item::after {content: \"\";width: 100%;border-bottom: 1px solid gray;flex-grow: 1;}#sk-container-id-1 div.sk-label:hover label.sk-toggleable__label {background-color: #d4ebff;}#sk-container-id-1 div.sk-serial::before {content: \"\";position: absolute;border-left: 1px solid gray;box-sizing: border-box;top: 0;bottom: 0;left: 50%;z-index: 0;}#sk-container-id-1 div.sk-serial {display: flex;flex-direction: column;align-items: center;background-color: white;padding-right: 0.2em;padding-left: 0.2em;position: relative;}#sk-container-id-1 div.sk-item {position: relative;z-index: 1;}#sk-container-id-1 div.sk-parallel {display: flex;align-items: stretch;justify-content: center;background-color: white;position: relative;}#sk-container-id-1 div.sk-item::before, #sk-container-id-1 div.sk-parallel-item::before {content: \"\";position: absolute;border-left: 1px solid gray;box-sizing: border-box;top: 0;bottom: 0;left: 50%;z-index: -1;}#sk-container-id-1 div.sk-parallel-item {display: flex;flex-direction: column;z-index: 1;position: relative;background-color: white;}#sk-container-id-1 div.sk-parallel-item:first-child::after {align-self: flex-end;width: 50%;}#sk-container-id-1 div.sk-parallel-item:last-child::after {align-self: flex-start;width: 50%;}#sk-container-id-1 div.sk-parallel-item:only-child::after {width: 0;}#sk-container-id-1 div.sk-dashed-wrapped {border: 1px dashed gray;margin: 0 0.4em 0.5em 0.4em;box-sizing: border-box;padding-bottom: 0.4em;background-color: white;}#sk-container-id-1 div.sk-label label {font-family: monospace;font-weight: bold;display: inline-block;line-height: 1.2em;}#sk-container-id-1 div.sk-label-container {text-align: center;}#sk-container-id-1 div.sk-container {/* jupyter's `normalize.less` sets `[hidden] { display: none; }` but bootstrap.min.css set `[hidden] { display: none !important; }` so we also need the `!important` here to be able to override the default hidden behavior on the sphinx rendered scikit-learn.org. See: https://github.com/scikit-learn/scikit-learn/issues/21755 */display: inline-block !important;position: relative;}#sk-container-id-1 div.sk-text-repr-fallback {display: none;}</style><div id=\"sk-container-id-1\" class=\"sk-top-container\"><div class=\"sk-text-repr-fallback\"><pre>Pipeline(steps=[(&#x27;bow&#x27;, CountVectorizer(stop_words=&#x27;english&#x27;)),\n",
       "                (&#x27;tfidf&#x27;, TfidfTransformer()),\n",
       "                (&#x27;classifier&#x27;, MultinomialNB())])</pre><b>In a Jupyter environment, please rerun this cell to show the HTML representation or trust the notebook. <br />On GitHub, the HTML representation is unable to render, please try loading this page with nbviewer.org.</b></div><div class=\"sk-container\" hidden><div class=\"sk-item sk-dashed-wrapped\"><div class=\"sk-label-container\"><div class=\"sk-label sk-toggleable\"><input class=\"sk-toggleable__control sk-hidden--visually\" id=\"sk-estimator-id-1\" type=\"checkbox\" ><label for=\"sk-estimator-id-1\" class=\"sk-toggleable__label sk-toggleable__label-arrow\">Pipeline</label><div class=\"sk-toggleable__content\"><pre>Pipeline(steps=[(&#x27;bow&#x27;, CountVectorizer(stop_words=&#x27;english&#x27;)),\n",
       "                (&#x27;tfidf&#x27;, TfidfTransformer()),\n",
       "                (&#x27;classifier&#x27;, MultinomialNB())])</pre></div></div></div><div class=\"sk-serial\"><div class=\"sk-item\"><div class=\"sk-estimator sk-toggleable\"><input class=\"sk-toggleable__control sk-hidden--visually\" id=\"sk-estimator-id-2\" type=\"checkbox\" ><label for=\"sk-estimator-id-2\" class=\"sk-toggleable__label sk-toggleable__label-arrow\">CountVectorizer</label><div class=\"sk-toggleable__content\"><pre>CountVectorizer(stop_words=&#x27;english&#x27;)</pre></div></div></div><div class=\"sk-item\"><div class=\"sk-estimator sk-toggleable\"><input class=\"sk-toggleable__control sk-hidden--visually\" id=\"sk-estimator-id-3\" type=\"checkbox\" ><label for=\"sk-estimator-id-3\" class=\"sk-toggleable__label sk-toggleable__label-arrow\">TfidfTransformer</label><div class=\"sk-toggleable__content\"><pre>TfidfTransformer()</pre></div></div></div><div class=\"sk-item\"><div class=\"sk-estimator sk-toggleable\"><input class=\"sk-toggleable__control sk-hidden--visually\" id=\"sk-estimator-id-4\" type=\"checkbox\" ><label for=\"sk-estimator-id-4\" class=\"sk-toggleable__label sk-toggleable__label-arrow\">MultinomialNB</label><div class=\"sk-toggleable__content\"><pre>MultinomialNB()</pre></div></div></div></div></div></div></div>"
      ],
      "text/plain": [
       "Pipeline(steps=[('bow', CountVectorizer(stop_words='english')),\n",
       "                ('tfidf', TfidfTransformer()),\n",
       "                ('classifier', MultinomialNB())])"
      ]
     },
     "execution_count": 51,
     "metadata": {},
     "output_type": "execute_result"
    }
   ],
   "source": [
    "# 파이프라인 학습\n",
    "pipeline.fit(train_input, train_target)"
   ]
  },
  {
   "cell_type": "code",
   "execution_count": 52,
   "metadata": {},
   "outputs": [],
   "source": [
    "# 예측값 생성\n",
    "pred_target = pipeline.predict(test_input)"
   ]
  },
  {
   "cell_type": "code",
   "execution_count": 54,
   "metadata": {},
   "outputs": [
    {
     "name": "stdout",
     "output_type": "stream",
     "text": [
      "0.8659832479059882\n"
     ]
    }
   ],
   "source": [
    "# train 성능 평가\n",
    "print(pipeline.score(train_input, train_target))"
   ]
  },
  {
   "cell_type": "code",
   "execution_count": 55,
   "metadata": {},
   "outputs": [
    {
     "name": "stdout",
     "output_type": "stream",
     "text": [
      "              precision    recall  f1-score   support\n",
      "\n",
      "           0       0.65      0.59      0.62       684\n",
      "           1       0.56      0.78      0.65       647\n",
      "           2       0.63      0.45      0.53       669\n",
      "\n",
      "    accuracy                           0.61      2000\n",
      "   macro avg       0.61      0.61      0.60      2000\n",
      "weighted avg       0.61      0.61      0.60      2000\n",
      "\n"
     ]
    }
   ],
   "source": [
    "# test 성능 평가\n",
    "print(classification_report(test_target, pred_target))"
   ]
  }
 ],
 "metadata": {
  "kernelspec": {
   "display_name": "base",
   "language": "python",
   "name": "python3"
  },
  "language_info": {
   "codemirror_mode": {
    "name": "ipython",
    "version": 3
   },
   "file_extension": ".py",
   "mimetype": "text/x-python",
   "name": "python",
   "nbconvert_exporter": "python",
   "pygments_lexer": "ipython3",
   "version": "3.10.9"
  }
 },
 "nbformat": 4,
 "nbformat_minor": 2
}
