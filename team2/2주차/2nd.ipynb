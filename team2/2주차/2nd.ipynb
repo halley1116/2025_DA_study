{
 "cells": [
  {
   "cell_type": "markdown",
   "metadata": {},
   "source": [
    "#### 데이터 전처리"
   ]
  },
  {
   "cell_type": "code",
   "execution_count": 3,
   "metadata": {},
   "outputs": [],
   "source": [
    "import pandas as pd"
   ]
  },
  {
   "cell_type": "code",
   "execution_count": 4,
   "metadata": {},
   "outputs": [],
   "source": [
    "raw_data = pd.read_csv(\"C:/Users/Owner/Desktop/diversified_ecommerce_dataset.csv\")"
   ]
  },
  {
   "cell_type": "code",
   "execution_count": 5,
   "metadata": {},
   "outputs": [
    {
     "data": {
      "text/html": [
       "<div>\n",
       "<style scoped>\n",
       "    .dataframe tbody tr th:only-of-type {\n",
       "        vertical-align: middle;\n",
       "    }\n",
       "\n",
       "    .dataframe tbody tr th {\n",
       "        vertical-align: top;\n",
       "    }\n",
       "\n",
       "    .dataframe thead th {\n",
       "        text-align: right;\n",
       "    }\n",
       "</style>\n",
       "<table border=\"1\" class=\"dataframe\">\n",
       "  <thead>\n",
       "    <tr style=\"text-align: right;\">\n",
       "      <th></th>\n",
       "      <th>Product ID</th>\n",
       "      <th>Product Name</th>\n",
       "      <th>Category</th>\n",
       "      <th>Price</th>\n",
       "      <th>Discount</th>\n",
       "      <th>Tax Rate</th>\n",
       "      <th>Stock Level</th>\n",
       "      <th>Supplier ID</th>\n",
       "      <th>Customer Age Group</th>\n",
       "      <th>Customer Location</th>\n",
       "      <th>Customer Gender</th>\n",
       "      <th>Shipping Cost</th>\n",
       "      <th>Shipping Method</th>\n",
       "      <th>Return Rate</th>\n",
       "      <th>Seasonality</th>\n",
       "      <th>Popularity Index</th>\n",
       "    </tr>\n",
       "  </thead>\n",
       "  <tbody>\n",
       "    <tr>\n",
       "      <th>0</th>\n",
       "      <td>P6879</td>\n",
       "      <td>Jacket</td>\n",
       "      <td>Apparel</td>\n",
       "      <td>53.85</td>\n",
       "      <td>5</td>\n",
       "      <td>15</td>\n",
       "      <td>150</td>\n",
       "      <td>S535</td>\n",
       "      <td>35-44</td>\n",
       "      <td>New York, USA</td>\n",
       "      <td>Male</td>\n",
       "      <td>23.32</td>\n",
       "      <td>Standard</td>\n",
       "      <td>4.49</td>\n",
       "      <td>Yes</td>\n",
       "      <td>56</td>\n",
       "    </tr>\n",
       "    <tr>\n",
       "      <th>1</th>\n",
       "      <td>P5132</td>\n",
       "      <td>Camera</td>\n",
       "      <td>Electronics</td>\n",
       "      <td>761.26</td>\n",
       "      <td>10</td>\n",
       "      <td>15</td>\n",
       "      <td>224</td>\n",
       "      <td>S583</td>\n",
       "      <td>25-34</td>\n",
       "      <td>London, UK</td>\n",
       "      <td>Female</td>\n",
       "      <td>20.88</td>\n",
       "      <td>Overnight</td>\n",
       "      <td>16.11</td>\n",
       "      <td>No</td>\n",
       "      <td>79</td>\n",
       "    </tr>\n",
       "    <tr>\n",
       "      <th>2</th>\n",
       "      <td>P2941</td>\n",
       "      <td>Sneakers</td>\n",
       "      <td>Footwear</td>\n",
       "      <td>1756.76</td>\n",
       "      <td>5</td>\n",
       "      <td>8</td>\n",
       "      <td>468</td>\n",
       "      <td>S118</td>\n",
       "      <td>25-34</td>\n",
       "      <td>Tokyo, Japan</td>\n",
       "      <td>Non-Binary</td>\n",
       "      <td>16.43</td>\n",
       "      <td>Standard</td>\n",
       "      <td>4.93</td>\n",
       "      <td>No</td>\n",
       "      <td>40</td>\n",
       "    </tr>\n",
       "    <tr>\n",
       "      <th>3</th>\n",
       "      <td>P8545</td>\n",
       "      <td>Cookbooks</td>\n",
       "      <td>Books</td>\n",
       "      <td>295.24</td>\n",
       "      <td>10</td>\n",
       "      <td>15</td>\n",
       "      <td>25</td>\n",
       "      <td>S104</td>\n",
       "      <td>18-24</td>\n",
       "      <td>Paris, France</td>\n",
       "      <td>Female</td>\n",
       "      <td>27.49</td>\n",
       "      <td>Standard</td>\n",
       "      <td>1.31</td>\n",
       "      <td>No</td>\n",
       "      <td>93</td>\n",
       "    </tr>\n",
       "    <tr>\n",
       "      <th>4</th>\n",
       "      <td>P4594</td>\n",
       "      <td>Camera</td>\n",
       "      <td>Electronics</td>\n",
       "      <td>832.00</td>\n",
       "      <td>10</td>\n",
       "      <td>12</td>\n",
       "      <td>340</td>\n",
       "      <td>S331</td>\n",
       "      <td>55+</td>\n",
       "      <td>Tokyo, Japan</td>\n",
       "      <td>Male</td>\n",
       "      <td>45.93</td>\n",
       "      <td>Overnight</td>\n",
       "      <td>4.37</td>\n",
       "      <td>No</td>\n",
       "      <td>56</td>\n",
       "    </tr>\n",
       "  </tbody>\n",
       "</table>\n",
       "</div>"
      ],
      "text/plain": [
       "  Product ID Product Name     Category    Price  Discount  Tax Rate  \\\n",
       "0      P6879       Jacket      Apparel    53.85         5        15   \n",
       "1      P5132       Camera  Electronics   761.26        10        15   \n",
       "2      P2941     Sneakers     Footwear  1756.76         5         8   \n",
       "3      P8545    Cookbooks        Books   295.24        10        15   \n",
       "4      P4594       Camera  Electronics   832.00        10        12   \n",
       "\n",
       "   Stock Level Supplier ID Customer Age Group Customer Location  \\\n",
       "0          150        S535              35-44     New York, USA   \n",
       "1          224        S583              25-34        London, UK   \n",
       "2          468        S118              25-34      Tokyo, Japan   \n",
       "3           25        S104              18-24     Paris, France   \n",
       "4          340        S331                55+      Tokyo, Japan   \n",
       "\n",
       "  Customer Gender  Shipping Cost Shipping Method  Return Rate Seasonality  \\\n",
       "0            Male          23.32        Standard         4.49         Yes   \n",
       "1          Female          20.88       Overnight        16.11          No   \n",
       "2      Non-Binary          16.43        Standard         4.93          No   \n",
       "3          Female          27.49        Standard         1.31          No   \n",
       "4            Male          45.93       Overnight         4.37          No   \n",
       "\n",
       "   Popularity Index  \n",
       "0                56  \n",
       "1                79  \n",
       "2                40  \n",
       "3                93  \n",
       "4                56  "
      ]
     },
     "execution_count": 5,
     "metadata": {},
     "output_type": "execute_result"
    }
   ],
   "source": [
    "df = pd.DataFrame(raw_data)\n",
    "df.head()"
   ]
  },
  {
   "cell_type": "markdown",
   "metadata": {},
   "source": [
    "### 데이터 이해"
   ]
  },
  {
   "cell_type": "code",
   "execution_count": 7,
   "metadata": {},
   "outputs": [
    {
     "data": {
      "text/plain": [
       "(1000000, 16)"
      ]
     },
     "execution_count": 7,
     "metadata": {},
     "output_type": "execute_result"
    }
   ],
   "source": [
    "df.shape"
   ]
  },
  {
   "cell_type": "code",
   "execution_count": null,
   "metadata": {},
   "outputs": [],
   "source": []
  },
  {
   "cell_type": "markdown",
   "metadata": {},
   "source": [
    "### 컬럼\n",
    "\n",
    "Product ID: 각 제품의 고유 ID\n",
    "\n",
    "Product name: 카탈로그그에 나열된 제품의 이름\n",
    "\n",
    "category: 제품의 유형(예: 전자제품, 의류, 홈 데코)\n",
    "\n",
    "price: 제품 가격(USD)\n",
    "\n",
    "Discount: 제품에 적용된 할인\n",
    "\n",
    "Tax Rate: 제품에 적용되는 세율\n",
    "\n",
    "Stock Level: 현재 제품이 남아있는 갯수\n",
    "\n",
    "supplier ID: 제품 공급업체의 ID\n",
    "\n",
    "Customer Age Group: 제품을 자주 구매하는 고객 연령대(예: 청소년, 성인, 노인)\n",
    "\n",
    "Customer Location: 고객의 지리적 위치(예: 국가, 주 또는 도시)\n",
    "\n",
    "Customer Gender: 고객의 성별(예: 남성, 여성)\n",
    "\n",
    "Shipping Cost: 제품을 배송하는 비용\n",
    "\n",
    "Shipping Method: 배송하는데 사용한 방법(예: 스탠다드, 익스프레스, 오버나이트)\n",
    "\n",
    "Return Rate: 제품의 반품 비율\n",
    "\n",
    "Seasonality: 제품이 가장 인기 있는 계절(예: 겨울, 여름, 연중)\n",
    "\n",
    "Popularity Index: 제품의 인기도를 나타낸 점수"
   ]
  }
 ],
 "metadata": {
  "kernelspec": {
   "display_name": "Python 3",
   "language": "python",
   "name": "python3"
  },
  "language_info": {
   "codemirror_mode": {
    "name": "ipython",
    "version": 3
   },
   "file_extension": ".py",
   "mimetype": "text/x-python",
   "name": "python",
   "nbconvert_exporter": "python",
   "pygments_lexer": "ipython3",
   "version": "3.12.2"
  }
 },
 "nbformat": 4,
 "nbformat_minor": 2
}
