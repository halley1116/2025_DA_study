{
 "cells": [
  {
   "cell_type": "markdown",
   "metadata": {},
   "source": [
    "#### 데이터 전처리"
   ]
  },
  {
   "cell_type": "code",
   "execution_count": 15,
   "metadata": {},
   "outputs": [],
   "source": [
    "import pandas as pd\n",
    "import matplotlib.pyplot as plt\n",
    "import seaborn as sns"
   ]
  },
  {
   "cell_type": "code",
   "execution_count": 16,
   "metadata": {},
   "outputs": [],
   "source": [
    "raw_data = pd.read_csv(\"C:/Users/Owner/Desktop/diversified_ecommerce_dataset.csv\")"
   ]
  },
  {
   "cell_type": "code",
   "execution_count": 17,
   "metadata": {},
   "outputs": [
    {
     "data": {
      "text/html": [
       "<div>\n",
       "<style scoped>\n",
       "    .dataframe tbody tr th:only-of-type {\n",
       "        vertical-align: middle;\n",
       "    }\n",
       "\n",
       "    .dataframe tbody tr th {\n",
       "        vertical-align: top;\n",
       "    }\n",
       "\n",
       "    .dataframe thead th {\n",
       "        text-align: right;\n",
       "    }\n",
       "</style>\n",
       "<table border=\"1\" class=\"dataframe\">\n",
       "  <thead>\n",
       "    <tr style=\"text-align: right;\">\n",
       "      <th></th>\n",
       "      <th>Product ID</th>\n",
       "      <th>Product Name</th>\n",
       "      <th>Category</th>\n",
       "      <th>Price</th>\n",
       "      <th>Discount</th>\n",
       "      <th>Tax Rate</th>\n",
       "      <th>Stock Level</th>\n",
       "      <th>Supplier ID</th>\n",
       "      <th>Customer Age Group</th>\n",
       "      <th>Customer Location</th>\n",
       "      <th>Customer Gender</th>\n",
       "      <th>Shipping Cost</th>\n",
       "      <th>Shipping Method</th>\n",
       "      <th>Return Rate</th>\n",
       "      <th>Seasonality</th>\n",
       "      <th>Popularity Index</th>\n",
       "    </tr>\n",
       "  </thead>\n",
       "  <tbody>\n",
       "    <tr>\n",
       "      <th>0</th>\n",
       "      <td>P6879</td>\n",
       "      <td>Jacket</td>\n",
       "      <td>Apparel</td>\n",
       "      <td>53.85</td>\n",
       "      <td>5</td>\n",
       "      <td>15</td>\n",
       "      <td>150</td>\n",
       "      <td>S535</td>\n",
       "      <td>35-44</td>\n",
       "      <td>New York, USA</td>\n",
       "      <td>Male</td>\n",
       "      <td>23.32</td>\n",
       "      <td>Standard</td>\n",
       "      <td>4.49</td>\n",
       "      <td>Yes</td>\n",
       "      <td>56</td>\n",
       "    </tr>\n",
       "    <tr>\n",
       "      <th>1</th>\n",
       "      <td>P5132</td>\n",
       "      <td>Camera</td>\n",
       "      <td>Electronics</td>\n",
       "      <td>761.26</td>\n",
       "      <td>10</td>\n",
       "      <td>15</td>\n",
       "      <td>224</td>\n",
       "      <td>S583</td>\n",
       "      <td>25-34</td>\n",
       "      <td>London, UK</td>\n",
       "      <td>Female</td>\n",
       "      <td>20.88</td>\n",
       "      <td>Overnight</td>\n",
       "      <td>16.11</td>\n",
       "      <td>No</td>\n",
       "      <td>79</td>\n",
       "    </tr>\n",
       "    <tr>\n",
       "      <th>2</th>\n",
       "      <td>P2941</td>\n",
       "      <td>Sneakers</td>\n",
       "      <td>Footwear</td>\n",
       "      <td>1756.76</td>\n",
       "      <td>5</td>\n",
       "      <td>8</td>\n",
       "      <td>468</td>\n",
       "      <td>S118</td>\n",
       "      <td>25-34</td>\n",
       "      <td>Tokyo, Japan</td>\n",
       "      <td>Non-Binary</td>\n",
       "      <td>16.43</td>\n",
       "      <td>Standard</td>\n",
       "      <td>4.93</td>\n",
       "      <td>No</td>\n",
       "      <td>40</td>\n",
       "    </tr>\n",
       "    <tr>\n",
       "      <th>3</th>\n",
       "      <td>P8545</td>\n",
       "      <td>Cookbooks</td>\n",
       "      <td>Books</td>\n",
       "      <td>295.24</td>\n",
       "      <td>10</td>\n",
       "      <td>15</td>\n",
       "      <td>25</td>\n",
       "      <td>S104</td>\n",
       "      <td>18-24</td>\n",
       "      <td>Paris, France</td>\n",
       "      <td>Female</td>\n",
       "      <td>27.49</td>\n",
       "      <td>Standard</td>\n",
       "      <td>1.31</td>\n",
       "      <td>No</td>\n",
       "      <td>93</td>\n",
       "    </tr>\n",
       "    <tr>\n",
       "      <th>4</th>\n",
       "      <td>P4594</td>\n",
       "      <td>Camera</td>\n",
       "      <td>Electronics</td>\n",
       "      <td>832.00</td>\n",
       "      <td>10</td>\n",
       "      <td>12</td>\n",
       "      <td>340</td>\n",
       "      <td>S331</td>\n",
       "      <td>55+</td>\n",
       "      <td>Tokyo, Japan</td>\n",
       "      <td>Male</td>\n",
       "      <td>45.93</td>\n",
       "      <td>Overnight</td>\n",
       "      <td>4.37</td>\n",
       "      <td>No</td>\n",
       "      <td>56</td>\n",
       "    </tr>\n",
       "  </tbody>\n",
       "</table>\n",
       "</div>"
      ],
      "text/plain": [
       "  Product ID Product Name     Category    Price  Discount  Tax Rate  \\\n",
       "0      P6879       Jacket      Apparel    53.85         5        15   \n",
       "1      P5132       Camera  Electronics   761.26        10        15   \n",
       "2      P2941     Sneakers     Footwear  1756.76         5         8   \n",
       "3      P8545    Cookbooks        Books   295.24        10        15   \n",
       "4      P4594       Camera  Electronics   832.00        10        12   \n",
       "\n",
       "   Stock Level Supplier ID Customer Age Group Customer Location  \\\n",
       "0          150        S535              35-44     New York, USA   \n",
       "1          224        S583              25-34        London, UK   \n",
       "2          468        S118              25-34      Tokyo, Japan   \n",
       "3           25        S104              18-24     Paris, France   \n",
       "4          340        S331                55+      Tokyo, Japan   \n",
       "\n",
       "  Customer Gender  Shipping Cost Shipping Method  Return Rate Seasonality  \\\n",
       "0            Male          23.32        Standard         4.49         Yes   \n",
       "1          Female          20.88       Overnight        16.11          No   \n",
       "2      Non-Binary          16.43        Standard         4.93          No   \n",
       "3          Female          27.49        Standard         1.31          No   \n",
       "4            Male          45.93       Overnight         4.37          No   \n",
       "\n",
       "   Popularity Index  \n",
       "0                56  \n",
       "1                79  \n",
       "2                40  \n",
       "3                93  \n",
       "4                56  "
      ]
     },
     "execution_count": 17,
     "metadata": {},
     "output_type": "execute_result"
    }
   ],
   "source": [
    "df = pd.DataFrame(raw_data)\n",
    "df.head()"
   ]
  },
  {
   "cell_type": "markdown",
   "metadata": {},
   "source": [
    "### 데이터 이해"
   ]
  },
  {
   "cell_type": "code",
   "execution_count": 18,
   "metadata": {},
   "outputs": [
    {
     "data": {
      "text/plain": [
       "(1000000, 16)"
      ]
     },
     "execution_count": 18,
     "metadata": {},
     "output_type": "execute_result"
    }
   ],
   "source": [
    "df.shape"
   ]
  },
  {
   "cell_type": "code",
   "execution_count": 19,
   "metadata": {},
   "outputs": [
    {
     "name": "stdout",
     "output_type": "stream",
     "text": [
      "<class 'pandas.core.frame.DataFrame'>\n",
      "RangeIndex: 1000000 entries, 0 to 999999\n",
      "Data columns (total 16 columns):\n",
      " #   Column              Non-Null Count    Dtype  \n",
      "---  ------              --------------    -----  \n",
      " 0   Product ID          1000000 non-null  object \n",
      " 1   Product Name        1000000 non-null  object \n",
      " 2   Category            1000000 non-null  object \n",
      " 3   Price               1000000 non-null  float64\n",
      " 4   Discount            1000000 non-null  int64  \n",
      " 5   Tax Rate            1000000 non-null  int64  \n",
      " 6   Stock Level         1000000 non-null  int64  \n",
      " 7   Supplier ID         1000000 non-null  object \n",
      " 8   Customer Age Group  1000000 non-null  object \n",
      " 9   Customer Location   1000000 non-null  object \n",
      " 10  Customer Gender     1000000 non-null  object \n",
      " 11  Shipping Cost       1000000 non-null  float64\n",
      " 12  Shipping Method     1000000 non-null  object \n",
      " 13  Return Rate         1000000 non-null  float64\n",
      " 14  Seasonality         1000000 non-null  object \n",
      " 15  Popularity Index    1000000 non-null  int64  \n",
      "dtypes: float64(3), int64(4), object(9)\n",
      "memory usage: 122.1+ MB\n"
     ]
    }
   ],
   "source": [
    "df.info()"
   ]
  },
  {
   "cell_type": "code",
   "execution_count": 20,
   "metadata": {},
   "outputs": [
    {
     "data": {
      "text/html": [
       "<div>\n",
       "<style scoped>\n",
       "    .dataframe tbody tr th:only-of-type {\n",
       "        vertical-align: middle;\n",
       "    }\n",
       "\n",
       "    .dataframe tbody tr th {\n",
       "        vertical-align: top;\n",
       "    }\n",
       "\n",
       "    .dataframe thead th {\n",
       "        text-align: right;\n",
       "    }\n",
       "</style>\n",
       "<table border=\"1\" class=\"dataframe\">\n",
       "  <thead>\n",
       "    <tr style=\"text-align: right;\">\n",
       "      <th></th>\n",
       "      <th>Price</th>\n",
       "      <th>Discount</th>\n",
       "      <th>Tax Rate</th>\n",
       "      <th>Stock Level</th>\n",
       "      <th>Shipping Cost</th>\n",
       "      <th>Return Rate</th>\n",
       "      <th>Popularity Index</th>\n",
       "    </tr>\n",
       "  </thead>\n",
       "  <tbody>\n",
       "    <tr>\n",
       "      <th>count</th>\n",
       "      <td>1000000.000000</td>\n",
       "      <td>1000000.000000</td>\n",
       "      <td>1000000.000000</td>\n",
       "      <td>1000000.000000</td>\n",
       "      <td>1000000.000000</td>\n",
       "      <td>1000000.000000</td>\n",
       "      <td>1000000.000000</td>\n",
       "    </tr>\n",
       "    <tr>\n",
       "      <th>mean</th>\n",
       "      <td>1005.120742</td>\n",
       "      <td>12.516955</td>\n",
       "      <td>10.002052</td>\n",
       "      <td>250.028536</td>\n",
       "      <td>24.985224</td>\n",
       "      <td>10.492896</td>\n",
       "      <td>49.970211</td>\n",
       "    </tr>\n",
       "    <tr>\n",
       "      <th>std</th>\n",
       "      <td>574.451223</td>\n",
       "      <td>8.539929</td>\n",
       "      <td>3.406026</td>\n",
       "      <td>144.676275</td>\n",
       "      <td>14.431730</td>\n",
       "      <td>5.484849</td>\n",
       "      <td>29.164875</td>\n",
       "    </tr>\n",
       "    <tr>\n",
       "      <th>min</th>\n",
       "      <td>10.000000</td>\n",
       "      <td>0.000000</td>\n",
       "      <td>5.000000</td>\n",
       "      <td>0.000000</td>\n",
       "      <td>0.000000</td>\n",
       "      <td>1.000000</td>\n",
       "      <td>0.000000</td>\n",
       "    </tr>\n",
       "    <tr>\n",
       "      <th>25%</th>\n",
       "      <td>507.860000</td>\n",
       "      <td>5.000000</td>\n",
       "      <td>8.000000</td>\n",
       "      <td>125.000000</td>\n",
       "      <td>12.490000</td>\n",
       "      <td>5.740000</td>\n",
       "      <td>25.000000</td>\n",
       "    </tr>\n",
       "    <tr>\n",
       "      <th>50%</th>\n",
       "      <td>1005.430000</td>\n",
       "      <td>15.000000</td>\n",
       "      <td>10.000000</td>\n",
       "      <td>250.000000</td>\n",
       "      <td>24.970000</td>\n",
       "      <td>10.480000</td>\n",
       "      <td>50.000000</td>\n",
       "    </tr>\n",
       "    <tr>\n",
       "      <th>75%</th>\n",
       "      <td>1502.310000</td>\n",
       "      <td>20.000000</td>\n",
       "      <td>12.000000</td>\n",
       "      <td>375.000000</td>\n",
       "      <td>37.470000</td>\n",
       "      <td>15.250000</td>\n",
       "      <td>75.000000</td>\n",
       "    </tr>\n",
       "    <tr>\n",
       "      <th>max</th>\n",
       "      <td>2000.000000</td>\n",
       "      <td>25.000000</td>\n",
       "      <td>15.000000</td>\n",
       "      <td>500.000000</td>\n",
       "      <td>50.000000</td>\n",
       "      <td>20.000000</td>\n",
       "      <td>100.000000</td>\n",
       "    </tr>\n",
       "  </tbody>\n",
       "</table>\n",
       "</div>"
      ],
      "text/plain": [
       "                Price        Discount        Tax Rate     Stock Level  \\\n",
       "count  1000000.000000  1000000.000000  1000000.000000  1000000.000000   \n",
       "mean      1005.120742       12.516955       10.002052      250.028536   \n",
       "std        574.451223        8.539929        3.406026      144.676275   \n",
       "min         10.000000        0.000000        5.000000        0.000000   \n",
       "25%        507.860000        5.000000        8.000000      125.000000   \n",
       "50%       1005.430000       15.000000       10.000000      250.000000   \n",
       "75%       1502.310000       20.000000       12.000000      375.000000   \n",
       "max       2000.000000       25.000000       15.000000      500.000000   \n",
       "\n",
       "        Shipping Cost     Return Rate  Popularity Index  \n",
       "count  1000000.000000  1000000.000000    1000000.000000  \n",
       "mean        24.985224       10.492896         49.970211  \n",
       "std         14.431730        5.484849         29.164875  \n",
       "min          0.000000        1.000000          0.000000  \n",
       "25%         12.490000        5.740000         25.000000  \n",
       "50%         24.970000       10.480000         50.000000  \n",
       "75%         37.470000       15.250000         75.000000  \n",
       "max         50.000000       20.000000        100.000000  "
      ]
     },
     "execution_count": 20,
     "metadata": {},
     "output_type": "execute_result"
    }
   ],
   "source": [
    "## 기술통계 확인\n",
    "df.describe()"
   ]
  },
  {
   "cell_type": "code",
   "execution_count": 21,
   "metadata": {},
   "outputs": [
    {
     "data": {
      "text/plain": [
       "Product ID            0\n",
       "Product Name          0\n",
       "Category              0\n",
       "Price                 0\n",
       "Discount              0\n",
       "Tax Rate              0\n",
       "Stock Level           0\n",
       "Supplier ID           0\n",
       "Customer Age Group    0\n",
       "Customer Location     0\n",
       "Customer Gender       0\n",
       "Shipping Cost         0\n",
       "Shipping Method       0\n",
       "Return Rate           0\n",
       "Seasonality           0\n",
       "Popularity Index      0\n",
       "dtype: int64"
      ]
     },
     "execution_count": 21,
     "metadata": {},
     "output_type": "execute_result"
    }
   ],
   "source": [
    "df.isnull().sum()"
   ]
  },
  {
   "cell_type": "markdown",
   "metadata": {},
   "source": [
    "### 컬럼\n",
    "\n",
    "Product ID: 각 제품의 고유 ID\n",
    "\n",
    "Product name: 카탈로그그에 나열된 제품의 이름\n",
    "\n",
    "category: 제품의 유형(예: 전자제품, 의류, 홈 데코)\n",
    "\n",
    "price: 제품 가격(USD)\n",
    "\n",
    "Discount: 제품에 적용된 할인\n",
    "\n",
    "Tax Rate: 제품에 적용되는 세율\n",
    "\n",
    "Stock Level: 현재 제품이 남아있는 갯수\n",
    "\n",
    "supplier ID: 제품 공급업체의 ID\n",
    "\n",
    "Customer Age Group: 제품을 자주 구매하는 고객 연령대(예: 청소년, 성인, 노인)\n",
    "\n",
    "Customer Location: 고객의 지리적 위치(예: 국가, 주 또는 도시)\n",
    "\n",
    "Customer Gender: 고객의 성별(예: 남성, 여성)\n",
    "\n",
    "Shipping Cost: 제품을 배송하는 비용\n",
    "\n",
    "Shipping Method: 배송하는데 사용한 방법(예: 스탠다드, 익스프레스, 오버나이트)\n",
    "\n",
    "Return Rate: 제품의 반품 비율\n",
    "\n",
    "Seasonality: 제품이 가장 인기 있는 계절(예: 겨울, 여름, 연중)\n",
    "\n",
    "Popularity Index: 제품의 인기도를 나타낸 점수"
   ]
  },
  {
   "cell_type": "code",
   "execution_count": 22,
   "metadata": {},
   "outputs": [
    {
     "ename": "SyntaxError",
     "evalue": "invalid syntax (3220782348.py, line 4)",
     "output_type": "error",
     "traceback": [
      "\u001b[1;36m  Cell \u001b[1;32mIn[22], line 4\u001b[1;36m\u001b[0m\n\u001b[1;33m    key_features = correlation_matrix[git 'Return Rate'].abs().sort_values(ascending=False).index[1:5]\u001b[0m\n\u001b[1;37m                                          ^\u001b[0m\n\u001b[1;31mSyntaxError\u001b[0m\u001b[1;31m:\u001b[0m invalid syntax\n"
     ]
    }
   ],
   "source": [
    "numeric_cols = df.select_dtypes(include=['number']).columns\n",
    "\n",
    "correlation_matrix = df[numeric_cols].corr()\n",
    "key_features = correlation_matrix[git 'Return Rate'].abs().sort_values(ascending=False).index[1:5]\n",
    "\n",
    "fig, axes = plt.subplots(2, 2, figsize=(12, 10))\n",
    "axes = axes.flatten()\n",
    "\n",
    "for i, feature in enumerate(key_features):\n",
    "    sns.scatterplot(x=df[feature], y=df['Return Rate'], alpha=0.5, ax=axes[i])\n",
    "    axes[i].set_title(f\"Scatter plot : {feature} vs Return Rate\")\n",
    "\n",
    "plt.tight_layout()\n",
    "plt.show()"
   ]
  },
  {
   "cell_type": "code",
   "execution_count": 15,
   "metadata": {},
   "outputs": [
    {
     "ename": "KeyError",
     "evalue": "'Customer ID'",
     "output_type": "error",
     "traceback": [
      "\u001b[1;31m---------------------------------------------------------------------------\u001b[0m",
      "\u001b[1;31mKeyError\u001b[0m                                  Traceback (most recent call last)",
      "File \u001b[1;32mc:\\Users\\Owner\\AppData\\Local\\Programs\\Python\\Python313\\Lib\\site-packages\\pandas\\core\\indexes\\base.py:3805\u001b[0m, in \u001b[0;36mIndex.get_loc\u001b[1;34m(self, key)\u001b[0m\n\u001b[0;32m   3804\u001b[0m \u001b[38;5;28;01mtry\u001b[39;00m:\n\u001b[1;32m-> 3805\u001b[0m     \u001b[38;5;28;01mreturn\u001b[39;00m \u001b[38;5;28;43mself\u001b[39;49m\u001b[38;5;241;43m.\u001b[39;49m\u001b[43m_engine\u001b[49m\u001b[38;5;241;43m.\u001b[39;49m\u001b[43mget_loc\u001b[49m\u001b[43m(\u001b[49m\u001b[43mcasted_key\u001b[49m\u001b[43m)\u001b[49m\n\u001b[0;32m   3806\u001b[0m \u001b[38;5;28;01mexcept\u001b[39;00m \u001b[38;5;167;01mKeyError\u001b[39;00m \u001b[38;5;28;01mas\u001b[39;00m err:\n",
      "File \u001b[1;32mindex.pyx:167\u001b[0m, in \u001b[0;36mpandas._libs.index.IndexEngine.get_loc\u001b[1;34m()\u001b[0m\n",
      "File \u001b[1;32mindex.pyx:196\u001b[0m, in \u001b[0;36mpandas._libs.index.IndexEngine.get_loc\u001b[1;34m()\u001b[0m\n",
      "File \u001b[1;32mpandas\\\\_libs\\\\hashtable_class_helper.pxi:7081\u001b[0m, in \u001b[0;36mpandas._libs.hashtable.PyObjectHashTable.get_item\u001b[1;34m()\u001b[0m\n",
      "File \u001b[1;32mpandas\\\\_libs\\\\hashtable_class_helper.pxi:7089\u001b[0m, in \u001b[0;36mpandas._libs.hashtable.PyObjectHashTable.get_item\u001b[1;34m()\u001b[0m\n",
      "\u001b[1;31mKeyError\u001b[0m: 'Customer ID'",
      "\nThe above exception was the direct cause of the following exception:\n",
      "\u001b[1;31mKeyError\u001b[0m                                  Traceback (most recent call last)",
      "Cell \u001b[1;32mIn[15], line 6\u001b[0m\n\u001b[0;32m      3\u001b[0m sns\u001b[38;5;241m.\u001b[39mstripplot(x\u001b[38;5;241m=\u001b[39mdf[\u001b[38;5;124m'\u001b[39m\u001b[38;5;124mShipping Method\u001b[39m\u001b[38;5;124m'\u001b[39m], y\u001b[38;5;241m=\u001b[39mdf[\u001b[38;5;124m'\u001b[39m\u001b[38;5;124mReturn Rate\u001b[39m\u001b[38;5;124m'\u001b[39m], data\u001b[38;5;241m=\u001b[39mdf, jitter\u001b[38;5;241m=\u001b[39m\u001b[38;5;28;01mTrue\u001b[39;00m, ax\u001b[38;5;241m=\u001b[39maxes[\u001b[38;5;241m0\u001b[39m])\n\u001b[0;32m      4\u001b[0m axes[\u001b[38;5;241m0\u001b[39m]\u001b[38;5;241m.\u001b[39mset_title(\u001b[38;5;124m'\u001b[39m\u001b[38;5;124mScatter Plot : Shipping Method vs Return Rate\u001b[39m\u001b[38;5;124m'\u001b[39m)\n\u001b[1;32m----> 6\u001b[0m sns\u001b[38;5;241m.\u001b[39mstripplot(x\u001b[38;5;241m=\u001b[39m\u001b[43mdf\u001b[49m\u001b[43m[\u001b[49m\u001b[38;5;124;43m'\u001b[39;49m\u001b[38;5;124;43mCustomer ID\u001b[39;49m\u001b[38;5;124;43m'\u001b[39;49m\u001b[43m]\u001b[49m, y\u001b[38;5;241m=\u001b[39mdf[\u001b[38;5;124m'\u001b[39m\u001b[38;5;124mReturn Rate\u001b[39m\u001b[38;5;124m'\u001b[39m], data\u001b[38;5;241m=\u001b[39mdf, jitter\u001b[38;5;241m=\u001b[39m\u001b[38;5;28;01mTrue\u001b[39;00m, ax\u001b[38;5;241m=\u001b[39maxes[\u001b[38;5;241m0\u001b[39m])\n\u001b[0;32m      7\u001b[0m axes[\u001b[38;5;241m0\u001b[39m]\u001b[38;5;241m.\u001b[39mset_title(\u001b[38;5;124m'\u001b[39m\u001b[38;5;124mScatter Plot : Customer ID vs Return Rate\u001b[39m\u001b[38;5;124m'\u001b[39m)\n\u001b[0;32m      9\u001b[0m plt\u001b[38;5;241m.\u001b[39mtight_layout()\n",
      "File \u001b[1;32mc:\\Users\\Owner\\AppData\\Local\\Programs\\Python\\Python313\\Lib\\site-packages\\pandas\\core\\frame.py:4102\u001b[0m, in \u001b[0;36mDataFrame.__getitem__\u001b[1;34m(self, key)\u001b[0m\n\u001b[0;32m   4100\u001b[0m \u001b[38;5;28;01mif\u001b[39;00m \u001b[38;5;28mself\u001b[39m\u001b[38;5;241m.\u001b[39mcolumns\u001b[38;5;241m.\u001b[39mnlevels \u001b[38;5;241m>\u001b[39m \u001b[38;5;241m1\u001b[39m:\n\u001b[0;32m   4101\u001b[0m     \u001b[38;5;28;01mreturn\u001b[39;00m \u001b[38;5;28mself\u001b[39m\u001b[38;5;241m.\u001b[39m_getitem_multilevel(key)\n\u001b[1;32m-> 4102\u001b[0m indexer \u001b[38;5;241m=\u001b[39m \u001b[38;5;28;43mself\u001b[39;49m\u001b[38;5;241;43m.\u001b[39;49m\u001b[43mcolumns\u001b[49m\u001b[38;5;241;43m.\u001b[39;49m\u001b[43mget_loc\u001b[49m\u001b[43m(\u001b[49m\u001b[43mkey\u001b[49m\u001b[43m)\u001b[49m\n\u001b[0;32m   4103\u001b[0m \u001b[38;5;28;01mif\u001b[39;00m is_integer(indexer):\n\u001b[0;32m   4104\u001b[0m     indexer \u001b[38;5;241m=\u001b[39m [indexer]\n",
      "File \u001b[1;32mc:\\Users\\Owner\\AppData\\Local\\Programs\\Python\\Python313\\Lib\\site-packages\\pandas\\core\\indexes\\base.py:3812\u001b[0m, in \u001b[0;36mIndex.get_loc\u001b[1;34m(self, key)\u001b[0m\n\u001b[0;32m   3807\u001b[0m     \u001b[38;5;28;01mif\u001b[39;00m \u001b[38;5;28misinstance\u001b[39m(casted_key, \u001b[38;5;28mslice\u001b[39m) \u001b[38;5;129;01mor\u001b[39;00m (\n\u001b[0;32m   3808\u001b[0m         \u001b[38;5;28misinstance\u001b[39m(casted_key, abc\u001b[38;5;241m.\u001b[39mIterable)\n\u001b[0;32m   3809\u001b[0m         \u001b[38;5;129;01mand\u001b[39;00m \u001b[38;5;28many\u001b[39m(\u001b[38;5;28misinstance\u001b[39m(x, \u001b[38;5;28mslice\u001b[39m) \u001b[38;5;28;01mfor\u001b[39;00m x \u001b[38;5;129;01min\u001b[39;00m casted_key)\n\u001b[0;32m   3810\u001b[0m     ):\n\u001b[0;32m   3811\u001b[0m         \u001b[38;5;28;01mraise\u001b[39;00m InvalidIndexError(key)\n\u001b[1;32m-> 3812\u001b[0m     \u001b[38;5;28;01mraise\u001b[39;00m \u001b[38;5;167;01mKeyError\u001b[39;00m(key) \u001b[38;5;28;01mfrom\u001b[39;00m\u001b[38;5;250m \u001b[39m\u001b[38;5;21;01merr\u001b[39;00m\n\u001b[0;32m   3813\u001b[0m \u001b[38;5;28;01mexcept\u001b[39;00m \u001b[38;5;167;01mTypeError\u001b[39;00m:\n\u001b[0;32m   3814\u001b[0m     \u001b[38;5;66;03m# If we have a listlike key, _check_indexing_error will raise\u001b[39;00m\n\u001b[0;32m   3815\u001b[0m     \u001b[38;5;66;03m#  InvalidIndexError. Otherwise we fall through and re-raise\u001b[39;00m\n\u001b[0;32m   3816\u001b[0m     \u001b[38;5;66;03m#  the TypeError.\u001b[39;00m\n\u001b[0;32m   3817\u001b[0m     \u001b[38;5;28mself\u001b[39m\u001b[38;5;241m.\u001b[39m_check_indexing_error(key)\n",
      "\u001b[1;31mKeyError\u001b[0m: 'Customer ID'"
     ]
    },
    {
     "data": {
      "image/png": "[encoded data removed]",
      "text/plain": [
       "<Figure size 1200x500 with 2 Axes>"
      ]
     },
     "metadata": {},
     "output_type": "display_data"
    }
   ],
   "source": [
    "fit, axes = plt.subplots(1, 2, figsize=(12, 5))\n",
    "                         \n",
    "sns.stripplot(x=df['Shipping Method'], y=df['Return Rate'], data=df, jitter=True, ax=axes[0])\n",
    "axes[0].set_title('Scatter Plot : Shipping Method vs Return Rate')\n",
    "\n",
    "sns.stripplot(x=df['Customer ID'], y=df['Return Rate'], data=df, jitter=True, ax=axes[0])\n",
    "axes[0].set_title('Scatter Plot : Customer ID vs Return Rate') a\n",
    "\n",
    "plt.tight_layout()\n",
    "plt.show()"
   ]
  },
  {
   "cell_type": "code",
   "execution_count": null,
   "metadata": {},
   "outputs": [
    {
     "name": "stdout",
     "output_type": "stream",
     "text": [
      "\n",
      "카테고리형 변수의 고유값:\n"
     ]
    },
    {
     "ename": "KeyError",
     "evalue": "'Category'",
     "output_type": "error",
     "traceback": [
      "\u001b[1;31m---------------------------------------------------------------------------\u001b[0m",
      "\u001b[1;31mKeyError\u001b[0m                                  Traceback (most recent call last)",
      "File \u001b[1;32mc:\\Users\\Owner\\AppData\\Local\\Programs\\Python\\Python312\\Lib\\site-packages\\pandas\\core\\indexes\\base.py:3805\u001b[0m, in \u001b[0;36mIndex.get_loc\u001b[1;34m(self, key)\u001b[0m\n\u001b[0;32m   3804\u001b[0m \u001b[38;5;28;01mtry\u001b[39;00m:\n\u001b[1;32m-> 3805\u001b[0m     \u001b[38;5;28;01mreturn\u001b[39;00m \u001b[38;5;28;43mself\u001b[39;49m\u001b[38;5;241;43m.\u001b[39;49m\u001b[43m_engine\u001b[49m\u001b[38;5;241;43m.\u001b[39;49m\u001b[43mget_loc\u001b[49m\u001b[43m(\u001b[49m\u001b[43mcasted_key\u001b[49m\u001b[43m)\u001b[49m\n\u001b[0;32m   3806\u001b[0m \u001b[38;5;28;01mexcept\u001b[39;00m \u001b[38;5;167;01mKeyError\u001b[39;00m \u001b[38;5;28;01mas\u001b[39;00m err:\n",
      "File \u001b[1;32mindex.pyx:167\u001b[0m, in \u001b[0;36mpandas._libs.index.IndexEngine.get_loc\u001b[1;34m()\u001b[0m\n",
      "File \u001b[1;32mindex.pyx:196\u001b[0m, in \u001b[0;36mpandas._libs.index.IndexEngine.get_loc\u001b[1;34m()\u001b[0m\n",
      "File \u001b[1;32mpandas\\\\_libs\\\\hashtable_class_helper.pxi:7081\u001b[0m, in \u001b[0;36mpandas._libs.hashtable.PyObjectHashTable.get_item\u001b[1;34m()\u001b[0m\n",
      "File \u001b[1;32mpandas\\\\_libs\\\\hashtable_class_helper.pxi:7089\u001b[0m, in \u001b[0;36mpandas._libs.hashtable.PyObjectHashTable.get_item\u001b[1;34m()\u001b[0m\n",
      "\u001b[1;31mKeyError\u001b[0m: 'Category'",
      "\nThe above exception was the direct cause of the following exception:\n",
      "\u001b[1;31mKeyError\u001b[0m                                  Traceback (most recent call last)",
      "Cell \u001b[1;32mIn[14], line 9\u001b[0m\n\u001b[0;32m      7\u001b[0m \u001b[38;5;28mprint\u001b[39m(\u001b[38;5;124m\"\u001b[39m\u001b[38;5;130;01m\\n\u001b[39;00m\u001b[38;5;124m카테고리형 변수의 고유값:\u001b[39m\u001b[38;5;124m\"\u001b[39m)\n\u001b[0;32m      8\u001b[0m \u001b[38;5;28;01mfor\u001b[39;00m col \u001b[38;5;129;01min\u001b[39;00m categorical_columns:\n\u001b[1;32m----> 9\u001b[0m     unique_values \u001b[38;5;241m=\u001b[39m \u001b[43mdf\u001b[49m\u001b[43m[\u001b[49m\u001b[43mcol\u001b[49m\u001b[43m]\u001b[49m\u001b[38;5;241m.\u001b[39munique()\n\u001b[0;32m     10\u001b[0m     \u001b[38;5;28mprint\u001b[39m(\u001b[38;5;124mf\u001b[39m\u001b[38;5;124m\"\u001b[39m\u001b[38;5;132;01m{\u001b[39;00mcol\u001b[38;5;132;01m}\u001b[39;00m\u001b[38;5;124m: \u001b[39m\u001b[38;5;132;01m{\u001b[39;00munique_values\u001b[38;5;132;01m}\u001b[39;00m\u001b[38;5;124m\"\u001b[39m)\n",
      "File \u001b[1;32mc:\\Users\\Owner\\AppData\\Local\\Programs\\Python\\Python312\\Lib\\site-packages\\pandas\\core\\frame.py:4102\u001b[0m, in \u001b[0;36mDataFrame.__getitem__\u001b[1;34m(self, key)\u001b[0m\n\u001b[0;32m   4100\u001b[0m \u001b[38;5;28;01mif\u001b[39;00m \u001b[38;5;28mself\u001b[39m\u001b[38;5;241m.\u001b[39mcolumns\u001b[38;5;241m.\u001b[39mnlevels \u001b[38;5;241m>\u001b[39m \u001b[38;5;241m1\u001b[39m:\n\u001b[0;32m   4101\u001b[0m     \u001b[38;5;28;01mreturn\u001b[39;00m \u001b[38;5;28mself\u001b[39m\u001b[38;5;241m.\u001b[39m_getitem_multilevel(key)\n\u001b[1;32m-> 4102\u001b[0m indexer \u001b[38;5;241m=\u001b[39m \u001b[38;5;28;43mself\u001b[39;49m\u001b[38;5;241;43m.\u001b[39;49m\u001b[43mcolumns\u001b[49m\u001b[38;5;241;43m.\u001b[39;49m\u001b[43mget_loc\u001b[49m\u001b[43m(\u001b[49m\u001b[43mkey\u001b[49m\u001b[43m)\u001b[49m\n\u001b[0;32m   4103\u001b[0m \u001b[38;5;28;01mif\u001b[39;00m is_integer(indexer):\n\u001b[0;32m   4104\u001b[0m     indexer \u001b[38;5;241m=\u001b[39m [indexer]\n",
      "File \u001b[1;32mc:\\Users\\Owner\\AppData\\Local\\Programs\\Python\\Python312\\Lib\\site-packages\\pandas\\core\\indexes\\base.py:3812\u001b[0m, in \u001b[0;36mIndex.get_loc\u001b[1;34m(self, key)\u001b[0m\n\u001b[0;32m   3807\u001b[0m     \u001b[38;5;28;01mif\u001b[39;00m \u001b[38;5;28misinstance\u001b[39m(casted_key, \u001b[38;5;28mslice\u001b[39m) \u001b[38;5;129;01mor\u001b[39;00m (\n\u001b[0;32m   3808\u001b[0m         \u001b[38;5;28misinstance\u001b[39m(casted_key, abc\u001b[38;5;241m.\u001b[39mIterable)\n\u001b[0;32m   3809\u001b[0m         \u001b[38;5;129;01mand\u001b[39;00m \u001b[38;5;28many\u001b[39m(\u001b[38;5;28misinstance\u001b[39m(x, \u001b[38;5;28mslice\u001b[39m) \u001b[38;5;28;01mfor\u001b[39;00m x \u001b[38;5;129;01min\u001b[39;00m casted_key)\n\u001b[0;32m   3810\u001b[0m     ):\n\u001b[0;32m   3811\u001b[0m         \u001b[38;5;28;01mraise\u001b[39;00m InvalidIndexError(key)\n\u001b[1;32m-> 3812\u001b[0m     \u001b[38;5;28;01mraise\u001b[39;00m \u001b[38;5;167;01mKeyError\u001b[39;00m(key) \u001b[38;5;28;01mfrom\u001b[39;00m \u001b[38;5;21;01merr\u001b[39;00m\n\u001b[0;32m   3813\u001b[0m \u001b[38;5;28;01mexcept\u001b[39;00m \u001b[38;5;167;01mTypeError\u001b[39;00m:\n\u001b[0;32m   3814\u001b[0m     \u001b[38;5;66;03m# If we have a listlike key, _check_indexing_error will raise\u001b[39;00m\n\u001b[0;32m   3815\u001b[0m     \u001b[38;5;66;03m#  InvalidIndexError. Otherwise we fall through and re-raise\u001b[39;00m\n\u001b[0;32m   3816\u001b[0m     \u001b[38;5;66;03m#  the TypeError.\u001b[39;00m\n\u001b[0;32m   3817\u001b[0m     \u001b[38;5;28mself\u001b[39m\u001b[38;5;241m.\u001b[39m_check_indexing_error(key)\n",
      "\u001b[1;31mKeyError\u001b[0m: 'Category'"
     ]
    }
   ],
   "source": [
    "# 카테고리형 변수 목록\n",
    "categorical_columns = [ 'Category',\n",
    "                       'Customer Age Group', 'Customer Location', 'Customer Gender',\n",
    "                       'Shipping Method', 'Seasonality']\n",
    "\n",
    "# 각 컬럼의 고유값 출력\n",
    "print(\"\\n카테고리형 변수의 고유값:\")\n",
    "for col in categorical_columns:\n",
    "    unique_values = df[col].unique()\n",
    "    print(f\"{col}: {unique_values}\")"
   ]
  },
  {
   "cell_type": "code",
   "execution_count": 11,
   "metadata": {},
   "outputs": [],
   "source": [
    "from sklearn.preprocessing import LabelEncoder\n",
    "import category_encoders as ce\n",
    "\n",
    "# 1. 라벨 인코딩: 여러 컬럼\n",
    "le_category = LabelEncoder()\n",
    "df['Category (Label Encoded)'] = le_category.fit_transform(df['Category'])\n",
    "\n",
    "le_location = LabelEncoder()\n",
    "df['Customer Location (Label Encoded)'] = le_location.fit_transform(df['Customer Location']) \n",
    "\n",
    "le_shipping = LabelEncoder()\n",
    "df['Shipping Method (Label Encoded)'] = le_shipping.fit_transform(df['Shipping Method'])\n",
    "\n",
    "le_seasonality = LabelEncoder()\n",
    "df['Seasonality (Label Encoded)'] = le_seasonality.fit_transform(df['Seasonality'])\n",
    "\n",
    "le_age_group = LabelEncoder()\n",
    "df['Customer Age Group (Label Encoded)'] = le_age_group.fit_transform(df['Customer Age Group'])\n",
    "\n",
    "# 2. 이진 인코딩: Customer Gender\n",
    "if 'Customer Gender' in df.columns:  # 컬럼 존재 여부 확인\n",
    "    binary_encoder = ce.BinaryEncoder(cols=['Customer Gender'])\n",
    "    df = binary_encoder.fit_transform(df)\n",
    "else:\n",
    "    print(\"Customer Gender column is missing or already encoded.\")"
   ]
  },
  {
   "cell_type": "code",
   "execution_count": 12,
   "metadata": {},
   "outputs": [],
   "source": [
    "df = df.drop(columns=['Product ID']) \n",
    "df = df.drop(columns=['Supplier ID'])\n",
    "df = df.drop(columns=['Product Name'])\n",
    "\n",
    "# 원래 문자열 컬럼 삭제\n",
    "df = df.drop(columns=['Category', 'Customer Age Group', 'Customer Location', 'Shipping Method', 'Seasonality'])"
   ]
  },
  {
   "cell_type": "code",
   "execution_count": 13,
   "metadata": {},
   "outputs": [
    {
     "name": "stdout",
     "output_type": "stream",
     "text": [
      "Price                                 float64\n",
      "Discount                                int64\n",
      "Tax Rate                                int64\n",
      "Stock Level                             int64\n",
      "Customer Gender_0                       int64\n",
      "Customer Gender_1                       int64\n",
      "Shipping Cost                         float64\n",
      "Return Rate                           float64\n",
      "Popularity Index                        int64\n",
      "Category (Label Encoded)                int64\n",
      "Customer Location (Label Encoded)       int64\n",
      "Shipping Method (Label Encoded)         int64\n",
      "Seasonality (Label Encoded)             int64\n",
      "Customer Age Group (Label Encoded)      int64\n",
      "dtype: object\n"
     ]
    }
   ],
   "source": [
    "print(df.dtypes)"
   ]
  }
 ],
 "metadata": {
  "kernelspec": {
   "display_name": "Python 3",
   "language": "python",
   "name": "python3"
  },
  "language_info": {
   "codemirror_mode": {
    "name": "ipython",
    "version": 3
   },
   "file_extension": ".py",
   "mimetype": "text/x-python",
   "name": "python",
   "nbconvert_exporter": "python",
   "pygments_lexer": "ipython3",
   "version": "3.12.2"
  }
 },
 "nbformat": 4,
 "nbformat_minor": 2
}
