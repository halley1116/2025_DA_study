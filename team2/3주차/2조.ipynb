{
 "cells": [
  {
   "cell_type": "code",
   "execution_count": 2,
   "metadata": {},
   "outputs": [],
   "source": [
    "import pandas as pd"
   ]
  },
  {
   "cell_type": "code",
   "execution_count": 10,
   "metadata": {},
   "outputs": [],
   "source": [
    "# Load datasets\n",
    "status_analysis = pd.read_csv(\"C:/Users/Owner/Desktop/archive (1)/Status_Analysis.csv\")\n",
    "service_options = pd.read_csv(\"C:/Users/Owner/Desktop/archive (1)/Service_Options.csv\")\n",
    "online_services = pd.read_csv(\"C:/Users/Owner/Desktop/archive (1)/Online_Services.csv\")\n",
    "payment_info = pd.read_csv(\"C:/Users/Owner/Desktop/archive (1)/Payment_Info.csv\")\n",
    "location_data = pd.read_csv(\"C:/Users/Owner/Desktop/archive (1)/Location_Data.csv\")\n",
    "customer_info = pd.read_csv(\"C:/Users/Owner/Desktop/archive (1)/Status_Analysis.csv\")"
   ]
  },
  {
   "cell_type": "code",
   "execution_count": 11,
   "metadata": {},
   "outputs": [],
   "source": [
    "# Merge datasets on customer_id\n",
    "df = status_analysis.merge(service_options, on='customer_id')\n",
    "df = df.merge(online_services, on='customer_id')\n",
    "df = df.merge(payment_info, on='customer_id')\n",
    "df = df.merge(location_data, on='customer_id')\n",
    "df = df.merge(customer_info, on='customer_id')"
   ]
  },
  {
   "cell_type": "code",
   "execution_count": 16,
   "metadata": {},
   "outputs": [
    {
     "name": "stdout",
     "output_type": "stream",
     "text": [
      "customer_id                             0\n",
      "satisfaction_score_x                    0\n",
      "cltv_x                                  0\n",
      "customer_status_x                       0\n",
      "churn_score_x                           0\n",
      "churn_label_x                           0\n",
      "churn_value_x                           0\n",
      "churn_category_x                        0\n",
      "churn_reason_x                       5174\n",
      "tenure                                  0\n",
      "internet_service_x                      0\n",
      "phone_service_x                         0\n",
      "multiple_lines                          0\n",
      "avg_monthly_gb_download                 0\n",
      "unlimited_data                          0\n",
      "offer                                3877\n",
      "referred_a_friend                       0\n",
      "number_of_referrals                     0\n",
      "phone_service_y                         0\n",
      "internet_service_y                      0\n",
      "online_security                         0\n",
      "online_backup                           0\n",
      "device_protection                       0\n",
      "premium_tech_support                    0\n",
      "streaming_tv                            0\n",
      "streaming_movies                        0\n",
      "streaming_music                         0\n",
      "internet_type                        1526\n",
      "contract                                0\n",
      "paperless_billing                       0\n",
      "payment_method                          0\n",
      "monthly_ charges                        0\n",
      "avg_monthly_long_distance_charges       0\n",
      "total_charges                           0\n",
      "total_refunds                           0\n",
      "total_extra_data_charges                0\n",
      "total_long_distance_charges             0\n",
      "total_revenue                           0\n",
      "country                                 0\n",
      "state                                   0\n",
      "city                                    0\n",
      "zip_code                                0\n",
      "total_population                        0\n",
      "latitude                                0\n",
      "longitude                               0\n",
      "satisfaction_score_y                    0\n",
      "cltv_y                                  0\n",
      "customer_status_y                       0\n",
      "churn_score_y                           0\n",
      "churn_label_y                           0\n",
      "churn_value_y                           0\n",
      "churn_category_y                        0\n",
      "churn_reason_y                       5174\n",
      "dtype: int64\n"
     ]
    }
   ],
   "source": [
    "pd.set_option('display.max_rows', None)\n",
    "missing_values = df.isnull().sum()\n",
    "print(missing_values)"
   ]
  },
  {
   "cell_type": "markdown",
   "metadata": {},
   "source": [
    "주제: 고객 상태 및 서비스 이용 패턴을 기반으로 고객 이탈 가능성을 예측\n",
    "\n",
    "선정이유: "
   ]
  },
  {
   "cell_type": "code",
   "execution_count": null,
   "metadata": {},
   "outputs": [],
   "source": []
  }
 ],
 "metadata": {
  "kernelspec": {
   "display_name": "Python 3",
   "language": "python",
   "name": "python3"
  },
  "language_info": {
   "codemirror_mode": {
    "name": "ipython",
    "version": 3
   },
   "file_extension": ".py",
   "mimetype": "text/x-python",
   "name": "python",
   "nbconvert_exporter": "python",
   "pygments_lexer": "ipython3",
   "version": "3.12.2"
  }
 },
 "nbformat": 4,
 "nbformat_minor": 2
}
