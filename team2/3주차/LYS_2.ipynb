{
 "cells": [
  {
   "cell_type": "code",
   "execution_count": 8,
   "metadata": {},
   "outputs": [
    {
     "ename": "ModuleNotFoundError",
     "evalue": "No module named 'pandas'",
     "output_type": "error",
     "traceback": [
      "\u001b[0;31m---------------------------------------------------------------------------\u001b[0m",
      "\u001b[0;31mModuleNotFoundError\u001b[0m                       Traceback (most recent call last)",
      "Cell \u001b[0;32mIn[8], line 1\u001b[0m\n\u001b[0;32m----> 1\u001b[0m \u001b[38;5;28;01mimport\u001b[39;00m\u001b[38;5;250m \u001b[39m\u001b[38;5;21;01mpandas\u001b[39;00m\u001b[38;5;250m \u001b[39m\u001b[38;5;28;01mas\u001b[39;00m\u001b[38;5;250m \u001b[39m\u001b[38;5;21;01mpd\u001b[39;00m\n",
      "\u001b[0;31mModuleNotFoundError\u001b[0m: No module named 'pandas'"
     ]
    }
   ],
   "source": [
    "import pandas as pd"
   ]
  },
  {
   "cell_type": "code",
   "execution_count": null,
   "metadata": {},
   "outputs": [
    {
     "ename": "FileNotFoundError",
     "evalue": "[Errno 2] No such file or directory: 'C:/Users/Owner/Desktop/archive (1)/Status_Analysis.csv'",
     "output_type": "error",
     "traceback": [
      "\u001b[0;31m---------------------------------------------------------------------------\u001b[0m",
      "\u001b[0;31mFileNotFoundError\u001b[0m                         Traceback (most recent call last)",
      "Cell \u001b[0;32mIn[3], line 2\u001b[0m\n\u001b[1;32m      1\u001b[0m \u001b[38;5;66;03m# Load datasets\u001b[39;00m\n\u001b[0;32m----> 2\u001b[0m status_analysis \u001b[38;5;241m=\u001b[39m \u001b[43mpd\u001b[49m\u001b[38;5;241;43m.\u001b[39;49m\u001b[43mread_csv\u001b[49m\u001b[43m(\u001b[49m\u001b[38;5;124;43m\"\u001b[39;49m\u001b[38;5;124;43mC:/Users/Owner/Desktop/archive (1)/Status_Analysis.csv\u001b[39;49m\u001b[38;5;124;43m\"\u001b[39;49m\u001b[43m)\u001b[49m\n\u001b[1;32m      3\u001b[0m service_options \u001b[38;5;241m=\u001b[39m pd\u001b[38;5;241m.\u001b[39mread_csv(\u001b[38;5;124m\"\u001b[39m\u001b[38;5;124mC:/Users/Owner/Desktop/archive (1)/Service_Options.csv\u001b[39m\u001b[38;5;124m\"\u001b[39m)\n\u001b[1;32m      4\u001b[0m online_services \u001b[38;5;241m=\u001b[39m pd\u001b[38;5;241m.\u001b[39mread_csv(\u001b[38;5;124m\"\u001b[39m\u001b[38;5;124mC:/Users/Owner/Desktop/archive (1)/Online_Services.csv\u001b[39m\u001b[38;5;124m\"\u001b[39m)\n",
      "File \u001b[0;32m~/Desktop/pythonpr/.conda/lib/python3.11/site-packages/pandas/io/parsers/readers.py:1026\u001b[0m, in \u001b[0;36mread_csv\u001b[0;34m(filepath_or_buffer, sep, delimiter, header, names, index_col, usecols, dtype, engine, converters, true_values, false_values, skipinitialspace, skiprows, skipfooter, nrows, na_values, keep_default_na, na_filter, verbose, skip_blank_lines, parse_dates, infer_datetime_format, keep_date_col, date_parser, date_format, dayfirst, cache_dates, iterator, chunksize, compression, thousands, decimal, lineterminator, quotechar, quoting, doublequote, escapechar, comment, encoding, encoding_errors, dialect, on_bad_lines, delim_whitespace, low_memory, memory_map, float_precision, storage_options, dtype_backend)\u001b[0m\n\u001b[1;32m   1013\u001b[0m kwds_defaults \u001b[38;5;241m=\u001b[39m _refine_defaults_read(\n\u001b[1;32m   1014\u001b[0m     dialect,\n\u001b[1;32m   1015\u001b[0m     delimiter,\n\u001b[0;32m   (...)\u001b[0m\n\u001b[1;32m   1022\u001b[0m     dtype_backend\u001b[38;5;241m=\u001b[39mdtype_backend,\n\u001b[1;32m   1023\u001b[0m )\n\u001b[1;32m   1024\u001b[0m kwds\u001b[38;5;241m.\u001b[39mupdate(kwds_defaults)\n\u001b[0;32m-> 1026\u001b[0m \u001b[38;5;28;01mreturn\u001b[39;00m \u001b[43m_read\u001b[49m\u001b[43m(\u001b[49m\u001b[43mfilepath_or_buffer\u001b[49m\u001b[43m,\u001b[49m\u001b[43m \u001b[49m\u001b[43mkwds\u001b[49m\u001b[43m)\u001b[49m\n",
      "File \u001b[0;32m~/Desktop/pythonpr/.conda/lib/python3.11/site-packages/pandas/io/parsers/readers.py:620\u001b[0m, in \u001b[0;36m_read\u001b[0;34m(filepath_or_buffer, kwds)\u001b[0m\n\u001b[1;32m    617\u001b[0m _validate_names(kwds\u001b[38;5;241m.\u001b[39mget(\u001b[38;5;124m\"\u001b[39m\u001b[38;5;124mnames\u001b[39m\u001b[38;5;124m\"\u001b[39m, \u001b[38;5;28;01mNone\u001b[39;00m))\n\u001b[1;32m    619\u001b[0m \u001b[38;5;66;03m# Create the parser.\u001b[39;00m\n\u001b[0;32m--> 620\u001b[0m parser \u001b[38;5;241m=\u001b[39m \u001b[43mTextFileReader\u001b[49m\u001b[43m(\u001b[49m\u001b[43mfilepath_or_buffer\u001b[49m\u001b[43m,\u001b[49m\u001b[43m \u001b[49m\u001b[38;5;241;43m*\u001b[39;49m\u001b[38;5;241;43m*\u001b[39;49m\u001b[43mkwds\u001b[49m\u001b[43m)\u001b[49m\n\u001b[1;32m    622\u001b[0m \u001b[38;5;28;01mif\u001b[39;00m chunksize \u001b[38;5;129;01mor\u001b[39;00m iterator:\n\u001b[1;32m    623\u001b[0m     \u001b[38;5;28;01mreturn\u001b[39;00m parser\n",
      "File \u001b[0;32m~/Desktop/pythonpr/.conda/lib/python3.11/site-packages/pandas/io/parsers/readers.py:1620\u001b[0m, in \u001b[0;36mTextFileReader.__init__\u001b[0;34m(self, f, engine, **kwds)\u001b[0m\n\u001b[1;32m   1617\u001b[0m     \u001b[38;5;28mself\u001b[39m\u001b[38;5;241m.\u001b[39moptions[\u001b[38;5;124m\"\u001b[39m\u001b[38;5;124mhas_index_names\u001b[39m\u001b[38;5;124m\"\u001b[39m] \u001b[38;5;241m=\u001b[39m kwds[\u001b[38;5;124m\"\u001b[39m\u001b[38;5;124mhas_index_names\u001b[39m\u001b[38;5;124m\"\u001b[39m]\n\u001b[1;32m   1619\u001b[0m \u001b[38;5;28mself\u001b[39m\u001b[38;5;241m.\u001b[39mhandles: IOHandles \u001b[38;5;241m|\u001b[39m \u001b[38;5;28;01mNone\u001b[39;00m \u001b[38;5;241m=\u001b[39m \u001b[38;5;28;01mNone\u001b[39;00m\n\u001b[0;32m-> 1620\u001b[0m \u001b[38;5;28mself\u001b[39m\u001b[38;5;241m.\u001b[39m_engine \u001b[38;5;241m=\u001b[39m \u001b[38;5;28;43mself\u001b[39;49m\u001b[38;5;241;43m.\u001b[39;49m\u001b[43m_make_engine\u001b[49m\u001b[43m(\u001b[49m\u001b[43mf\u001b[49m\u001b[43m,\u001b[49m\u001b[43m \u001b[49m\u001b[38;5;28;43mself\u001b[39;49m\u001b[38;5;241;43m.\u001b[39;49m\u001b[43mengine\u001b[49m\u001b[43m)\u001b[49m\n",
      "File \u001b[0;32m~/Desktop/pythonpr/.conda/lib/python3.11/site-packages/pandas/io/parsers/readers.py:1880\u001b[0m, in \u001b[0;36mTextFileReader._make_engine\u001b[0;34m(self, f, engine)\u001b[0m\n\u001b[1;32m   1878\u001b[0m     \u001b[38;5;28;01mif\u001b[39;00m \u001b[38;5;124m\"\u001b[39m\u001b[38;5;124mb\u001b[39m\u001b[38;5;124m\"\u001b[39m \u001b[38;5;129;01mnot\u001b[39;00m \u001b[38;5;129;01min\u001b[39;00m mode:\n\u001b[1;32m   1879\u001b[0m         mode \u001b[38;5;241m+\u001b[39m\u001b[38;5;241m=\u001b[39m \u001b[38;5;124m\"\u001b[39m\u001b[38;5;124mb\u001b[39m\u001b[38;5;124m\"\u001b[39m\n\u001b[0;32m-> 1880\u001b[0m \u001b[38;5;28mself\u001b[39m\u001b[38;5;241m.\u001b[39mhandles \u001b[38;5;241m=\u001b[39m \u001b[43mget_handle\u001b[49m\u001b[43m(\u001b[49m\n\u001b[1;32m   1881\u001b[0m \u001b[43m    \u001b[49m\u001b[43mf\u001b[49m\u001b[43m,\u001b[49m\n\u001b[1;32m   1882\u001b[0m \u001b[43m    \u001b[49m\u001b[43mmode\u001b[49m\u001b[43m,\u001b[49m\n\u001b[1;32m   1883\u001b[0m \u001b[43m    \u001b[49m\u001b[43mencoding\u001b[49m\u001b[38;5;241;43m=\u001b[39;49m\u001b[38;5;28;43mself\u001b[39;49m\u001b[38;5;241;43m.\u001b[39;49m\u001b[43moptions\u001b[49m\u001b[38;5;241;43m.\u001b[39;49m\u001b[43mget\u001b[49m\u001b[43m(\u001b[49m\u001b[38;5;124;43m\"\u001b[39;49m\u001b[38;5;124;43mencoding\u001b[39;49m\u001b[38;5;124;43m\"\u001b[39;49m\u001b[43m,\u001b[49m\u001b[43m \u001b[49m\u001b[38;5;28;43;01mNone\u001b[39;49;00m\u001b[43m)\u001b[49m\u001b[43m,\u001b[49m\n\u001b[1;32m   1884\u001b[0m \u001b[43m    \u001b[49m\u001b[43mcompression\u001b[49m\u001b[38;5;241;43m=\u001b[39;49m\u001b[38;5;28;43mself\u001b[39;49m\u001b[38;5;241;43m.\u001b[39;49m\u001b[43moptions\u001b[49m\u001b[38;5;241;43m.\u001b[39;49m\u001b[43mget\u001b[49m\u001b[43m(\u001b[49m\u001b[38;5;124;43m\"\u001b[39;49m\u001b[38;5;124;43mcompression\u001b[39;49m\u001b[38;5;124;43m\"\u001b[39;49m\u001b[43m,\u001b[49m\u001b[43m \u001b[49m\u001b[38;5;28;43;01mNone\u001b[39;49;00m\u001b[43m)\u001b[49m\u001b[43m,\u001b[49m\n\u001b[1;32m   1885\u001b[0m \u001b[43m    \u001b[49m\u001b[43mmemory_map\u001b[49m\u001b[38;5;241;43m=\u001b[39;49m\u001b[38;5;28;43mself\u001b[39;49m\u001b[38;5;241;43m.\u001b[39;49m\u001b[43moptions\u001b[49m\u001b[38;5;241;43m.\u001b[39;49m\u001b[43mget\u001b[49m\u001b[43m(\u001b[49m\u001b[38;5;124;43m\"\u001b[39;49m\u001b[38;5;124;43mmemory_map\u001b[39;49m\u001b[38;5;124;43m\"\u001b[39;49m\u001b[43m,\u001b[49m\u001b[43m \u001b[49m\u001b[38;5;28;43;01mFalse\u001b[39;49;00m\u001b[43m)\u001b[49m\u001b[43m,\u001b[49m\n\u001b[1;32m   1886\u001b[0m \u001b[43m    \u001b[49m\u001b[43mis_text\u001b[49m\u001b[38;5;241;43m=\u001b[39;49m\u001b[43mis_text\u001b[49m\u001b[43m,\u001b[49m\n\u001b[1;32m   1887\u001b[0m \u001b[43m    \u001b[49m\u001b[43merrors\u001b[49m\u001b[38;5;241;43m=\u001b[39;49m\u001b[38;5;28;43mself\u001b[39;49m\u001b[38;5;241;43m.\u001b[39;49m\u001b[43moptions\u001b[49m\u001b[38;5;241;43m.\u001b[39;49m\u001b[43mget\u001b[49m\u001b[43m(\u001b[49m\u001b[38;5;124;43m\"\u001b[39;49m\u001b[38;5;124;43mencoding_errors\u001b[39;49m\u001b[38;5;124;43m\"\u001b[39;49m\u001b[43m,\u001b[49m\u001b[43m \u001b[49m\u001b[38;5;124;43m\"\u001b[39;49m\u001b[38;5;124;43mstrict\u001b[39;49m\u001b[38;5;124;43m\"\u001b[39;49m\u001b[43m)\u001b[49m\u001b[43m,\u001b[49m\n\u001b[1;32m   1888\u001b[0m \u001b[43m    \u001b[49m\u001b[43mstorage_options\u001b[49m\u001b[38;5;241;43m=\u001b[39;49m\u001b[38;5;28;43mself\u001b[39;49m\u001b[38;5;241;43m.\u001b[39;49m\u001b[43moptions\u001b[49m\u001b[38;5;241;43m.\u001b[39;49m\u001b[43mget\u001b[49m\u001b[43m(\u001b[49m\u001b[38;5;124;43m\"\u001b[39;49m\u001b[38;5;124;43mstorage_options\u001b[39;49m\u001b[38;5;124;43m\"\u001b[39;49m\u001b[43m,\u001b[49m\u001b[43m \u001b[49m\u001b[38;5;28;43;01mNone\u001b[39;49;00m\u001b[43m)\u001b[49m\u001b[43m,\u001b[49m\n\u001b[1;32m   1889\u001b[0m \u001b[43m\u001b[49m\u001b[43m)\u001b[49m\n\u001b[1;32m   1890\u001b[0m \u001b[38;5;28;01massert\u001b[39;00m \u001b[38;5;28mself\u001b[39m\u001b[38;5;241m.\u001b[39mhandles \u001b[38;5;129;01mis\u001b[39;00m \u001b[38;5;129;01mnot\u001b[39;00m \u001b[38;5;28;01mNone\u001b[39;00m\n\u001b[1;32m   1891\u001b[0m f \u001b[38;5;241m=\u001b[39m \u001b[38;5;28mself\u001b[39m\u001b[38;5;241m.\u001b[39mhandles\u001b[38;5;241m.\u001b[39mhandle\n",
      "File \u001b[0;32m~/Desktop/pythonpr/.conda/lib/python3.11/site-packages/pandas/io/common.py:873\u001b[0m, in \u001b[0;36mget_handle\u001b[0;34m(path_or_buf, mode, encoding, compression, memory_map, is_text, errors, storage_options)\u001b[0m\n\u001b[1;32m    868\u001b[0m \u001b[38;5;28;01melif\u001b[39;00m \u001b[38;5;28misinstance\u001b[39m(handle, \u001b[38;5;28mstr\u001b[39m):\n\u001b[1;32m    869\u001b[0m     \u001b[38;5;66;03m# Check whether the filename is to be opened in binary mode.\u001b[39;00m\n\u001b[1;32m    870\u001b[0m     \u001b[38;5;66;03m# Binary mode does not support 'encoding' and 'newline'.\u001b[39;00m\n\u001b[1;32m    871\u001b[0m     \u001b[38;5;28;01mif\u001b[39;00m ioargs\u001b[38;5;241m.\u001b[39mencoding \u001b[38;5;129;01mand\u001b[39;00m \u001b[38;5;124m\"\u001b[39m\u001b[38;5;124mb\u001b[39m\u001b[38;5;124m\"\u001b[39m \u001b[38;5;129;01mnot\u001b[39;00m \u001b[38;5;129;01min\u001b[39;00m ioargs\u001b[38;5;241m.\u001b[39mmode:\n\u001b[1;32m    872\u001b[0m         \u001b[38;5;66;03m# Encoding\u001b[39;00m\n\u001b[0;32m--> 873\u001b[0m         handle \u001b[38;5;241m=\u001b[39m \u001b[38;5;28;43mopen\u001b[39;49m\u001b[43m(\u001b[49m\n\u001b[1;32m    874\u001b[0m \u001b[43m            \u001b[49m\u001b[43mhandle\u001b[49m\u001b[43m,\u001b[49m\n\u001b[1;32m    875\u001b[0m \u001b[43m            \u001b[49m\u001b[43mioargs\u001b[49m\u001b[38;5;241;43m.\u001b[39;49m\u001b[43mmode\u001b[49m\u001b[43m,\u001b[49m\n\u001b[1;32m    876\u001b[0m \u001b[43m            \u001b[49m\u001b[43mencoding\u001b[49m\u001b[38;5;241;43m=\u001b[39;49m\u001b[43mioargs\u001b[49m\u001b[38;5;241;43m.\u001b[39;49m\u001b[43mencoding\u001b[49m\u001b[43m,\u001b[49m\n\u001b[1;32m    877\u001b[0m \u001b[43m            \u001b[49m\u001b[43merrors\u001b[49m\u001b[38;5;241;43m=\u001b[39;49m\u001b[43merrors\u001b[49m\u001b[43m,\u001b[49m\n\u001b[1;32m    878\u001b[0m \u001b[43m            \u001b[49m\u001b[43mnewline\u001b[49m\u001b[38;5;241;43m=\u001b[39;49m\u001b[38;5;124;43m\"\u001b[39;49m\u001b[38;5;124;43m\"\u001b[39;49m\u001b[43m,\u001b[49m\n\u001b[1;32m    879\u001b[0m \u001b[43m        \u001b[49m\u001b[43m)\u001b[49m\n\u001b[1;32m    880\u001b[0m     \u001b[38;5;28;01melse\u001b[39;00m:\n\u001b[1;32m    881\u001b[0m         \u001b[38;5;66;03m# Binary mode\u001b[39;00m\n\u001b[1;32m    882\u001b[0m         handle \u001b[38;5;241m=\u001b[39m \u001b[38;5;28mopen\u001b[39m(handle, ioargs\u001b[38;5;241m.\u001b[39mmode)\n",
      "\u001b[0;31mFileNotFoundError\u001b[0m: [Errno 2] No such file or directory: 'C:/Users/Owner/Desktop/archive (1)/Status_Analysis.csv'"
     ]
    }
   ],
   "source": [
    "# Load datasets\n",
    "status_analysis = pd.read_csv(\"/Users/iyuseon/Desktop/archive (1)/Status_Analysis.csv\")\n",
    "service_options = pd.read_csv(\"/Users/iyuseon/Desktop/archive (1)/Service_Options.csv\")\n",
    "online_services = pd.read_csv(\"/Users/iyuseon/Desktop/archive (1)/Online_Services.csv\")\n",
    "payment_info = pd.read_csv(\"/Users/iyuseon/Desktop/archive (1)/Payment_Info.csv\")\n",
    "location_data = pd.read_csv(\"/Users/iyuseon/Desktop/archive (1)/Location_Data.csv\")\n",
    "customer_info = pd.read_csv(\"/Users/iyuseon/Desktop/archive (1)/Customer_Info.csv\")"
   ]
  },
  {
   "cell_type": "code",
   "execution_count": null,
   "metadata": {},
   "outputs": [],
   "source": [
    "# Merge datasets on customer_id\n",
    "df = status_analysis.merge(service_options, on='customer_id') # 만족도 점수, 이탈 라벨, 이탈률 점수 + 서비스 이용 패턴(친구 추천, 여러 전화선 가입 여부 등)\n",
    "df = df.merge(online_services, on='customer_id') #  온라인 서비스 가입 여부\n",
    "df = df.merge(payment_info, on='customer_id') # 결제 방법, 월간 요금, 총 요금"
   ]
  },
  {
   "cell_type": "code",
   "execution_count": null,
   "metadata": {},
   "outputs": [],
   "source": [
    "df = df.drop(columns=['churn_label']) \n",
    "df = df.drop(columns=['churn_score'])\n",
    "# Churn Value -> 목표 변수수"
   ]
  },
  {
   "cell_type": "code",
   "execution_count": null,
   "metadata": {},
   "outputs": [
    {
     "name": "stdout",
     "output_type": "stream",
     "text": [
      "<class 'pandas.core.frame.DataFrame'>\n",
      "RangeIndex: 7043 entries, 0 to 7042\n",
      "Data columns (total 36 columns):\n",
      " #   Column                             Non-Null Count  Dtype  \n",
      "---  ------                             --------------  -----  \n",
      " 0   customer_id                        7043 non-null   object \n",
      " 1   satisfaction_score                 7043 non-null   int64  \n",
      " 2   cltv                               7043 non-null   int64  \n",
      " 3   customer_status                    7043 non-null   object \n",
      " 4   churn_value                        7043 non-null   int64  \n",
      " 5   churn_category                     7043 non-null   object \n",
      " 6   churn_reason                       1869 non-null   object \n",
      " 7   tenure                             7043 non-null   int64  \n",
      " 8   internet_service_x                 7043 non-null   object \n",
      " 9   phone_service_x                    7043 non-null   object \n",
      " 10  multiple_lines                     7043 non-null   object \n",
      " 11  avg_monthly_gb_download            7043 non-null   int64  \n",
      " 12  unlimited_data                     7043 non-null   object \n",
      " 13  offer                              3166 non-null   object \n",
      " 14  referred_a_friend                  7043 non-null   object \n",
      " 15  number_of_referrals                7043 non-null   int64  \n",
      " 16  phone_service_y                    7043 non-null   object \n",
      " 17  internet_service_y                 7043 non-null   object \n",
      " 18  online_security                    7043 non-null   object \n",
      " 19  online_backup                      7043 non-null   object \n",
      " 20  device_protection                  7043 non-null   object \n",
      " 21  premium_tech_support               7043 non-null   object \n",
      " 22  streaming_tv                       7043 non-null   object \n",
      " 23  streaming_movies                   7043 non-null   object \n",
      " 24  streaming_music                    7043 non-null   object \n",
      " 25  internet_type                      5517 non-null   object \n",
      " 26  contract                           7043 non-null   object \n",
      " 27  paperless_billing                  7043 non-null   object \n",
      " 28  payment_method                     7043 non-null   object \n",
      " 29  monthly_ charges                   7043 non-null   float64\n",
      " 30  avg_monthly_long_distance_charges  7043 non-null   float64\n",
      " 31  total_charges                      7043 non-null   float64\n",
      " 32  total_refunds                      7043 non-null   float64\n",
      " 33  total_extra_data_charges           7043 non-null   int64  \n",
      " 34  total_long_distance_charges        7043 non-null   float64\n",
      " 35  total_revenue                      7043 non-null   float64\n",
      "dtypes: float64(6), int64(7), object(23)\n",
      "memory usage: 1.9+ MB\n",
      "None\n"
     ]
    }
   ],
   "source": [
    "print(df.info())"
   ]
  },
  {
   "cell_type": "code",
   "execution_count": null,
   "metadata": {},
   "outputs": [
    {
     "name": "stdout",
     "output_type": "stream",
     "text": [
      "       satisfaction_score         cltv  churn_value       tenure  \\\n",
      "count         7043.000000  7043.000000  7043.000000  7043.000000   \n",
      "mean             3.244924  4400.295755     0.265370    32.371149   \n",
      "std              1.201657  1183.057152     0.441561    24.559481   \n",
      "min              1.000000  2003.000000     0.000000     0.000000   \n",
      "25%              3.000000  3469.000000     0.000000     9.000000   \n",
      "50%              3.000000  4527.000000     0.000000    29.000000   \n",
      "75%              4.000000  5380.500000     1.000000    55.000000   \n",
      "max              5.000000  6500.000000     1.000000    72.000000   \n",
      "\n",
      "       avg_monthly_gb_download  number_of_referrals  monthly_ charges  \\\n",
      "count              7043.000000          7043.000000       7043.000000   \n",
      "mean                 20.515405             1.951867         64.761692   \n",
      "std                  20.418940             3.001199         30.090047   \n",
      "min                   0.000000             0.000000         18.250000   \n",
      "25%                   3.000000             0.000000         35.500000   \n",
      "50%                  17.000000             0.000000         70.350000   \n",
      "75%                  27.000000             3.000000         89.850000   \n",
      "max                  85.000000            11.000000        118.750000   \n",
      "\n",
      "       avg_monthly_long_distance_charges  total_charges  total_refunds  \\\n",
      "count                        7043.000000    7043.000000    7043.000000   \n",
      "mean                           22.958954    2280.381264       1.962182   \n",
      "std                            15.448113    2266.220462       7.902614   \n",
      "min                             0.000000      18.800000       0.000000   \n",
      "25%                             9.210000     400.150000       0.000000   \n",
      "50%                            22.890000    1394.550000       0.000000   \n",
      "75%                            36.395000    3786.600000       0.000000   \n",
      "max                            49.990000    8684.800000      49.790000   \n",
      "\n",
      "       total_extra_data_charges  total_long_distance_charges  total_revenue  \n",
      "count               7043.000000                  7043.000000    7043.000000  \n",
      "mean                   6.860713                   749.099262    3034.379056  \n",
      "std                   25.104978                   846.660055    2865.204542  \n",
      "min                    0.000000                     0.000000      21.360000  \n",
      "25%                    0.000000                    70.545000     605.610000  \n",
      "50%                    0.000000                   401.440000    2108.640000  \n",
      "75%                    0.000000                  1191.100000    4801.145000  \n",
      "max                  150.000000                  3564.720000   11979.340000  \n"
     ]
    }
   ],
   "source": [
    "print(df.describe()) # 기술 통계"
   ]
  },
  {
   "cell_type": "code",
   "execution_count": null,
   "metadata": {},
   "outputs": [],
   "source": [
    "# 결측값이 있는 컬럼 확인\n",
    "missing_columns = df.columns[df.isnull().any()]"
   ]
  },
  {
   "cell_type": "code",
   "execution_count": null,
   "metadata": {},
   "outputs": [
    {
     "name": "stdout",
     "output_type": "stream",
     "text": [
      "churn_reason     5174\n",
      "offer            3877\n",
      "internet_type    1526\n",
      "dtype: int64\n"
     ]
    }
   ],
   "source": [
    "# 결측값이 있는 컬럼과 해당 컬럼의 결측값 개수 출력\n",
    "print(df[missing_columns].isnull().sum())"
   ]
  },
  {
   "cell_type": "code",
   "execution_count": null,
   "metadata": {},
   "outputs": [
    {
     "name": "stdout",
     "output_type": "stream",
     "text": [
      "카테고리형 컬럼:\n",
      "Index(['customer_id', 'customer_status', 'churn_category', 'churn_reason',\n",
      "       'internet_service_x', 'phone_service_x', 'multiple_lines',\n",
      "       'unlimited_data', 'offer', 'referred_a_friend', 'phone_service_y',\n",
      "       'internet_service_y', 'online_security', 'online_backup',\n",
      "       'device_protection', 'premium_tech_support', 'streaming_tv',\n",
      "       'streaming_movies', 'streaming_music', 'internet_type', 'contract',\n",
      "       'paperless_billing', 'payment_method'],\n",
      "      dtype='object')\n"
     ]
    }
   ],
   "source": [
    "# 카테고리형 컬럼 확인\n",
    "categorical_columns = df.select_dtypes(include=['object', 'category']).columns\n",
    "\n",
    "print(\"카테고리형 컬럼:\")\n",
    "print(categorical_columns)"
   ]
  },
  {
   "cell_type": "code",
   "execution_count": null,
   "metadata": {},
   "outputs": [
    {
     "name": "stdout",
     "output_type": "stream",
     "text": [
      "\n",
      "카테고리형 변수의 고유값:\n",
      "customer_id: ['0002-ORFBO' '0003-MKNFE' '0004-TLHLJ' ... '9992-UJOEL' '9993-LHIEB'\n",
      " '9995-HOTOH']\n",
      "customer_status: ['Stayed' 'Churned' 'Joined']\n",
      "churn_category: ['Not Applicable' 'Competitor' 'Dissatisfaction' 'Other' 'Price'\n",
      " 'Attitude']\n",
      "churn_reason: [nan 'Competitor had better devices' 'Product dissatisfaction'\n",
      " 'Network reliability' 'Limited range of services'\n",
      " 'Competitor made better offer' \"Don't know\" 'Long distance charges'\n",
      " 'Attitude of service provider' 'Attitude of support person'\n",
      " 'Competitor offered higher download speeds'\n",
      " 'Competitor offered more data' 'Lack of affordable download/upload speed'\n",
      " 'Deceased' 'Moved' 'Service dissatisfaction' 'Price too high'\n",
      " 'Lack of self-service on Website' 'Poor expertise of online support'\n",
      " 'Extra data charges' 'Poor expertise of phone support']\n",
      "internet_service_x: ['Yes' 'No']\n",
      "phone_service_x: ['Yes' 'No']\n",
      "multiple_lines: ['No' 'Yes']\n",
      "unlimited_data: ['Yes' 'No']\n",
      "offer: [nan 'Offer E' 'Offer D' 'Offer A' 'Offer B' 'Offer C']\n",
      "referred_a_friend: ['Yes' 'No']\n",
      "phone_service_y: ['Yes' 'No']\n",
      "internet_service_y: ['Yes' 'No']\n",
      "online_security: ['No' 'Yes']\n",
      "online_backup: ['Yes' 'No']\n",
      "device_protection: ['No' 'Yes']\n",
      "premium_tech_support: ['Yes' 'No']\n",
      "streaming_tv: ['Yes' 'No']\n",
      "streaming_movies: ['No' 'Yes']\n",
      "streaming_music: ['No' 'Yes']\n",
      "internet_type: ['Cable' 'Fiber Optic' 'DSL' nan]\n",
      "contract: ['One Year' 'Month-to-Month' 'Two Year']\n",
      "paperless_billing: ['Yes' 'No']\n",
      "payment_method: ['Mailed check' 'Electronic check' 'Credit card (automatic)'\n",
      " 'Bank transfer (automatic)']\n"
     ]
    }
   ],
   "source": [
    "# 카테고리형 변수 확인\n",
    "categorical_columns = ['customer_id', 'customer_status', 'churn_category', 'churn_reason',\n",
    "       'internet_service_x', 'phone_service_x', 'multiple_lines',\n",
    "       'unlimited_data', 'offer', 'referred_a_friend', 'phone_service_y',\n",
    "       'internet_service_y', 'online_security', 'online_backup',\n",
    "       'device_protection', 'premium_tech_support', 'streaming_tv',\n",
    "       'streaming_movies', 'streaming_music', 'internet_type', 'contract',\n",
    "       'paperless_billing', 'payment_method']\n",
    "print(\"\\n카테고리형 변수의 고유값:\")\n",
    "for col in categorical_columns:\n",
    "    print(f\"{col}: {df[col].unique()}\")"
   ]
  },
  {
   "cell_type": "code",
   "execution_count": null,
   "metadata": {},
   "outputs": [
    {
     "name": "stdout",
     "output_type": "stream",
     "text": [
      "Feature: customer_status\n",
      "  Chi2 Statistic: 7043.0\n",
      "  p-value: 0.0\n",
      "  Degrees of Freedom: 2\n",
      "----------------------------------------\n",
      "Feature: churn_category\n",
      "  Chi2 Statistic: 7042.999999999999\n",
      "  p-value: 0.0\n",
      "  Degrees of Freedom: 5\n",
      "----------------------------------------\n",
      "Feature: churn_reason\n",
      "  Chi2 Statistic: 7043.0\n",
      "  p-value: 0.0\n",
      "  Degrees of Freedom: 20\n",
      "----------------------------------------\n",
      "Feature: internet_service_x\n",
      "  Chi2 Statistic: 364.51979899428943\n",
      "  p-value: 2.9203003727695145e-81\n",
      "  Degrees of Freedom: 1\n",
      "----------------------------------------\n",
      "Feature: phone_service_x\n",
      "  Chi2 Statistic: 0.9150329892546948\n",
      "  p-value: 0.3387825358066928\n",
      "  Degrees of Freedom: 1\n",
      "----------------------------------------\n",
      "Feature: multiple_lines\n",
      "  Chi2 Statistic: 11.143251001456251\n",
      "  p-value: 0.0008433795342472428\n",
      "  Degrees of Freedom: 1\n",
      "----------------------------------------\n",
      "Feature: unlimited_data\n",
      "  Chi2 Statistic: 194.5492167239403\n",
      "  p-value: 3.2314344412572294e-44\n",
      "  Degrees of Freedom: 1\n",
      "----------------------------------------\n",
      "Feature: offer\n",
      "  Chi2 Statistic: 481.72548896322786\n",
      "  p-value: 7.020357379958691e-102\n",
      "  Degrees of Freedom: 5\n",
      "----------------------------------------\n",
      "Feature: referred_a_friend\n",
      "  Chi2 Statistic: 155.9403419629973\n",
      "  p-value: 8.723767916604251e-36\n",
      "  Degrees of Freedom: 1\n",
      "----------------------------------------\n",
      "Feature: phone_service_y\n",
      "  Chi2 Statistic: 0.9150329892546948\n",
      "  p-value: 0.3387825358066928\n",
      "  Degrees of Freedom: 1\n",
      "----------------------------------------\n",
      "Feature: internet_service_y\n",
      "  Chi2 Statistic: 364.51979899428943\n",
      "  p-value: 2.9203003727695145e-81\n",
      "  Degrees of Freedom: 1\n",
      "----------------------------------------\n",
      "Feature: online_security\n",
      "  Chi2 Statistic: 205.63310416062058\n",
      "  p-value: 1.2320984831180025e-46\n",
      "  Degrees of Freedom: 1\n",
      "----------------------------------------\n",
      "Feature: contract\n",
      "  Chi2 Statistic: 1445.2932428377585\n",
      "  p-value: 0.0\n",
      "  Degrees of Freedom: 2\n",
      "----------------------------------------\n",
      "Feature: paperless_billing\n",
      "  Chi2 Statistic: 258.27764906707307\n",
      "  p-value: 4.073354668665985e-58\n",
      "  Degrees of Freedom: 1\n",
      "----------------------------------------\n",
      "Feature: payment_method\n",
      "  Chi2 Statistic: 648.1423274814\n",
      "  p-value: 3.6823546520097993e-140\n",
      "  Degrees of Freedom: 3\n",
      "----------------------------------------\n",
      "Unique values for customer_status: [np.int64(0), np.int64(1), np.int64(2)]\n",
      "Unique values for churn_category: [np.int64(0), np.int64(1), np.int64(2), np.int64(3), np.int64(4), np.int64(5)]\n",
      "Unique values for churn_reason: [np.int64(0), np.int64(1), np.int64(2), np.int64(3), np.int64(4), np.int64(5), np.int64(6), np.int64(7), np.int64(8), np.int64(9), np.int64(10), np.int64(11), np.int64(12), np.int64(13), np.int64(14), np.int64(15), np.int64(16), np.int64(17), np.int64(18), np.int64(19), np.int64(20)]\n",
      "Unique values for internet_service_x: [np.int64(0), np.int64(1)]\n",
      "Unique values for phone_service_x: [np.int64(0), np.int64(1)]\n",
      "Unique values for multiple_lines: [np.int64(0), np.int64(1)]\n",
      "Unique values for unlimited_data: [np.int64(0), np.int64(1)]\n",
      "Unique values for offer: [np.int64(0), np.int64(1), np.int64(2), np.int64(3), np.int64(4), np.int64(5)]\n",
      "Unique values for referred_a_friend: [np.int64(0), np.int64(1)]\n",
      "Unique values for phone_service_y: [np.int64(0), np.int64(1)]\n",
      "Unique values for internet_service_y: [np.int64(0), np.int64(1)]\n",
      "Unique values for online_security: [np.int64(0), np.int64(1)]\n",
      "Unique values for contract: [np.int64(0), np.int64(1), np.int64(2)]\n",
      "Unique values for paperless_billing: [np.int64(0), np.int64(1)]\n",
      "Unique values for payment_method: [np.int64(0), np.int64(1), np.int64(2), np.int64(3)]\n"
     ]
    }
   ],
   "source": [
    "import pandas as pd\n",
    "from sklearn.preprocessing import LabelEncoder\n",
    "from scipy.stats import chi2_contingency\n",
    "\n",
    "# 카테고리형 변수 리스트 (customer_id는 제외, 고유 식별자로 분석에 적합하지 않음)\n",
    "categorical_columns = [\n",
    "    'customer_status', 'churn_category', 'churn_reason', 'internet_service_x',\n",
    "    'phone_service_x', 'multiple_lines', 'unlimited_data', 'offer',\n",
    "    'referred_a_friend', 'phone_service_y', 'internet_service_y',\n",
    "    'online_security', 'contract', 'paperless_billing', 'payment_method'\n",
    "]\n",
    "\n",
    "# 결측값 처리 (NaN을 'Unknown'으로 대체)\n",
    "df[categorical_columns] = df[categorical_columns].fillna('Unknown')\n",
    "\n",
    "# Label Encoding\n",
    "label_encoders = {}\n",
    "for col in categorical_columns:\n",
    "    le = LabelEncoder()\n",
    "    df[col] = le.fit_transform(df[col])\n",
    "    label_encoders[col] = le\n",
    "\n",
    "# 카이제곱 검정을 수행하는 함수\n",
    "def chi_square_test(data, category_columns, target_column):\n",
    "    results = {}\n",
    "    for col in category_columns:\n",
    "        # 교차표 생성\n",
    "        contingency_table = pd.crosstab(data[col], data[target_column])\n",
    "        \n",
    "        # 카이제곱 검정 수행\n",
    "        chi2, p, dof, expected = chi2_contingency(contingency_table)\n",
    "        \n",
    "        # 결과 저장\n",
    "        results[col] = {\n",
    "            'Chi2 Statistic': chi2,\n",
    "            'p-value': p,\n",
    "            'Degrees of Freedom': dof\n",
    "        }\n",
    "        \n",
    "    return results\n",
    "\n",
    "# Churn Value(목표 변수)가 포함된 데이터 확인\n",
    "target_column = 'churn_value'\n",
    "\n",
    "# 카이제곱 검정 실행\n",
    "chi2_results = chi_square_test(df, categorical_columns, target_column)\n",
    "\n",
    "# 결과 출력\n",
    "for col, result in chi2_results.items():\n",
    "    print(f\"Feature: {col}\")\n",
    "    print(f\"  Chi2 Statistic: {result['Chi2 Statistic']}\")\n",
    "    print(f\"  p-value: {result['p-value']}\")\n",
    "    print(f\"  Degrees of Freedom: {result['Degrees of Freedom']}\")\n",
    "    print(\"-\" * 40)\n",
    "\n",
    "# 인코딩된 고유값 확인 (역변환 가능)\n",
    "for col, le in label_encoders.items():\n",
    "    print(f\"Unique values for {col}: {list(le.classes_)}\")\n"
   ]
  },
  {
   "cell_type": "code",
   "execution_count": null,
   "metadata": {},
   "outputs": [],
   "source": []
  }
 ],
 "metadata": {
  "kernelspec": {
   "display_name": "Python 3",
   "language": "python",
   "name": "python3"
  },
  "language_info": {
   "codemirror_mode": {
    "name": "ipython",
    "version": 3
   },
   "file_extension": ".py",
   "mimetype": "text/x-python",
   "name": "python",
   "nbconvert_exporter": "python",
   "pygments_lexer": "ipython3",
   "version": "3.11.2"
  }
 },
 "nbformat": 4,
 "nbformat_minor": 2
}
