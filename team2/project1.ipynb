{
 "cells": [
  {
   "cell_type": "markdown",
   "metadata": {},
   "source": [
    "#### 1. 필요한 라이브러리 import 및 데이터 불러오기"
   ]
  },
  {
   "cell_type": "code",
   "execution_count": 7,
   "metadata": {},
   "outputs": [],
   "source": [
    "from sklearn.model_selection import train_test_split, cross_val_score, GridSearchCV, RandomizedSearchCV\n",
    "from sklearn.ensemble import RandomForestRegressor\n",
    "from sklearn.tree import DecisionTreeRegressor\n",
    "from sklearn.linear_model import LinearRegression\n",
    "from sklearn.svm import SVR\n",
    "from sklearn.metrics import mean_squared_error, r2_score\n",
    "from sklearn.preprocessing import LabelEncoder, StandardScaler, OneHotEncoder\n",
    "from sklearn.compose import ColumnTransformer, make_column_transformer\n",
    "import seaborn as sns\n",
    "import matplotlib.pyplot as plt\n",
    "import pandas as pd\n",
    "import numpy as np\n",
    "\n",
    "import warnings  # 경고 메시지 무시\n",
    "warnings.filterwarnings('ignore')\n",
    "\n",
    "# 한글 폰트를 설정하여 시각화에 한글이 깨지지 않도록 설정\n",
    "plt.rcParams['font.family'] = 'gulim'"
   ]
  },
  {
   "cell_type": "code",
   "execution_count": 8,
   "metadata": {},
   "outputs": [
    {
     "data": {
      "text/html": [
       "<div>\n",
       "<style scoped>\n",
       "    .dataframe tbody tr th:only-of-type {\n",
       "        vertical-align: middle;\n",
       "    }\n",
       "\n",
       "    .dataframe tbody tr th {\n",
       "        vertical-align: top;\n",
       "    }\n",
       "\n",
       "    .dataframe thead th {\n",
       "        text-align: right;\n",
       "    }\n",
       "</style>\n",
       "<table border=\"1\" class=\"dataframe\">\n",
       "  <thead>\n",
       "    <tr style=\"text-align: right;\">\n",
       "      <th></th>\n",
       "      <th>age</th>\n",
       "      <th>gender</th>\n",
       "      <th>bmi</th>\n",
       "      <th>children</th>\n",
       "      <th>smoker</th>\n",
       "      <th>region</th>\n",
       "      <th>medical_history</th>\n",
       "      <th>family_medical_history</th>\n",
       "      <th>exercise_frequency</th>\n",
       "      <th>occupation</th>\n",
       "      <th>coverage_level</th>\n",
       "      <th>charges</th>\n",
       "    </tr>\n",
       "  </thead>\n",
       "  <tbody>\n",
       "    <tr>\n",
       "      <th>0</th>\n",
       "      <td>46</td>\n",
       "      <td>male</td>\n",
       "      <td>21.45</td>\n",
       "      <td>5</td>\n",
       "      <td>yes</td>\n",
       "      <td>southeast</td>\n",
       "      <td>Diabetes</td>\n",
       "      <td>NaN</td>\n",
       "      <td>Never</td>\n",
       "      <td>Blue collar</td>\n",
       "      <td>Premium</td>\n",
       "      <td>20460.307669</td>\n",
       "    </tr>\n",
       "    <tr>\n",
       "      <th>1</th>\n",
       "      <td>25</td>\n",
       "      <td>female</td>\n",
       "      <td>25.38</td>\n",
       "      <td>2</td>\n",
       "      <td>yes</td>\n",
       "      <td>northwest</td>\n",
       "      <td>Diabetes</td>\n",
       "      <td>High blood pressure</td>\n",
       "      <td>Occasionally</td>\n",
       "      <td>White collar</td>\n",
       "      <td>Premium</td>\n",
       "      <td>20390.899218</td>\n",
       "    </tr>\n",
       "    <tr>\n",
       "      <th>2</th>\n",
       "      <td>38</td>\n",
       "      <td>male</td>\n",
       "      <td>44.88</td>\n",
       "      <td>2</td>\n",
       "      <td>yes</td>\n",
       "      <td>southwest</td>\n",
       "      <td>NaN</td>\n",
       "      <td>High blood pressure</td>\n",
       "      <td>Occasionally</td>\n",
       "      <td>Blue collar</td>\n",
       "      <td>Premium</td>\n",
       "      <td>20204.476302</td>\n",
       "    </tr>\n",
       "    <tr>\n",
       "      <th>3</th>\n",
       "      <td>25</td>\n",
       "      <td>male</td>\n",
       "      <td>19.89</td>\n",
       "      <td>0</td>\n",
       "      <td>no</td>\n",
       "      <td>northwest</td>\n",
       "      <td>NaN</td>\n",
       "      <td>Diabetes</td>\n",
       "      <td>Rarely</td>\n",
       "      <td>White collar</td>\n",
       "      <td>Standard</td>\n",
       "      <td>11789.029843</td>\n",
       "    </tr>\n",
       "    <tr>\n",
       "      <th>4</th>\n",
       "      <td>49</td>\n",
       "      <td>male</td>\n",
       "      <td>38.21</td>\n",
       "      <td>3</td>\n",
       "      <td>yes</td>\n",
       "      <td>northwest</td>\n",
       "      <td>Diabetes</td>\n",
       "      <td>High blood pressure</td>\n",
       "      <td>Rarely</td>\n",
       "      <td>White collar</td>\n",
       "      <td>Standard</td>\n",
       "      <td>19268.309838</td>\n",
       "    </tr>\n",
       "  </tbody>\n",
       "</table>\n",
       "</div>"
      ],
      "text/plain": [
       "   age  gender    bmi  children smoker     region medical_history  \\\n",
       "0   46    male  21.45         5    yes  southeast        Diabetes   \n",
       "1   25  female  25.38         2    yes  northwest        Diabetes   \n",
       "2   38    male  44.88         2    yes  southwest             NaN   \n",
       "3   25    male  19.89         0     no  northwest             NaN   \n",
       "4   49    male  38.21         3    yes  northwest        Diabetes   \n",
       "\n",
       "  family_medical_history exercise_frequency    occupation coverage_level  \\\n",
       "0                    NaN              Never   Blue collar        Premium   \n",
       "1    High blood pressure       Occasionally  White collar        Premium   \n",
       "2    High blood pressure       Occasionally   Blue collar        Premium   \n",
       "3               Diabetes             Rarely  White collar       Standard   \n",
       "4    High blood pressure             Rarely  White collar       Standard   \n",
       "\n",
       "        charges  \n",
       "0  20460.307669  \n",
       "1  20390.899218  \n",
       "2  20204.476302  \n",
       "3  11789.029843  \n",
       "4  19268.309838  "
      ]
     },
     "execution_count": 8,
     "metadata": {},
     "output_type": "execute_result"
    }
   ],
   "source": [
    "file = pd.read_csv(\"C:/Users/Owner/Desktop/kdramalist.csv\")\n",
    "file.head()"
   ]
  },
  {
   "cell_type": "code",
   "execution_count": 9,
   "metadata": {},
   "outputs": [],
   "source": [
    "data= pd.DataFrame(file)\n",
    "data.head()\n",
    "target = data['charges']"
   ]
  },
  {
   "cell_type": "code",
   "execution_count": 10,
   "metadata": {},
   "outputs": [
    {
     "data": {
      "text/plain": [
       "(1000000, 12)"
      ]
     },
     "execution_count": 10,
     "metadata": {},
     "output_type": "execute_result"
    }
   ],
   "source": [
    "data.shape"
   ]
  },
  {
   "cell_type": "code",
   "execution_count": 11,
   "metadata": {},
   "outputs": [
    {
     "name": "stdout",
     "output_type": "stream",
     "text": [
      "<class 'pandas.core.frame.DataFrame'>\n",
      "RangeIndex: 1000000 entries, 0 to 999999\n",
      "Data columns (total 12 columns):\n",
      " #   Column                  Non-Null Count    Dtype  \n",
      "---  ------                  --------------    -----  \n",
      " 0   age                     1000000 non-null  int64  \n",
      " 1   gender                  1000000 non-null  object \n",
      " 2   bmi                     1000000 non-null  float64\n",
      " 3   children                1000000 non-null  int64  \n",
      " 4   smoker                  1000000 non-null  object \n",
      " 5   region                  1000000 non-null  object \n",
      " 6   medical_history         749238 non-null   object \n",
      " 7   family_medical_history  749596 non-null   object \n",
      " 8   exercise_frequency      1000000 non-null  object \n",
      " 9   occupation              1000000 non-null  object \n",
      " 10  coverage_level          1000000 non-null  object \n",
      " 11  charges                 1000000 non-null  float64\n",
      "dtypes: float64(2), int64(2), object(8)\n",
      "memory usage: 91.6+ MB\n"
     ]
    }
   ],
   "source": [
    "data.info()"
   ]
  },
  {
   "cell_type": "code",
   "execution_count": 12,
   "metadata": {},
   "outputs": [
    {
     "data": {
      "text/html": [
       "<div>\n",
       "<style scoped>\n",
       "    .dataframe tbody tr th:only-of-type {\n",
       "        vertical-align: middle;\n",
       "    }\n",
       "\n",
       "    .dataframe tbody tr th {\n",
       "        vertical-align: top;\n",
       "    }\n",
       "\n",
       "    .dataframe thead th {\n",
       "        text-align: right;\n",
       "    }\n",
       "</style>\n",
       "<table border=\"1\" class=\"dataframe\">\n",
       "  <thead>\n",
       "    <tr style=\"text-align: right;\">\n",
       "      <th></th>\n",
       "      <th>age</th>\n",
       "      <th>bmi</th>\n",
       "      <th>children</th>\n",
       "      <th>charges</th>\n",
       "    </tr>\n",
       "  </thead>\n",
       "  <tbody>\n",
       "    <tr>\n",
       "      <th>count</th>\n",
       "      <td>1000000.000000</td>\n",
       "      <td>1000000.000000</td>\n",
       "      <td>1000000.000000</td>\n",
       "      <td>1000000.000000</td>\n",
       "    </tr>\n",
       "    <tr>\n",
       "      <th>mean</th>\n",
       "      <td>41.495282</td>\n",
       "      <td>34.001839</td>\n",
       "      <td>2.499886</td>\n",
       "      <td>16735.117481</td>\n",
       "    </tr>\n",
       "    <tr>\n",
       "      <th>std</th>\n",
       "      <td>13.855189</td>\n",
       "      <td>9.231680</td>\n",
       "      <td>1.707679</td>\n",
       "      <td>4415.808211</td>\n",
       "    </tr>\n",
       "    <tr>\n",
       "      <th>min</th>\n",
       "      <td>18.000000</td>\n",
       "      <td>18.000000</td>\n",
       "      <td>0.000000</td>\n",
       "      <td>3445.011643</td>\n",
       "    </tr>\n",
       "    <tr>\n",
       "      <th>25%</th>\n",
       "      <td>29.000000</td>\n",
       "      <td>26.020000</td>\n",
       "      <td>1.000000</td>\n",
       "      <td>13600.372379</td>\n",
       "    </tr>\n",
       "    <tr>\n",
       "      <th>50%</th>\n",
       "      <td>41.000000</td>\n",
       "      <td>34.000000</td>\n",
       "      <td>2.000000</td>\n",
       "      <td>16622.127973</td>\n",
       "    </tr>\n",
       "    <tr>\n",
       "      <th>75%</th>\n",
       "      <td>53.000000</td>\n",
       "      <td>41.990000</td>\n",
       "      <td>4.000000</td>\n",
       "      <td>19781.465410</td>\n",
       "    </tr>\n",
       "    <tr>\n",
       "      <th>max</th>\n",
       "      <td>65.000000</td>\n",
       "      <td>50.000000</td>\n",
       "      <td>5.000000</td>\n",
       "      <td>32561.560374</td>\n",
       "    </tr>\n",
       "  </tbody>\n",
       "</table>\n",
       "</div>"
      ],
      "text/plain": [
       "                  age             bmi        children         charges\n",
       "count  1000000.000000  1000000.000000  1000000.000000  1000000.000000\n",
       "mean        41.495282       34.001839        2.499886    16735.117481\n",
       "std         13.855189        9.231680        1.707679     4415.808211\n",
       "min         18.000000       18.000000        0.000000     3445.011643\n",
       "25%         29.000000       26.020000        1.000000    13600.372379\n",
       "50%         41.000000       34.000000        2.000000    16622.127973\n",
       "75%         53.000000       41.990000        4.000000    19781.465410\n",
       "max         65.000000       50.000000        5.000000    32561.560374"
      ]
     },
     "execution_count": 12,
     "metadata": {},
     "output_type": "execute_result"
    }
   ],
   "source": [
    "data.describe()"
   ]
  },
  {
   "cell_type": "markdown",
   "metadata": {},
   "source": [
    "#### 2.결측치 처리 및 데이터 타입 변경"
   ]
  },
  {
   "cell_type": "code",
   "execution_count": 41,
   "metadata": {},
   "outputs": [
    {
     "data": {
      "text/plain": [
       "age                            0\n",
       "gender                         0\n",
       "bmi                            0\n",
       "children                       0\n",
       "smoker                         0\n",
       "region                         0\n",
       "medical_history           250762\n",
       "family_medical_history    250404\n",
       "exercise_frequency             0\n",
       "occupation                     0\n",
       "coverage_level                 0\n",
       "charges                        0\n",
       "dtype: int64"
      ]
     },
     "execution_count": 41,
     "metadata": {},
     "output_type": "execute_result"
    }
   ],
   "source": [
    "data.isnull().sum()"
   ]
  },
  {
   "cell_type": "code",
   "execution_count": 42,
   "metadata": {},
   "outputs": [],
   "source": [
    "## 결측치는 아예 제거 하기로 하고 결측치가 제거된 데이터를 df변수에 담는다.\n",
    "df = data.dropna()"
   ]
  },
  {
   "cell_type": "code",
   "execution_count": 43,
   "metadata": {},
   "outputs": [
    {
     "data": {
      "text/plain": [
       "age                       0\n",
       "gender                    0\n",
       "bmi                       0\n",
       "children                  0\n",
       "smoker                    0\n",
       "region                    0\n",
       "medical_history           0\n",
       "family_medical_history    0\n",
       "exercise_frequency        0\n",
       "occupation                0\n",
       "coverage_level            0\n",
       "charges                   0\n",
       "dtype: int64"
      ]
     },
     "execution_count": 43,
     "metadata": {},
     "output_type": "execute_result"
    }
   ],
   "source": [
    "## 결측치가 잘 제거됐는지 확인\n",
    "df.isnull().sum()"
   ]
  },
  {
   "cell_type": "code",
   "execution_count": 44,
   "metadata": {},
   "outputs": [],
   "source": [
    "## 문자형 변수는 추후 모델 성능을 위해 범주형 변수로 변환.\n",
    "def convert_to_categorical(df):\n",
    "    for col in df.columns:\n",
    "        if df[col].dtype == 'object':\n",
    "            df[col] = df[col].astype('category')\n",
    "    \n",
    "    return df\n",
    "\n",
    "def convert_to_float(df):\n",
    "    for col in df.columns:\n",
    "        if df[col].dtype == 'int64':\n",
    "            df[col] = df[col].astype('float64')\n",
    "\n",
    "    return df\n",
    "df = convert_to_categorical(df)\n",
    "df = convert_to_float(df)"
   ]
  },
  {
   "cell_type": "code",
   "execution_count": 45,
   "metadata": {},
   "outputs": [
    {
     "name": "stdout",
     "output_type": "stream",
     "text": [
      "<class 'pandas.core.frame.DataFrame'>\n",
      "Index: 561672 entries, 1 to 999999\n",
      "Data columns (total 12 columns):\n",
      " #   Column                  Non-Null Count   Dtype   \n",
      "---  ------                  --------------   -----   \n",
      " 0   age                     561672 non-null  float64 \n",
      " 1   gender                  561672 non-null  category\n",
      " 2   bmi                     561672 non-null  float64 \n",
      " 3   children                561672 non-null  float64 \n",
      " 4   smoker                  561672 non-null  category\n",
      " 5   region                  561672 non-null  category\n",
      " 6   medical_history         561672 non-null  category\n",
      " 7   family_medical_history  561672 non-null  category\n",
      " 8   exercise_frequency      561672 non-null  category\n",
      " 9   occupation              561672 non-null  category\n",
      " 10  coverage_level          561672 non-null  category\n",
      " 11  charges                 561672 non-null  float64 \n",
      "dtypes: category(8), float64(4)\n",
      "memory usage: 25.7 MB\n"
     ]
    }
   ],
   "source": [
    "df.info()"
   ]
  },
  {
   "cell_type": "markdown",
   "metadata": {},
   "source": [
    "#### 3.칼럼별 통계정보 확인"
   ]
  },
  {
   "cell_type": "code",
   "execution_count": 18,
   "metadata": {},
   "outputs": [
    {
     "data": {
      "text/html": [
       "<div>\n",
       "<style scoped>\n",
       "    .dataframe tbody tr th:only-of-type {\n",
       "        vertical-align: middle;\n",
       "    }\n",
       "\n",
       "    .dataframe tbody tr th {\n",
       "        vertical-align: top;\n",
       "    }\n",
       "\n",
       "    .dataframe thead th {\n",
       "        text-align: right;\n",
       "    }\n",
       "</style>\n",
       "<table border=\"1\" class=\"dataframe\">\n",
       "  <thead>\n",
       "    <tr style=\"text-align: right;\">\n",
       "      <th></th>\n",
       "      <th>age</th>\n",
       "    </tr>\n",
       "  </thead>\n",
       "  <tbody>\n",
       "    <tr>\n",
       "      <th>count</th>\n",
       "      <td>561672.000000</td>\n",
       "    </tr>\n",
       "    <tr>\n",
       "      <th>mean</th>\n",
       "      <td>41.492821</td>\n",
       "    </tr>\n",
       "    <tr>\n",
       "      <th>std</th>\n",
       "      <td>13.857684</td>\n",
       "    </tr>\n",
       "    <tr>\n",
       "      <th>min</th>\n",
       "      <td>18.000000</td>\n",
       "    </tr>\n",
       "    <tr>\n",
       "      <th>25%</th>\n",
       "      <td>29.000000</td>\n",
       "    </tr>\n",
       "    <tr>\n",
       "      <th>50%</th>\n",
       "      <td>41.000000</td>\n",
       "    </tr>\n",
       "    <tr>\n",
       "      <th>75%</th>\n",
       "      <td>53.000000</td>\n",
       "    </tr>\n",
       "    <tr>\n",
       "      <th>max</th>\n",
       "      <td>65.000000</td>\n",
       "    </tr>\n",
       "  </tbody>\n",
       "</table>\n",
       "</div>"
      ],
      "text/plain": [
       "                 age\n",
       "count  561672.000000\n",
       "mean       41.492821\n",
       "std        13.857684\n",
       "min        18.000000\n",
       "25%        29.000000\n",
       "50%        41.000000\n",
       "75%        53.000000\n",
       "max        65.000000"
      ]
     },
     "execution_count": 18,
     "metadata": {},
     "output_type": "execute_result"
    }
   ],
   "source": [
    "age = df[['age']]\n",
    "age.describe()"
   ]
  },
  {
   "cell_type": "code",
   "execution_count": 19,
   "metadata": {},
   "outputs": [
    {
     "data": {
      "text/plain": [
       "gender\n",
       "male      281056\n",
       "female    280616\n",
       "Name: count, dtype: int64"
      ]
     },
     "execution_count": 19,
     "metadata": {},
     "output_type": "execute_result"
    }
   ],
   "source": [
    "gender = df['gender']\n",
    "gender.value_counts()"
   ]
  },
  {
   "cell_type": "code",
   "execution_count": 20,
   "metadata": {},
   "outputs": [
    {
     "data": {
      "text/plain": [
       "count    561672.000000\n",
       "mean         33.989205\n",
       "std           9.235109\n",
       "min          18.000000\n",
       "25%          26.010000\n",
       "50%          33.960000\n",
       "75%          41.990000\n",
       "max          50.000000\n",
       "Name: bmi, dtype: float64"
      ]
     },
     "execution_count": 20,
     "metadata": {},
     "output_type": "execute_result"
    }
   ],
   "source": [
    "bmi = df['bmi']\n",
    "bmi.describe()"
   ]
  },
  {
   "cell_type": "code",
   "execution_count": 21,
   "metadata": {},
   "outputs": [
    {
     "data": {
      "text/plain": [
       "count    561672.000000\n",
       "mean          2.498723\n",
       "std           1.708084\n",
       "min           0.000000\n",
       "25%           1.000000\n",
       "50%           2.000000\n",
       "75%           4.000000\n",
       "max           5.000000\n",
       "Name: children, dtype: float64"
      ]
     },
     "execution_count": 21,
     "metadata": {},
     "output_type": "execute_result"
    }
   ],
   "source": [
    "children = df['children']\n",
    "children.describe()"
   ]
  },
  {
   "cell_type": "code",
   "execution_count": 22,
   "metadata": {},
   "outputs": [
    {
     "data": {
      "text/plain": [
       "smoker\n",
       "yes    280993\n",
       "no     280679\n",
       "Name: count, dtype: int64"
      ]
     },
     "execution_count": 22,
     "metadata": {},
     "output_type": "execute_result"
    }
   ],
   "source": [
    "smoker = df['smoker']\n",
    "smoker.value_counts()"
   ]
  },
  {
   "cell_type": "code",
   "execution_count": 23,
   "metadata": {},
   "outputs": [
    {
     "data": {
      "text/plain": [
       "region\n",
       "northeast    140835\n",
       "southwest    140469\n",
       "southeast    140409\n",
       "northwest    139959\n",
       "Name: count, dtype: int64"
      ]
     },
     "execution_count": 23,
     "metadata": {},
     "output_type": "execute_result"
    }
   ],
   "source": [
    "region = df['region']\n",
    "region.value_counts()"
   ]
  },
  {
   "cell_type": "code",
   "execution_count": 24,
   "metadata": {},
   "outputs": [
    {
     "data": {
      "text/plain": [
       "medical_history\n",
       "Heart disease          187846\n",
       "Diabetes               186957\n",
       "High blood pressure    186869\n",
       "Name: count, dtype: int64"
      ]
     },
     "execution_count": 24,
     "metadata": {},
     "output_type": "execute_result"
    }
   ],
   "source": [
    "medical_history = df['medical_history']\n",
    "medical_history.value_counts()"
   ]
  },
  {
   "cell_type": "code",
   "execution_count": 25,
   "metadata": {},
   "outputs": [
    {
     "data": {
      "text/plain": [
       "family_medical_history\n",
       "Heart disease          187302\n",
       "Diabetes               187224\n",
       "High blood pressure    187146\n",
       "Name: count, dtype: int64"
      ]
     },
     "execution_count": 25,
     "metadata": {},
     "output_type": "execute_result"
    }
   ],
   "source": [
    "family_medical_history = df['family_medical_history']\n",
    "family_medical_history.value_counts()"
   ]
  },
  {
   "cell_type": "code",
   "execution_count": 26,
   "metadata": {},
   "outputs": [
    {
     "data": {
      "text/plain": [
       "exercise_frequency\n",
       "Occasionally    140615\n",
       "Rarely          140567\n",
       "Never           140285\n",
       "Frequently      140205\n",
       "Name: count, dtype: int64"
      ]
     },
     "execution_count": 26,
     "metadata": {},
     "output_type": "execute_result"
    }
   ],
   "source": [
    "exercise_frequency = df['exercise_frequency']\n",
    "exercise_frequency.value_counts()"
   ]
  },
  {
   "cell_type": "code",
   "execution_count": 27,
   "metadata": {},
   "outputs": [
    {
     "data": {
      "text/plain": [
       "occupation\n",
       "Unemployed      140880\n",
       "Student         140626\n",
       "Blue collar     140330\n",
       "White collar    139836\n",
       "Name: count, dtype: int64"
      ]
     },
     "execution_count": 27,
     "metadata": {},
     "output_type": "execute_result"
    }
   ],
   "source": [
    "occupation = df['occupation']\n",
    "occupation.value_counts()"
   ]
  },
  {
   "cell_type": "code",
   "execution_count": 28,
   "metadata": {},
   "outputs": [
    {
     "data": {
      "text/plain": [
       "coverage_level\n",
       "Standard    187704\n",
       "Basic       187043\n",
       "Premium     186925\n",
       "Name: count, dtype: int64"
      ]
     },
     "execution_count": 28,
     "metadata": {},
     "output_type": "execute_result"
    }
   ],
   "source": [
    "coverage_level = df['coverage_level']\n",
    "coverage_level.value_counts()"
   ]
  },
  {
   "cell_type": "code",
   "execution_count": 29,
   "metadata": {},
   "outputs": [
    {
     "data": {
      "text/plain": [
       "medical_history\n",
       "Heart disease          187846\n",
       "Diabetes               186957\n",
       "High blood pressure    186869\n",
       "Name: count, dtype: int64"
      ]
     },
     "execution_count": 29,
     "metadata": {},
     "output_type": "execute_result"
    }
   ],
   "source": [
    "medical_history = df['medical_history']\n",
    "medical_history.value_counts()"
   ]
  },
  {
   "cell_type": "markdown",
   "metadata": {},
   "source": [
    "#### 3-1. 칼럼별 분포 확인 (이상치 확인)"
   ]
  },
  {
   "cell_type": "code",
   "execution_count": 30,
   "metadata": {},
   "outputs": [
    {
     "data": {
      "image/png": "[encoded data removed]",
      "text/plain": [
       "<Figure size 640x480 with 1 Axes>"
      ]
     },
     "metadata": {},
     "output_type": "display_data"
    }
   ],
   "source": [
    "fig = sns.histplot(data=df, x='charges', bins=60)\n",
    "plt.xlabel(\"보험료\",fontsize=12)\n",
    "plt.title(\"보험료 데이터의 분포\",fontsize=15)\n",
    "plt.show()"
   ]
  },
  {
   "cell_type": "code",
   "execution_count": 31,
   "metadata": {},
   "outputs": [
    {
     "data": {
      "image/png": "[encoded data removed]",
      "text/plain": [
       "<Figure size 640x480 with 3 Axes>"
      ]
     },
     "metadata": {},
     "output_type": "display_data"
    }
   ],
   "source": [
    "boxplot = plt.figure()\n",
    "\n",
    "axes1 = boxplot.add_subplot(1, 3, 1)\n",
    "axes1.boxplot(x = df['age'])\n",
    "plt.xlabel('Age')\n",
    "\n",
    "\n",
    "axes2 = boxplot.add_subplot(1, 3, 2)\n",
    "axes2.boxplot(x = df['bmi'])\n",
    "plt.xlabel('BMI')\n",
    "plt.title(\"나이, BMI지수, 자녀수 칼럼의 Boxplot\")\n",
    "\n",
    "axes3 = boxplot.add_subplot(1, 3, 3)\n",
    "axes3.boxplot(x= df['children'])\n",
    "plt.xlabel('Children')\n",
    "\n",
    "\n",
    "plt.show()\n"
   ]
  },
  {
   "cell_type": "markdown",
   "metadata": {},
   "source": [
    "위 그래프를 통해 Age, BMI, Children 칼럼 모두 이상치 없음을 확인.  \n",
    "Age : 데이터의 분포는 약 20에서 60 사이로 나타남. 중앙값은 약 40세.  \n",
    "BMI : 데이터의 분포는 약 20에서 50사이로 나타남. 중앙값은 약 34로 보임.  \n",
    "Children : 데이터의 분포는 0에서 5로 나타남. 중앙값은 2.  "
   ]
  },
  {
   "cell_type": "markdown",
   "metadata": {},
   "source": [
    "#### 4.범주형 데이터 인코딩"
   ]
  },
  {
   "cell_type": "code",
   "execution_count": 32,
   "metadata": {},
   "outputs": [
    {
     "data": {
      "text/html": [
       "<div>\n",
       "<style scoped>\n",
       "    .dataframe tbody tr th:only-of-type {\n",
       "        vertical-align: middle;\n",
       "    }\n",
       "\n",
       "    .dataframe tbody tr th {\n",
       "        vertical-align: top;\n",
       "    }\n",
       "\n",
       "    .dataframe thead th {\n",
       "        text-align: right;\n",
       "    }\n",
       "</style>\n",
       "<table border=\"1\" class=\"dataframe\">\n",
       "  <thead>\n",
       "    <tr style=\"text-align: right;\">\n",
       "      <th></th>\n",
       "      <th>onehotencoder__gender_female</th>\n",
       "      <th>onehotencoder__gender_male</th>\n",
       "      <th>onehotencoder__smoker_no</th>\n",
       "      <th>onehotencoder__smoker_yes</th>\n",
       "      <th>onehotencoder__region_northeast</th>\n",
       "      <th>onehotencoder__region_northwest</th>\n",
       "      <th>onehotencoder__region_southeast</th>\n",
       "      <th>onehotencoder__region_southwest</th>\n",
       "      <th>onehotencoder__medical_history_Diabetes</th>\n",
       "      <th>onehotencoder__medical_history_Heart disease</th>\n",
       "      <th>...</th>\n",
       "      <th>onehotencoder__occupation_Student</th>\n",
       "      <th>onehotencoder__occupation_Unemployed</th>\n",
       "      <th>onehotencoder__occupation_White collar</th>\n",
       "      <th>onehotencoder__coverage_level_Basic</th>\n",
       "      <th>onehotencoder__coverage_level_Premium</th>\n",
       "      <th>onehotencoder__coverage_level_Standard</th>\n",
       "      <th>remainder__age</th>\n",
       "      <th>remainder__bmi</th>\n",
       "      <th>remainder__children</th>\n",
       "      <th>remainder__charges</th>\n",
       "    </tr>\n",
       "  </thead>\n",
       "  <tbody>\n",
       "    <tr>\n",
       "      <th>0</th>\n",
       "      <td>1.0</td>\n",
       "      <td>0.0</td>\n",
       "      <td>0.0</td>\n",
       "      <td>1.0</td>\n",
       "      <td>0.0</td>\n",
       "      <td>1.0</td>\n",
       "      <td>0.0</td>\n",
       "      <td>0.0</td>\n",
       "      <td>1.0</td>\n",
       "      <td>0.0</td>\n",
       "      <td>...</td>\n",
       "      <td>0.0</td>\n",
       "      <td>0.0</td>\n",
       "      <td>1.0</td>\n",
       "      <td>0.0</td>\n",
       "      <td>1.0</td>\n",
       "      <td>0.0</td>\n",
       "      <td>25.0</td>\n",
       "      <td>25.38</td>\n",
       "      <td>2.0</td>\n",
       "      <td>20390.899218</td>\n",
       "    </tr>\n",
       "    <tr>\n",
       "      <th>1</th>\n",
       "      <td>0.0</td>\n",
       "      <td>1.0</td>\n",
       "      <td>0.0</td>\n",
       "      <td>1.0</td>\n",
       "      <td>0.0</td>\n",
       "      <td>1.0</td>\n",
       "      <td>0.0</td>\n",
       "      <td>0.0</td>\n",
       "      <td>1.0</td>\n",
       "      <td>0.0</td>\n",
       "      <td>...</td>\n",
       "      <td>0.0</td>\n",
       "      <td>0.0</td>\n",
       "      <td>1.0</td>\n",
       "      <td>0.0</td>\n",
       "      <td>0.0</td>\n",
       "      <td>1.0</td>\n",
       "      <td>49.0</td>\n",
       "      <td>38.21</td>\n",
       "      <td>3.0</td>\n",
       "      <td>19268.309838</td>\n",
       "    </tr>\n",
       "    <tr>\n",
       "      <th>2</th>\n",
       "      <td>1.0</td>\n",
       "      <td>0.0</td>\n",
       "      <td>1.0</td>\n",
       "      <td>0.0</td>\n",
       "      <td>1.0</td>\n",
       "      <td>0.0</td>\n",
       "      <td>0.0</td>\n",
       "      <td>0.0</td>\n",
       "      <td>0.0</td>\n",
       "      <td>0.0</td>\n",
       "      <td>...</td>\n",
       "      <td>0.0</td>\n",
       "      <td>0.0</td>\n",
       "      <td>0.0</td>\n",
       "      <td>1.0</td>\n",
       "      <td>0.0</td>\n",
       "      <td>0.0</td>\n",
       "      <td>64.0</td>\n",
       "      <td>20.12</td>\n",
       "      <td>2.0</td>\n",
       "      <td>9563.655011</td>\n",
       "    </tr>\n",
       "    <tr>\n",
       "      <th>3</th>\n",
       "      <td>0.0</td>\n",
       "      <td>1.0</td>\n",
       "      <td>1.0</td>\n",
       "      <td>0.0</td>\n",
       "      <td>0.0</td>\n",
       "      <td>0.0</td>\n",
       "      <td>1.0</td>\n",
       "      <td>0.0</td>\n",
       "      <td>0.0</td>\n",
       "      <td>1.0</td>\n",
       "      <td>...</td>\n",
       "      <td>1.0</td>\n",
       "      <td>0.0</td>\n",
       "      <td>0.0</td>\n",
       "      <td>0.0</td>\n",
       "      <td>0.0</td>\n",
       "      <td>1.0</td>\n",
       "      <td>53.0</td>\n",
       "      <td>30.51</td>\n",
       "      <td>4.0</td>\n",
       "      <td>15845.293730</td>\n",
       "    </tr>\n",
       "    <tr>\n",
       "      <th>4</th>\n",
       "      <td>1.0</td>\n",
       "      <td>0.0</td>\n",
       "      <td>1.0</td>\n",
       "      <td>0.0</td>\n",
       "      <td>0.0</td>\n",
       "      <td>1.0</td>\n",
       "      <td>0.0</td>\n",
       "      <td>0.0</td>\n",
       "      <td>0.0</td>\n",
       "      <td>0.0</td>\n",
       "      <td>...</td>\n",
       "      <td>0.0</td>\n",
       "      <td>0.0</td>\n",
       "      <td>0.0</td>\n",
       "      <td>0.0</td>\n",
       "      <td>1.0</td>\n",
       "      <td>0.0</td>\n",
       "      <td>45.0</td>\n",
       "      <td>39.68</td>\n",
       "      <td>1.0</td>\n",
       "      <td>14892.145930</td>\n",
       "    </tr>\n",
       "  </tbody>\n",
       "</table>\n",
       "<p>5 rows × 29 columns</p>\n",
       "</div>"
      ],
      "text/plain": [
       "   onehotencoder__gender_female  onehotencoder__gender_male  \\\n",
       "0                           1.0                         0.0   \n",
       "1                           0.0                         1.0   \n",
       "2                           1.0                         0.0   \n",
       "3                           0.0                         1.0   \n",
       "4                           1.0                         0.0   \n",
       "\n",
       "   onehotencoder__smoker_no  onehotencoder__smoker_yes  \\\n",
       "0                       0.0                        1.0   \n",
       "1                       0.0                        1.0   \n",
       "2                       1.0                        0.0   \n",
       "3                       1.0                        0.0   \n",
       "4                       1.0                        0.0   \n",
       "\n",
       "   onehotencoder__region_northeast  onehotencoder__region_northwest  \\\n",
       "0                              0.0                              1.0   \n",
       "1                              0.0                              1.0   \n",
       "2                              1.0                              0.0   \n",
       "3                              0.0                              0.0   \n",
       "4                              0.0                              1.0   \n",
       "\n",
       "   onehotencoder__region_southeast  onehotencoder__region_southwest  \\\n",
       "0                              0.0                              0.0   \n",
       "1                              0.0                              0.0   \n",
       "2                              0.0                              0.0   \n",
       "3                              1.0                              0.0   \n",
       "4                              0.0                              0.0   \n",
       "\n",
       "   onehotencoder__medical_history_Diabetes  \\\n",
       "0                                      1.0   \n",
       "1                                      1.0   \n",
       "2                                      0.0   \n",
       "3                                      0.0   \n",
       "4                                      0.0   \n",
       "\n",
       "   onehotencoder__medical_history_Heart disease  ...  \\\n",
       "0                                           0.0  ...   \n",
       "1                                           0.0  ...   \n",
       "2                                           0.0  ...   \n",
       "3                                           1.0  ...   \n",
       "4                                           0.0  ...   \n",
       "\n",
       "   onehotencoder__occupation_Student  onehotencoder__occupation_Unemployed  \\\n",
       "0                                0.0                                   0.0   \n",
       "1                                0.0                                   0.0   \n",
       "2                                0.0                                   0.0   \n",
       "3                                1.0                                   0.0   \n",
       "4                                0.0                                   0.0   \n",
       "\n",
       "   onehotencoder__occupation_White collar  \\\n",
       "0                                     1.0   \n",
       "1                                     1.0   \n",
       "2                                     0.0   \n",
       "3                                     0.0   \n",
       "4                                     0.0   \n",
       "\n",
       "   onehotencoder__coverage_level_Basic  onehotencoder__coverage_level_Premium  \\\n",
       "0                                  0.0                                    1.0   \n",
       "1                                  0.0                                    0.0   \n",
       "2                                  1.0                                    0.0   \n",
       "3                                  0.0                                    0.0   \n",
       "4                                  0.0                                    1.0   \n",
       "\n",
       "   onehotencoder__coverage_level_Standard  remainder__age  remainder__bmi  \\\n",
       "0                                     0.0            25.0           25.38   \n",
       "1                                     1.0            49.0           38.21   \n",
       "2                                     0.0            64.0           20.12   \n",
       "3                                     1.0            53.0           30.51   \n",
       "4                                     0.0            45.0           39.68   \n",
       "\n",
       "   remainder__children  remainder__charges  \n",
       "0                  2.0        20390.899218  \n",
       "1                  3.0        19268.309838  \n",
       "2                  2.0         9563.655011  \n",
       "3                  4.0        15845.293730  \n",
       "4                  1.0        14892.145930  \n",
       "\n",
       "[5 rows x 29 columns]"
      ]
     },
     "execution_count": 32,
     "metadata": {},
     "output_type": "execute_result"
    }
   ],
   "source": [
    "ct = make_column_transformer(\n",
    "    (OneHotEncoder(sparse_output=False),['gender','smoker', 'region', 'medical_history', 'family_medical_history', 'exercise_frequency', 'occupation', 'coverage_level']), \n",
    "    remainder='passthrough')\n",
    "df01 = ct.fit_transform(df)\n",
    "df01 = pd.DataFrame(df01, columns=ct.get_feature_names_out())\n",
    "df01.head()"
   ]
  },
  {
   "cell_type": "markdown",
   "metadata": {},
   "source": [
    "\n",
    "#### 5. 필요없는 변수 제거 과정"
   ]
  },
  {
   "cell_type": "code",
   "execution_count": 33,
   "metadata": {},
   "outputs": [
    {
     "data": {
      "text/plain": [
       "<Axes: xlabel='연령대'>"
      ]
     },
     "execution_count": 33,
     "metadata": {},
     "output_type": "execute_result"
    },
    {
     "data": {
      "image/png": "[encoded data removed]",
      "text/plain": [
       "<Figure size 640x480 with 1 Axes>"
      ]
     },
     "metadata": {},
     "output_type": "display_data"
    }
   ],
   "source": [
    "## age와 charges\n",
    "df02 = df.copy()\n",
    "df02[\"연령대\"] = pd.cut(x = df['age'], bins = [0, 10, 20, 30, 40, 50, 60, 70, 80],\n",
    "                           labels = [\"0-9\",\"10-19\", \"20-29\", \"30-39\", \"40-49\", \"50-59\", \"60-69\", \"70+\"], right = False)\n",
    "df02.groupby(['연령대'])['charges'].mean().plot.line()"
   ]
  },
  {
   "cell_type": "code",
   "execution_count": 34,
   "metadata": {},
   "outputs": [
    {
     "data": {
      "text/plain": [
       "<Axes: xlabel='gender'>"
      ]
     },
     "execution_count": 34,
     "metadata": {},
     "output_type": "execute_result"
    },
    {
     "data": {
      "image/png": "[encoded data removed]",
      "text/plain": [
       "<Figure size 640x480 with 1 Axes>"
      ]
     },
     "metadata": {},
     "output_type": "display_data"
    }
   ],
   "source": [
    "df.groupby(['gender'])['charges'].mean().plot.bar()"
   ]
  },
  {
   "cell_type": "code",
   "execution_count": 35,
   "metadata": {},
   "outputs": [
    {
     "data": {
      "text/plain": [
       "<Axes: xlabel='smoker'>"
      ]
     },
     "execution_count": 35,
     "metadata": {},
     "output_type": "execute_result"
    },
    {
     "data": {
      "image/png": "[encoded data removed]",
      "text/plain": [
       "<Figure size 640x480 with 1 Axes>"
      ]
     },
     "metadata": {},
     "output_type": "display_data"
    }
   ],
   "source": [
    "df.groupby(['smoker'])['charges'].mean().plot.bar()"
   ]
  },
  {
   "cell_type": "code",
   "execution_count": 36,
   "metadata": {},
   "outputs": [
    {
     "data": {
      "text/plain": [
       "<Axes: xlabel='region'>"
      ]
     },
     "execution_count": 36,
     "metadata": {},
     "output_type": "execute_result"
    },
    {
     "data": {
      "image/png": "[encoded data removed]",
      "text/plain": [
       "<Figure size 640x480 with 1 Axes>"
      ]
     },
     "metadata": {},
     "output_type": "display_data"
    }
   ],
   "source": [
    "df.groupby(['region'])['charges'].mean().plot.bar()\n"
   ]
  },
  {
   "cell_type": "code",
   "execution_count": 37,
   "metadata": {},
   "outputs": [
    {
     "data": {
      "text/plain": [
       "<Axes: xlabel='medical_history'>"
      ]
     },
     "execution_count": 37,
     "metadata": {},
     "output_type": "execute_result"
    },
    {
     "data": {
      "image/png": "[encoded data removed]",
      "text/plain": [
       "<Figure size 640x480 with 1 Axes>"
      ]
     },
     "metadata": {},
     "output_type": "display_data"
    }
   ],
   "source": [
    "df.groupby(['medical_history'])['charges'].mean().plot.bar()"
   ]
  },
  {
   "cell_type": "code",
   "execution_count": 38,
   "metadata": {},
   "outputs": [
    {
     "data": {
      "text/plain": [
       "<Axes: xlabel='family_medical_history'>"
      ]
     },
     "execution_count": 38,
     "metadata": {},
     "output_type": "execute_result"
    },
    {
     "data": {
      "image/png": "[encoded data removed]",
      "text/plain": [
       "<Figure size 640x480 with 1 Axes>"
      ]
     },
     "metadata": {},
     "output_type": "display_data"
    }
   ],
   "source": [
    "df.groupby(['family_medical_history'])['charges'].mean().plot.bar()"
   ]
  },
  {
   "cell_type": "code",
   "execution_count": null,
   "metadata": {},
   "outputs": [
    {
     "name": "stdout",
     "output_type": "stream",
     "text": [
      "일치하는 행의 개수: 187222\n"
     ]
    }
   ],
   "source": [
    "## data['family_medical_history'] == data['medical_history']\n",
    "matching_rows = df[df['family_medical_history'] == df['medical_history']]\n",
    "matching_count = len(matching_rows)\n",
    "print(\"일치하는 행의 개수:\", matching_count)"
   ]
  },
  {
   "cell_type": "code",
   "execution_count": 40,
   "metadata": {},
   "outputs": [
    {
     "name": "stdout",
     "output_type": "stream",
     "text": [
      "Diabetes: 249335\n",
      "High blood pressure: 249782\n",
      "Heart disease: 250121\n"
     ]
    },
    {
     "ename": "NameError",
     "evalue": "name 'nan_count' is not defined",
     "output_type": "error",
     "traceback": [
      "\u001b[1;31m---------------------------------------------------------------------------\u001b[0m",
      "\u001b[1;31mNameError\u001b[0m                                 Traceback (most recent call last)",
      "Cell \u001b[1;32mIn[40], line 8\u001b[0m\n\u001b[0;32m      6\u001b[0m \u001b[38;5;28;01mfor\u001b[39;00m value \u001b[38;5;129;01min\u001b[39;00m values_to_count:\n\u001b[0;32m      7\u001b[0m     \u001b[38;5;28mprint\u001b[39m(\u001b[38;5;124mf\u001b[39m\u001b[38;5;124m\"\u001b[39m\u001b[38;5;132;01m{\u001b[39;00mvalue\u001b[38;5;132;01m}\u001b[39;00m\u001b[38;5;124m: \u001b[39m\u001b[38;5;132;01m{\u001b[39;00mvalue_counts\u001b[38;5;241m.\u001b[39mget(value,\u001b[38;5;250m \u001b[39m\u001b[38;5;241m0\u001b[39m)\u001b[38;5;132;01m}\u001b[39;00m\u001b[38;5;124m\"\u001b[39m)\n\u001b[1;32m----> 8\u001b[0m \u001b[38;5;28mprint\u001b[39m(\u001b[38;5;124mf\u001b[39m\u001b[38;5;124m\"\u001b[39m\u001b[38;5;124mNaN: \u001b[39m\u001b[38;5;132;01m{\u001b[39;00m\u001b[43mnan_count\u001b[49m\u001b[38;5;132;01m}\u001b[39;00m\u001b[38;5;124m\"\u001b[39m)\n",
      "\u001b[1;31mNameError\u001b[0m: name 'nan_count' is not defined"
     ]
    }
   ],
   "source": [
    "## medical_history 튜플 별로 개수\n",
    "values_to_count = ['Diabetes', 'High blood pressure', 'Heart disease']\n",
    "value_counts = data['medical_history'].value_counts()\n",
    "\n",
    "# 결과 출력\n",
    "for value in values_to_count:\n",
    "    print(f\"{value}: {value_counts.get(value, 0)}\")\n",
    "print(f\"NaN: {nan_count}\")"
   ]
  },
  {
   "cell_type": "code",
   "execution_count": 52,
   "metadata": {},
   "outputs": [
    {
     "name": "stdout",
     "output_type": "stream",
     "text": [
      "exercise_frequency  bmi  \n",
      "Frequently          49.43    69\n",
      "                    28.90    68\n",
      "                    32.99    68\n",
      "                    48.38    67\n",
      "                    49.18    66\n",
      "                             ..\n",
      "Rarely              43.44    23\n",
      "                    23.56    22\n",
      "                    44.65    22\n",
      "                    49.24    22\n",
      "                    18.00    17\n",
      "Name: count, Length: 12804, dtype: int64\n"
     ]
    }
   ],
   "source": [
    "##'exercise_frequency' 열로 그룹화하고 'bmi' 열을 분류\n",
    "bmi_counts= datao.groupby('exercise_frequency')['bmi'].value_counts()\n",
    "\n",
    "# 결과 출력\n",
    "print(bmi_counts)"
   ]
  },
  {
   "cell_type": "code",
   "execution_count": 49,
   "metadata": {},
   "outputs": [
    {
     "name": "stdout",
     "output_type": "stream",
     "text": [
      "          bmi      medical_history\n",
      "11      39.68  High blood pressure\n",
      "13      39.95  High blood pressure\n",
      "22      31.11  High blood pressure\n",
      "28      26.46  High blood pressure\n",
      "29      30.75  High blood pressure\n",
      "...       ...                  ...\n",
      "999977  32.26  High blood pressure\n",
      "999985  37.00  High blood pressure\n",
      "999991  32.51  High blood pressure\n",
      "999992  25.92  High blood pressure\n",
      "999998  45.06  High blood pressure\n",
      "\n",
      "[146046 rows x 2 columns]\n",
      "조건: bmi >= 25 그리고 medical_history == 'High blood pressure': 146046\n"
     ]
    }
   ],
   "source": [
    "##  bmi >= 25 그리고 medical_history == 'High blood pressure'\n",
    "filtered_data = data[(data['bmi'] >= 25) & (data['medical_history'] == 'High blood pressure')]\n",
    "filtered_columns1 = filtered_data[['bmi', 'medical_history']]\n",
    "\n",
    "print(filtered_columns1)\n",
    "\n",
    "count = len(filtered_columns1)\n",
    "\n",
    "# 결과 출력\n",
    "print(f\"조건: bmi >= 25 그리고 medical_history == 'High blood pressure': {count}\")"
   ]
  },
  {
   "cell_type": "code",
   "execution_count": 50,
   "metadata": {},
   "outputs": [
    {
     "name": "stdout",
     "output_type": "stream",
     "text": [
      "          bmi medical_history\n",
      "7       30.51   Heart disease\n",
      "26      39.70   Heart disease\n",
      "30      41.15   Heart disease\n",
      "46      38.53   Heart disease\n",
      "49      40.31   Heart disease\n",
      "...       ...             ...\n",
      "999957  45.03   Heart disease\n",
      "999958  34.19   Heart disease\n",
      "999960  26.38   Heart disease\n",
      "999978  40.60   Heart disease\n",
      "999997  39.84   Heart disease\n",
      "\n",
      "[146856 rows x 2 columns]\n",
      "조건: bmi >= 25 그리고 medical_history == 'Heart disease': 146856\n"
     ]
    }
   ],
   "source": [
    "## bmi >= 25 그리고 medical_history == 'Heart disease'\n",
    "filtered_data = data[(data['bmi'] >= 25) & (data['medical_history'] == 'Heart disease')]\n",
    "filtered_columns2 = filtered_data[['bmi', 'medical_history']]\n",
    "\n",
    "print(filtered_columns2)\n",
    "\n",
    "count = len(filtered_columns2)\n",
    "\n",
    "# 결과 출력\n",
    "print(f\"조건: bmi >= 25 그리고 medical_history == 'Heart disease': {count}\")"
   ]
  },
  {
   "cell_type": "code",
   "execution_count": 51,
   "metadata": {},
   "outputs": [
    {
     "name": "stdout",
     "output_type": "stream",
     "text": [
      "exercise_frequency  medical_history    \n",
      "Frequently          Heart disease          46883\n",
      "                    High blood pressure    46781\n",
      "                    Diabetes               46541\n",
      "Never               High blood pressure    46857\n",
      "                    Diabetes               46792\n",
      "                    Heart disease          46636\n",
      "Occasionally        Heart disease          47207\n",
      "                    High blood pressure    46763\n",
      "                    Diabetes               46645\n",
      "Rarely              Heart disease          47120\n",
      "                    Diabetes               46979\n",
      "                    High blood pressure    46468\n",
      "Name: count, dtype: int64\n"
     ]
    }
   ],
   "source": [
    "## 'exercise_frequency' 열로 그룹화하고 'medical_history' 열을 분류\n",
    "exercisemedicalhistory_counts= data.groupby('exercise_frequency')['medical_history'].value_counts()\n",
    "\n",
    "# 결과 출력\n",
    "print(exercisemedicalhistory_counts)\n",
    "\n",
    "## 필요없을듯"
   ]
  },
  {
   "cell_type": "code",
   "execution_count": null,
   "metadata": {},
   "outputs": [],
   "source": []
  },
  {
   "cell_type": "code",
   "execution_count": null,
   "metadata": {},
   "outputs": [],
   "source": []
  }
 ],
 "metadata": {
  "kernelspec": {
   "display_name": "Python 3",
   "language": "python",
   "name": "python3"
  },
  "language_info": {
   "codemirror_mode": {
    "name": "ipython",
    "version": 3
   },
   "file_extension": ".py",
   "mimetype": "text/x-python",
   "name": "python",
   "nbconvert_exporter": "python",
   "pygments_lexer": "ipython3",
   "version": "3.13.1"
  }
 },
 "nbformat": 4,
 "nbformat_minor": 2
}
