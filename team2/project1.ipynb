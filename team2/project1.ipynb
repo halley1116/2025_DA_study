{
 "cells": [
  {
   "cell_type": "code",
   "execution_count": 42,
   "metadata": {},
   "outputs": [],
   "source": [
    "import pandas as pd"
   ]
  },
  {
   "cell_type": "code",
   "execution_count": 43,
   "metadata": {},
   "outputs": [
    {
     "data": {
      "text/html": [
       "<div>\n",
       "<style scoped>\n",
       "    .dataframe tbody tr th:only-of-type {\n",
       "        vertical-align: middle;\n",
       "    }\n",
       "\n",
       "    .dataframe tbody tr th {\n",
       "        vertical-align: top;\n",
       "    }\n",
       "\n",
       "    .dataframe thead th {\n",
       "        text-align: right;\n",
       "    }\n",
       "</style>\n",
       "<table border=\"1\" class=\"dataframe\">\n",
       "  <thead>\n",
       "    <tr style=\"text-align: right;\">\n",
       "      <th></th>\n",
       "      <th>age</th>\n",
       "      <th>gender</th>\n",
       "      <th>bmi</th>\n",
       "      <th>children</th>\n",
       "      <th>smoker</th>\n",
       "      <th>region</th>\n",
       "      <th>medical_history</th>\n",
       "      <th>family_medical_history</th>\n",
       "      <th>exercise_frequency</th>\n",
       "      <th>occupation</th>\n",
       "      <th>coverage_level</th>\n",
       "      <th>charges</th>\n",
       "    </tr>\n",
       "  </thead>\n",
       "  <tbody>\n",
       "    <tr>\n",
       "      <th>0</th>\n",
       "      <td>46</td>\n",
       "      <td>male</td>\n",
       "      <td>21.45</td>\n",
       "      <td>5</td>\n",
       "      <td>yes</td>\n",
       "      <td>southeast</td>\n",
       "      <td>Diabetes</td>\n",
       "      <td>NaN</td>\n",
       "      <td>Never</td>\n",
       "      <td>Blue collar</td>\n",
       "      <td>Premium</td>\n",
       "      <td>20460.307669</td>\n",
       "    </tr>\n",
       "    <tr>\n",
       "      <th>1</th>\n",
       "      <td>25</td>\n",
       "      <td>female</td>\n",
       "      <td>25.38</td>\n",
       "      <td>2</td>\n",
       "      <td>yes</td>\n",
       "      <td>northwest</td>\n",
       "      <td>Diabetes</td>\n",
       "      <td>High blood pressure</td>\n",
       "      <td>Occasionally</td>\n",
       "      <td>White collar</td>\n",
       "      <td>Premium</td>\n",
       "      <td>20390.899218</td>\n",
       "    </tr>\n",
       "    <tr>\n",
       "      <th>2</th>\n",
       "      <td>38</td>\n",
       "      <td>male</td>\n",
       "      <td>44.88</td>\n",
       "      <td>2</td>\n",
       "      <td>yes</td>\n",
       "      <td>southwest</td>\n",
       "      <td>NaN</td>\n",
       "      <td>High blood pressure</td>\n",
       "      <td>Occasionally</td>\n",
       "      <td>Blue collar</td>\n",
       "      <td>Premium</td>\n",
       "      <td>20204.476302</td>\n",
       "    </tr>\n",
       "    <tr>\n",
       "      <th>3</th>\n",
       "      <td>25</td>\n",
       "      <td>male</td>\n",
       "      <td>19.89</td>\n",
       "      <td>0</td>\n",
       "      <td>no</td>\n",
       "      <td>northwest</td>\n",
       "      <td>NaN</td>\n",
       "      <td>Diabetes</td>\n",
       "      <td>Rarely</td>\n",
       "      <td>White collar</td>\n",
       "      <td>Standard</td>\n",
       "      <td>11789.029843</td>\n",
       "    </tr>\n",
       "    <tr>\n",
       "      <th>4</th>\n",
       "      <td>49</td>\n",
       "      <td>male</td>\n",
       "      <td>38.21</td>\n",
       "      <td>3</td>\n",
       "      <td>yes</td>\n",
       "      <td>northwest</td>\n",
       "      <td>Diabetes</td>\n",
       "      <td>High blood pressure</td>\n",
       "      <td>Rarely</td>\n",
       "      <td>White collar</td>\n",
       "      <td>Standard</td>\n",
       "      <td>19268.309838</td>\n",
       "    </tr>\n",
       "  </tbody>\n",
       "</table>\n",
       "</div>"
      ],
      "text/plain": [
       "   age  gender    bmi  children smoker     region medical_history  \\\n",
       "0   46    male  21.45         5    yes  southeast        Diabetes   \n",
       "1   25  female  25.38         2    yes  northwest        Diabetes   \n",
       "2   38    male  44.88         2    yes  southwest             NaN   \n",
       "3   25    male  19.89         0     no  northwest             NaN   \n",
       "4   49    male  38.21         3    yes  northwest        Diabetes   \n",
       "\n",
       "  family_medical_history exercise_frequency    occupation coverage_level  \\\n",
       "0                    NaN              Never   Blue collar        Premium   \n",
       "1    High blood pressure       Occasionally  White collar        Premium   \n",
       "2    High blood pressure       Occasionally   Blue collar        Premium   \n",
       "3               Diabetes             Rarely  White collar       Standard   \n",
       "4    High blood pressure             Rarely  White collar       Standard   \n",
       "\n",
       "        charges  \n",
       "0  20460.307669  \n",
       "1  20390.899218  \n",
       "2  20204.476302  \n",
       "3  11789.029843  \n",
       "4  19268.309838  "
      ]
     },
     "execution_count": 43,
     "metadata": {},
     "output_type": "execute_result"
    }
   ],
   "source": [
    "file = pd.read_csv(\"C:/Users/Owner/Desktop/kdramalist.csv\")\n",
    "file.head()"
   ]
  },
  {
   "cell_type": "code",
   "execution_count": 44,
   "metadata": {},
   "outputs": [],
   "source": [
    "df = pd.DataFrame(file)\n",
    "target = df['charges']\n",
    "datas = df.drop(columns=['charges'])"
   ]
  },
  {
   "cell_type": "code",
   "execution_count": 45,
   "metadata": {},
   "outputs": [
    {
     "name": "stdout",
     "output_type": "stream",
     "text": [
      "        age  gender    bmi  children smoker     region      medical_history  \\\n",
      "1        25  female  25.38         2    yes  northwest             Diabetes   \n",
      "4        49    male  38.21         3    yes  northwest             Diabetes   \n",
      "6        64  female  20.12         2     no  northeast  High blood pressure   \n",
      "7        53    male  30.51         4     no  southeast        Heart disease   \n",
      "11       45  female  39.68         1     no  northwest  High blood pressure   \n",
      "...     ...     ...    ...       ...    ...        ...                  ...   \n",
      "999991   49    male  32.51         0    yes  southwest  High blood pressure   \n",
      "999992   42    male  25.92         0     no  northwest  High blood pressure   \n",
      "999997   39    male  39.84         0    yes  northeast        Heart disease   \n",
      "999998   37  female  45.06         4    yes  northeast  High blood pressure   \n",
      "999999   41    male  30.02         2    yes  northeast             Diabetes   \n",
      "\n",
      "       family_medical_history exercise_frequency    occupation coverage_level  \n",
      "1         High blood pressure       Occasionally  White collar        Premium  \n",
      "4         High blood pressure             Rarely  White collar       Standard  \n",
      "6         High blood pressure              Never   Blue collar          Basic  \n",
      "7         High blood pressure             Rarely       Student       Standard  \n",
      "11        High blood pressure       Occasionally   Blue collar        Premium  \n",
      "...                       ...                ...           ...            ...  \n",
      "999991          Heart disease              Never    Unemployed        Premium  \n",
      "999992               Diabetes              Never   Blue collar          Basic  \n",
      "999997    High blood pressure             Rarely   Blue collar       Standard  \n",
      "999998               Diabetes       Occasionally    Unemployed        Premium  \n",
      "999999          Heart disease       Occasionally   Blue collar       Standard  \n",
      "\n",
      "[561672 rows x 11 columns]\n"
     ]
    }
   ],
   "source": [
    "data = datas.dropna()\n",
    "print(data)"
   ]
  },
  {
   "cell_type": "markdown",
   "metadata": {},
   "source": [
    "1. 필요한 라이브러리 import"
   ]
  },
  {
   "cell_type": "code",
   "execution_count": 46,
   "metadata": {},
   "outputs": [],
   "source": [
    "from sklearn.model_selection import train_test_split, cross_val_score, GridSearchCV, RandomizedSearchCV\n",
    "from sklearn.ensemble import RandomForestRegressor\n",
    "from sklearn.tree import DecisionTreeRegressor\n",
    "from sklearn.linear_model import LinearRegression\n",
    "from sklearn.svm import SVR\n",
    "from sklearn.metrics import mean_squared_error, r2_score\n",
    "from sklearn.preprocessing import LabelEncoder, StandardScaler\n",
    "import seaborn as sns\n",
    "import matplotlib.pyplot as plt\n",
    "import pandas as pd\n",
    "import numpy as np\n",
    "\n",
    "import warnings  # 경고 메시지 무시\n",
    "warnings.filterwarnings('ignore')\n",
    "\n",
    "# 한글 폰트를 설정하여 시각화에 한글이 깨지지 않도록 설정\n",
    "plt.rcParams['font.family'] = 'gulim'"
   ]
  },
  {
   "cell_type": "code",
   "execution_count": 47,
   "metadata": {},
   "outputs": [
    {
     "name": "stdout",
     "output_type": "stream",
     "text": [
      "일치하는 행의 개수: 187222\n"
     ]
    }
   ],
   "source": [
    "## data['family_medical_history'] == data['medical_history']\n",
    "matching_rows = data[data['family_medical_history'] == data['medical_history']]\n",
    "matching_count = len(matching_rows)\n",
    "print(\"일치하는 행의 개수:\", matching_count)"
   ]
  },
  {
   "cell_type": "code",
   "execution_count": 48,
   "metadata": {},
   "outputs": [
    {
     "name": "stdout",
     "output_type": "stream",
     "text": [
      "Diabetes: 186957\n",
      "High blood pressure: 186869\n",
      "Heart disease: 187846\n",
      "NaN: 0\n"
     ]
    }
   ],
   "source": [
    "## medical_history 튜플 별로 개수\n",
    "values_to_count = ['Diabetes', 'High blood pressure', 'Heart disease']\n",
    "value_counts = data['medical_history'].value_counts()\n",
    "\n",
    "# 결과 출력\n",
    "for value in values_to_count:\n",
    "    print(f\"{value}: {value_counts.get(value, 0)}\")\n",
    "print(f\"NaN: {nan_count}\")"
   ]
  },
  {
   "cell_type": "code",
   "execution_count": 52,
   "metadata": {},
   "outputs": [
    {
     "name": "stdout",
     "output_type": "stream",
     "text": [
      "exercise_frequency  bmi  \n",
      "Frequently          49.43    69\n",
      "                    28.90    68\n",
      "                    32.99    68\n",
      "                    48.38    67\n",
      "                    49.18    66\n",
      "                             ..\n",
      "Rarely              43.44    23\n",
      "                    23.56    22\n",
      "                    44.65    22\n",
      "                    49.24    22\n",
      "                    18.00    17\n",
      "Name: count, Length: 12804, dtype: int64\n"
     ]
    }
   ],
   "source": [
    "##'exercise_frequency' 열로 그룹화하고 'bmi' 열을 분류\n",
    "bmi_counts= datao.groupby('exercise_frequency')['bmi'].value_counts()\n",
    "\n",
    "# 결과 출력\n",
    "print(bmi_counts)"
   ]
  },
  {
   "cell_type": "code",
   "execution_count": 49,
   "metadata": {},
   "outputs": [
    {
     "name": "stdout",
     "output_type": "stream",
     "text": [
      "          bmi      medical_history\n",
      "11      39.68  High blood pressure\n",
      "13      39.95  High blood pressure\n",
      "22      31.11  High blood pressure\n",
      "28      26.46  High blood pressure\n",
      "29      30.75  High blood pressure\n",
      "...       ...                  ...\n",
      "999977  32.26  High blood pressure\n",
      "999985  37.00  High blood pressure\n",
      "999991  32.51  High blood pressure\n",
      "999992  25.92  High blood pressure\n",
      "999998  45.06  High blood pressure\n",
      "\n",
      "[146046 rows x 2 columns]\n",
      "조건: bmi >= 25 그리고 medical_history == 'High blood pressure': 146046\n"
     ]
    }
   ],
   "source": [
    "##  bmi >= 25 그리고 medical_history == 'High blood pressure'\n",
    "filtered_data = data[(data['bmi'] >= 25) & (data['medical_history'] == 'High blood pressure')]\n",
    "filtered_columns1 = filtered_data[['bmi', 'medical_history']]\n",
    "\n",
    "print(filtered_columns1)\n",
    "\n",
    "count = len(filtered_columns1)\n",
    "\n",
    "# 결과 출력\n",
    "print(f\"조건: bmi >= 25 그리고 medical_history == 'High blood pressure': {count}\")"
   ]
  },
  {
   "cell_type": "code",
   "execution_count": 50,
   "metadata": {},
   "outputs": [
    {
     "name": "stdout",
     "output_type": "stream",
     "text": [
      "          bmi medical_history\n",
      "7       30.51   Heart disease\n",
      "26      39.70   Heart disease\n",
      "30      41.15   Heart disease\n",
      "46      38.53   Heart disease\n",
      "49      40.31   Heart disease\n",
      "...       ...             ...\n",
      "999957  45.03   Heart disease\n",
      "999958  34.19   Heart disease\n",
      "999960  26.38   Heart disease\n",
      "999978  40.60   Heart disease\n",
      "999997  39.84   Heart disease\n",
      "\n",
      "[146856 rows x 2 columns]\n",
      "조건: bmi >= 25 그리고 medical_history == 'Heart disease': 146856\n"
     ]
    }
   ],
   "source": [
    "## bmi >= 25 그리고 medical_history == 'Heart disease'\n",
    "filtered_data = data[(data['bmi'] >= 25) & (data['medical_history'] == 'Heart disease')]\n",
    "filtered_columns2 = filtered_data[['bmi', 'medical_history']]\n",
    "\n",
    "print(filtered_columns2)\n",
    "\n",
    "count = len(filtered_columns2)\n",
    "\n",
    "# 결과 출력\n",
    "print(f\"조건: bmi >= 25 그리고 medical_history == 'Heart disease': {count}\")"
   ]
  },
  {
   "cell_type": "code",
   "execution_count": 51,
   "metadata": {},
   "outputs": [
    {
     "name": "stdout",
     "output_type": "stream",
     "text": [
      "exercise_frequency  medical_history    \n",
      "Frequently          Heart disease          46883\n",
      "                    High blood pressure    46781\n",
      "                    Diabetes               46541\n",
      "Never               High blood pressure    46857\n",
      "                    Diabetes               46792\n",
      "                    Heart disease          46636\n",
      "Occasionally        Heart disease          47207\n",
      "                    High blood pressure    46763\n",
      "                    Diabetes               46645\n",
      "Rarely              Heart disease          47120\n",
      "                    Diabetes               46979\n",
      "                    High blood pressure    46468\n",
      "Name: count, dtype: int64\n"
     ]
    }
   ],
   "source": [
    "## 'exercise_frequency' 열로 그룹화하고 'medical_history' 열을 분류\n",
    "exercisemedicalhistory_counts= data.groupby('exercise_frequency')['medical_history'].value_counts()\n",
    "\n",
    "# 결과 출력\n",
    "print(exercisemedicalhistory_counts)\n",
    "\n",
    "## 필요없을듯"
   ]
  },
  {
   "cell_type": "code",
   "execution_count": null,
   "metadata": {},
   "outputs": [],
   "source": []
  },
  {
   "cell_type": "code",
   "execution_count": null,
   "metadata": {},
   "outputs": [],
   "source": []
  }
 ],
 "metadata": {
  "kernelspec": {
   "display_name": "Python 3",
   "language": "python",
   "name": "python3"
  },
  "language_info": {
   "codemirror_mode": {
    "name": "ipython",
    "version": 3
   },
   "file_extension": ".py",
   "mimetype": "text/x-python",
   "name": "python",
   "nbconvert_exporter": "python",
   "pygments_lexer": "ipython3",
   "version": "3.13.1"
  }
 },
 "nbformat": 4,
 "nbformat_minor": 2
}
